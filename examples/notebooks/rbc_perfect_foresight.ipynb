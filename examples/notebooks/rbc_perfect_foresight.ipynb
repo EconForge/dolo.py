{
 "metadata": {
  "name": ""
 },
 "nbformat": 3,
 "nbformat_minor": 0,
 "worksheets": [
  {
   "cells": [
    {
     "cell_type": "code",
     "collapsed": false,
     "input": [
      "from dolo import *"
     ],
     "language": "python",
     "metadata": {},
     "outputs": [],
     "prompt_number": 1
    },
    {
     "cell_type": "code",
     "collapsed": false,
     "input": [
      "model = yaml_import(\"../global_models/rbc_taxes.yaml\")"
     ],
     "language": "python",
     "metadata": {},
     "outputs": [],
     "prompt_number": 2
    },
    {
     "cell_type": "markdown",
     "metadata": {},
     "source": [
      "The model defined in `rbc_taxes.yaml` is the `rbc` model, with an agregate tax `g` that is proportional to income. "
     ]
    },
    {
     "cell_type": "code",
     "collapsed": false,
     "input": [
      "model"
     ],
     "language": "python",
     "metadata": {},
     "outputs": [
      {
       "html": [
        "Compiled model : rbc_taxes\n",
        "<table>\t<tr>\n",
        "\t\t<td> </td>\n",
        "\t\t<td>Equations </td>\n",
        "\t\t<td>Residuals </td>\n",
        "</tr>\n",
        "\t<tr>\n",
        "\t\t<td>transition </td>\n",
        "\t\t<td> </td>\n",
        "</tr>\n",
        "\t<tr>\n",
        "\t\t<td> </td>\n",
        "\t\t<td>$z_{t} = \\rho z_{t-1} + zbar \\left(- \\rho + 1\\right)$ </td>\n",
        "\t\t<td>0.0 </td>\n",
        "</tr>\n",
        "\t<tr>\n",
        "\t\t<td> </td>\n",
        "\t\t<td>$k_{t} = i_{t-1} + k_{t-1} \\left(- \\delta + 1\\right)$ </td>\n",
        "\t\t<td>0.0 </td>\n",
        "</tr>\n",
        "\t<tr>\n",
        "\t\t<td> </td>\n",
        "\t\t<td>$g_{t} = e_{g,t}$ </td>\n",
        "\t\t<td>0.0 </td>\n",
        "</tr>\n",
        "\t<tr>\n",
        "\t\t<td>arbitrage </td>\n",
        "\t\t<td> </td>\n",
        "</tr>\n",
        "\t<tr>\n",
        "\t\t<td> </td>\n",
        "\t\t<td>$1 = \\beta \\left(\\frac{c_{t}}{c_{t+1}}\\right)^{\\sigma} \\left(- \\delta + rk_{t+1} + 1\\right)$ </td>\n",
        "\t\t<td>-6.93889390391e-18 </td>\n",
        "</tr>\n",
        "\t<tr>\n",
        "\t\t<td> </td>\n",
        "\t\t<td>$w_{t} = \\chi c_{t}^{\\sigma} n_{t}^{\\eta}$ </td>\n",
        "\t\t<td>0.0 </td>\n",
        "</tr>\n",
        "\t<tr>\n",
        "\t\t<td>auxiliary </td>\n",
        "\t\t<td> </td>\n",
        "</tr>\n",
        "\t<tr>\n",
        "\t\t<td> </td>\n",
        "\t\t<td>$rk_{t} = \\alpha z_{t} \\left(\\frac{n_{t}}{k_{t}}\\right)^{- \\alpha + 1}$ </td>\n",
        "\t\t<td>0.0 </td>\n",
        "</tr>\n",
        "\t<tr>\n",
        "\t\t<td> </td>\n",
        "\t\t<td>$w_{t} = z_{t} \\left(\\frac{k_{t}}{n_{t}}\\right)^{\\alpha} \\left(- \\alpha + 1\\right)$ </td>\n",
        "\t\t<td>0.0 </td>\n",
        "</tr>\n",
        "\t<tr>\n",
        "\t\t<td> </td>\n",
        "\t\t<td>$y_{t} = k_{t}^{\\alpha} n_{t}^{- \\alpha + 1} z_{t}$ </td>\n",
        "\t\t<td>0.0 </td>\n",
        "</tr>\n",
        "\t<tr>\n",
        "\t\t<td> </td>\n",
        "\t\t<td>$c_{t} = - g_{t} - i_{t} + k_{t} rk_{t} + n_{t} w_{t}$ </td>\n",
        "\t\t<td>1.11022302463e-16 </td>\n",
        "</tr>\n",
        "</table>"
       ],
       "metadata": {},
       "output_type": "pyout",
       "prompt_number": 3,
       "text": [
        "<dolo.compiler.compiler_python.GModel at 0x3fde990>"
       ]
      }
     ],
     "prompt_number": 3
    },
    {
     "cell_type": "markdown",
     "metadata": {},
     "source": [
      "We want to compute the adjustment of the economy when this tax, goes back progressively from 10% to 0%, over 10 periods."
     ]
    },
    {
     "cell_type": "code",
     "collapsed": false,
     "input": [
      "exo_g = linspace(0.1,0,10) # this is a vector of size 10\n",
      "exo_g = atleast_2d(exo_g) # the solver expects a 1x10 vector\n",
      "print(exo_g.shape)"
     ],
     "language": "python",
     "metadata": {},
     "outputs": [
      {
       "output_type": "stream",
       "stream": "stdout",
       "text": [
        "(1, 10)\n"
       ]
      }
     ],
     "prompt_number": 4
    },
    {
     "cell_type": "code",
     "collapsed": false,
     "input": [
      "# Let's solve for the optimal adjustment by assuming that the\n",
      "# economy returns to steady-state after T=50 periods.\n",
      "from dolo.algos.perfect_foresight import deterministic_solve\n",
      "sim = deterministic_solve(model, shocks=exo_g, T=50)\n",
      "display(sim) # it returns a timeseries object"
     ],
     "language": "python",
     "metadata": {},
     "outputs": [
      {
       "html": [
        "<pre>\n",
        "&ltclass 'pandas.core.frame.DataFrame'&gt\n",
        "Int64Index: 51 entries, 0 to 50\n",
        "Data columns (total 9 columns):\n",
        "z     51  non-null values\n",
        "k     51  non-null values\n",
        "g     51  non-null values\n",
        "i     51  non-null values\n",
        "n     51  non-null values\n",
        "rk    51  non-null values\n",
        "w     51  non-null values\n",
        "y     51  non-null values\n",
        "c     51  non-null values\n",
        "dtypes: float64(9)\n",
        "</pre>"
       ],
       "metadata": {},
       "output_type": "display_data",
       "text": [
        "    z         k             g         i         n        rk         w  \\\n",
        "0   1  9.989641  1.000000e-01  0.156430  0.333379  0.033821  2.057579   \n",
        "1   1  9.896330  1.000000e-01  0.153070  0.332877  0.034000  2.052238   \n",
        "2   1  9.801991  8.888889e-02  0.160511  0.332315  0.034180  2.046903   \n",
        "3   1  9.717452  7.777778e-02  0.168225  0.331788  0.034342  2.042128   \n",
        "4   1  9.642742  6.666667e-02  0.176245  0.331305  0.034487  2.037913   \n",
        "5   1  9.577918  5.555556e-02  0.184603  0.330871  0.034613  2.034261   \n",
        "6   1  9.523073  4.444444e-02  0.193335  0.330494  0.034719  2.031174   \n",
        "7   1  9.478331  3.333333e-02  0.202476  0.330180  0.034807  2.028656   \n",
        "8   1  9.443849  2.222222e-02  0.212064  0.329938  0.034875  2.026710   \n",
        "9   1  9.419818  1.111111e-02  0.222138  0.329773  0.034923  2.025340   \n",
        "10  1  9.406460 -9.966120e-25  0.232736  0.329694  0.034950  2.024552   \n",
        "11  1  9.404034  1.365452e-24  0.232788  0.329708  0.034957  2.024351   \n",
        "12  1  9.401721 -1.939659e-24  0.232838  0.329721  0.034964  2.024160   \n",
        "13  1  9.399516 -7.775845e-26  0.232885  0.329734  0.034971  2.023977   \n",
        "14  1  9.397414 -6.811351e-25  0.232930  0.329746  0.034977  2.023803   \n",
        "15  1  9.395409 -1.827598e-25  0.232973  0.329758  0.034983  2.023637   \n",
        "16  1  9.393497 -1.721543e-26  0.233014  0.329769  0.034988  2.023478   \n",
        "17  1  9.391673 -5.862174e-26  0.233053  0.329780  0.034993  2.023327   \n",
        "18  1  9.389934  1.116590e-24  0.233090  0.329790  0.034998  2.023184   \n",
        "19  1  9.388276 -8.140020e-25  0.233125  0.329799  0.035003  2.023046   \n",
        "20  1  9.386694 -1.650095e-25  0.233158  0.329808  0.035008  2.022915   \n",
        "21  1  9.385184 -3.279511e-25  0.233190  0.329817  0.035012  2.022791   \n",
        "22  1  9.383745 -4.100730e-25  0.233220  0.329825  0.035016  2.022672   \n",
        "23  1  9.382371 -2.491736e-25  0.233248  0.329833  0.035020  2.022558   \n",
        "24  1  9.381060  5.498656e-25  0.233275  0.329840  0.035024  2.022450   \n",
        "25  1  9.379809  6.197503e-25  0.233301  0.329847  0.035028  2.022347   \n",
        "26  1  9.378615 -5.051712e-25  0.233325  0.329854  0.035031  2.022248   \n",
        "27  1  9.377475 -4.156611e-25  0.233348  0.329860  0.035035  2.022154   \n",
        "28  1  9.376386 -3.262699e-25  0.233370  0.329866  0.035038  2.022064   \n",
        "29  1  9.375346  9.121664e-26  0.233391  0.329872  0.035041  2.021979   \n",
        "30  1  9.374353 -1.477071e-25  0.233410  0.329877  0.035044  2.021897   \n",
        "31  1  9.373405 -2.441351e-25  0.233428  0.329883  0.035046  2.021819   \n",
        "32  1  9.372498  2.122773e-25  0.233446  0.329887  0.035049  2.021745   \n",
        "33  1  9.371631 -4.092002e-26  0.233462  0.329892  0.035052  2.021674   \n",
        "34  1  9.370802 -4.987536e-26  0.233477  0.329896  0.035054  2.021606   \n",
        "35  1  9.370009 -1.033091e-25  0.233491  0.329900  0.035056  2.021542   \n",
        "36  1  9.369250  1.499231e-25  0.233505  0.329904  0.035058  2.021480   \n",
        "37  1  9.368523  2.269793e-26  0.233517  0.329908  0.035060  2.021421   \n",
        "38  1  9.367827  6.680666e-26  0.233529  0.329911  0.035062  2.021364   \n",
        "39  1  9.367160  1.172258e-25  0.233539  0.329914  0.035064  2.021310   \n",
        "40  1  9.366520 -4.977025e-25  0.233549  0.329917  0.035066  2.021259   \n",
        "41  1  9.365906 -1.433827e-26  0.233558  0.329920  0.035068  2.021209   \n",
        "42  1  9.365317  2.152033e-25  0.233566  0.329923  0.035070  2.021162   \n",
        "43  1  9.364750  8.478958e-26  0.233574  0.329925  0.035071  2.021117   \n",
        "44  1  9.364206 -2.099573e-25  0.233581  0.329927  0.035073  2.021074   \n",
        "45  1  9.363681 -1.502402e-25  0.233587  0.329929  0.035074  2.021032   \n",
        "46  1  9.363176 -6.175967e-26  0.233592  0.329931  0.035076  2.020993   \n",
        "47  1  9.362688  1.466059e-25  0.233596  0.329933  0.035077  2.020955   \n",
        "48  1  9.362217 -2.195102e-25  0.233600  0.329934  0.035078  2.020918   \n",
        "49  1  9.361762  0.000000e+00  0.233603  0.329936  0.035079  2.020883   \n",
        "50  1  9.361321 -1.623292e-23  0.233603  0.329936  0.035080  2.020851   \n",
        "\n",
        "           y         c  \n",
        "0   1.023812  0.767383  \n",
        "1   1.019616  0.766546  \n",
        "2   1.015247  0.765847  \n",
        "3   1.011275  0.765272  \n",
        "4   1.007718  0.764807  \n",
        "5   1.004595  0.764437  \n",
        "6   1.001927  0.764148  \n",
        "7   0.999735  0.763926  \n",
        "8   0.998041  0.763755  \n",
        "9   0.996869  0.763620  \n",
        "10  0.996242  0.763506  \n",
        "11  0.996186  0.763398  \n",
        "12  0.996132  0.763294  \n",
        "13  0.996081  0.763196  \n",
        "14  0.996032  0.763102  \n",
        "15  0.995985  0.763012  \n",
        "16  0.995941  0.762927  \n",
        "17  0.995898  0.762846  \n",
        "18  0.995858  0.762768  \n",
        "19  0.995819  0.762694  \n",
        "20  0.995782  0.762624  \n",
        "21  0.995747  0.762557  \n",
        "22  0.995713  0.762493  \n",
        "23  0.995681  0.762432  \n",
        "24  0.995650  0.762374  \n",
        "25  0.995620  0.762319  \n",
        "26  0.995592  0.762266  \n",
        "27  0.995565  0.762216  \n",
        "28  0.995539  0.762169  \n",
        "29  0.995514  0.762123  \n",
        "30  0.995490  0.762080  \n",
        "31  0.995467  0.762039  \n",
        "32  0.995445  0.762000  \n",
        "33  0.995424  0.761962  \n",
        "34  0.995404  0.761927  \n",
        "35  0.995384  0.761893  \n",
        "36  0.995365  0.761861  \n",
        "37  0.995347  0.761830  \n",
        "38  0.995330  0.761801  \n",
        "39  0.995313  0.761773  \n",
        "40  0.995296  0.761747  \n",
        "41  0.995280  0.761722  \n",
        "42  0.995265  0.761698  \n",
        "43  0.995250  0.761676  \n",
        "44  0.995235  0.761654  \n",
        "45  0.995221  0.761634  \n",
        "46  0.995207  0.761615  \n",
        "47  0.995193  0.761597  \n",
        "48  0.995180  0.761579  \n",
        "49  0.995166  0.761563  \n",
        "50  0.995151  0.761548  "
       ]
      }
     ],
     "prompt_number": 9
    },
    {
     "cell_type": "code",
     "collapsed": false,
     "input": [
      "figsize(10,10)\n",
      "subplot(221)\n",
      "plot(sim['k'], label='capital')\n",
      "plot(sim['y'], label='production')\n",
      "legend()\n",
      "subplot(222)\n",
      "plot(sim['g'], label='investment')\n",
      "plot(sim['c'], label='consumption')\n",
      "legend()\n",
      "subplot(223)\n",
      "plot(sim['n'], label='work')\n",
      "plot(sim['i'], label='investment')\n",
      "legend()\n",
      "subplot(224)\n",
      "plot(sim['w'], label='wages')\n",
      "legend()"
     ],
     "language": "python",
     "metadata": {},
     "outputs": [
      {
       "metadata": {},
       "output_type": "pyout",
       "prompt_number": 13,
       "text": [
        "<matplotlib.legend.Legend at 0x596cd50>"
       ]
      },
      {
       "metadata": {},
       "output_type": "display_data",
       "png": "[encoded data removed]",
       "text": [
        "<matplotlib.figure.Figure at 0x492ebd0>"
       ]
      }
     ],
     "prompt_number": 13
    }
   ],
   "metadata": {}
  }
 ]
}