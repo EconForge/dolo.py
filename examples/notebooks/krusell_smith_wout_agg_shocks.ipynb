{
 "cells": [
  {
   "cell_type": "code",
   "execution_count": 1,
   "metadata": {},
   "outputs": [],
   "source": [
    "from dolo import *"
   ]
  },
  {
   "cell_type": "code",
   "execution_count": 2,
   "metadata": {},
   "outputs": [
    {
     "name": "stderr",
     "output_type": "stream",
     "text": [
      "\u001b[33mYAMLLoadWarning\u001b[0m:c:\\users\\normann\\dropbox\\github\\dolo\\dolo\\compiler\\recipes.py:20\n",
      "    calling yaml.load() without Loader=... is deprecated, as the default Loader is unsafe. Please read https://msg.pyyaml.org/load for full details.\n"
     ]
    }
   ],
   "source": [
    "model = yaml_import('../models/aiyagari_ind.yaml')"
   ]
  },
  {
   "cell_type": "code",
   "execution_count": 3,
   "metadata": {},
   "outputs": [],
   "source": [
    "from dolo.numeric.processes import DiscreteMarkovProcess, MarkovProduct\n",
    "r = 1.03\n",
    "w = 0.956\n",
    "\n",
    "exo = dict()\n",
    "exo['z'] = DiscreteMarkovProcess([[0.9,0.1],[0.1,0.9]],[0.,1.])\n",
    "exo['r'] = DiscreteMarkovProcess([[1.]],[r])\n",
    "exo['w'] = DiscreteMarkovProcess([[1.]],[w])\n",
    "\n",
    "dprocs = MarkovProduct(*[exo[k] for k in model.symbols['exogenous']]).discretize() "
   ]
  },
  {
   "cell_type": "code",
   "execution_count": 4,
   "metadata": {},
   "outputs": [
    {
     "name": "stdout",
     "output_type": "stream",
     "text": [
      "Solving WITH complementarities.\n",
      "------------------------------------------------\n",
      "| N   |  Error     | Gain     | Time     | nit |\n",
      "------------------------------------------------\n"
     ]
    },
    {
     "name": "stderr",
     "output_type": "stream",
     "text": [
      "\u001b[33mUserWarning\u001b[0m:c:\\users\\normann\\dropbox\\github\\dolo\\dolo\\numeric\\optimize\\newton.py:150\n",
      "    Did not converge\n"
     ]
    },
    {
     "name": "stdout",
     "output_type": "stream",
     "text": [
      "|   1 |  6.772e+00 |      nan |    4.198 |  10 |\n",
      "|   2 |  4.331e+00 |    0.639 |    0.218 |  10 |\n",
      "|   3 |  2.327e+00 |    0.537 |    0.203 |  10 |\n",
      "|   4 |  1.295e+00 |    0.556 |    0.187 |  10 |\n",
      "|   5 |  8.043e-01 |    0.621 |    0.203 |  10 |\n",
      "|   6 |  4.549e-01 |    0.566 |    0.234 |  10 |\n",
      "|   7 |  4.216e-01 |    0.927 |    0.203 |  10 |\n",
      "|   8 |  3.187e-01 |    0.756 |    0.218 |  10 |\n",
      "|   9 |  2.450e-01 |    0.769 |    0.250 |  10 |\n",
      "|  10 |  1.912e-01 |    0.780 |    0.251 |  10 |\n",
      "|  11 |  3.858e-01 |    2.018 |    0.234 |  10 |\n",
      "|  12 |  1.438e-01 |    0.373 |    0.312 |  10 |\n",
      "|  13 |  3.665e-02 |    0.255 |    0.421 |  10 |\n",
      "|  14 |  1.481e-01 |    4.041 |    0.250 |  10 |\n",
      "|  15 |  7.268e-01 |    4.908 |    0.281 |  10 |\n",
      "|  16 |  6.964e-01 |    0.958 |    0.312 |  10 |\n",
      "|  17 |  6.293e-01 |    0.904 |    0.187 |  10 |\n",
      "|  18 |  7.364e-01 |    1.170 |    0.187 |  10 |\n",
      "|  19 |  2.901e-01 |    0.394 |    0.094 |   6 |\n",
      "|  20 |  1.442e-01 |    0.497 |    0.078 |   5 |\n",
      "|  21 |  7.551e-02 |    0.524 |    0.062 |   5 |\n",
      "|  22 |  4.623e-02 |    0.612 |    0.078 |   5 |\n",
      "|  23 |  8.761e-02 |    1.895 |    0.094 |   6 |\n",
      "|  24 |  3.741e-02 |    0.427 |    0.062 |   5 |\n",
      "|  25 |  1.790e-01 |    4.784 |    0.078 |   5 |\n",
      "|  26 |  1.668e-01 |    0.932 |    0.094 |   6 |\n",
      "|  27 |  1.458e-01 |    0.874 |    0.156 |   9 |\n",
      "|  28 |  1.343e-01 |    0.921 |    0.094 |   6 |\n",
      "|  29 |  1.329e-01 |    0.990 |    0.078 |   6 |\n",
      "|  30 |  1.304e-01 |    0.981 |    0.078 |   5 |\n",
      "|  31 |  1.247e-01 |    0.956 |    0.078 |   5 |\n",
      "|  32 |  1.196e-01 |    0.959 |    0.109 |   7 |\n",
      "|  33 |  1.156e-01 |    0.967 |    0.109 |   7 |\n",
      "|  34 |  1.113e-01 |    0.963 |    0.094 |   6 |\n",
      "|  35 |  1.028e-01 |    0.923 |    0.078 |   6 |\n",
      "|  36 |  9.024e-02 |    0.878 |    0.109 |   7 |\n",
      "|  37 |  7.675e-02 |    0.850 |    0.078 |   6 |\n",
      "|  38 |  6.797e-02 |    0.886 |    0.078 |   5 |\n",
      "|  39 |  6.341e-02 |    0.933 |    0.078 |   5 |\n",
      "|  40 |  6.260e-02 |    0.987 |    0.078 |   6 |\n",
      "|  41 |  6.323e-02 |    1.010 |    0.062 |   5 |\n",
      "|  42 |  5.856e-02 |    0.926 |    0.062 |   4 |\n",
      "|  43 |  5.269e-02 |    0.900 |    0.047 |   3 |\n",
      "|  44 |  4.516e-02 |    0.857 |    0.062 |   4 |\n",
      "|  45 |  4.459e-02 |    0.987 |    0.047 |   3 |\n",
      "|  46 |  4.140e-02 |    0.928 |    0.047 |   4 |\n",
      "|  47 |  3.859e-02 |    0.932 |    0.062 |   4 |\n",
      "|  48 |  3.614e-02 |    0.936 |    0.047 |   3 |\n",
      "|  49 |  3.141e-02 |    0.869 |    0.047 |   3 |\n",
      "|  50 |  2.564e-02 |    0.817 |    0.047 |   3 |\n",
      "|  51 |  2.435e-02 |    0.949 |    0.047 |   3 |\n",
      "|  52 |  2.243e-02 |    0.921 |    0.047 |   3 |\n",
      "|  53 |  1.943e-02 |    0.866 |    0.047 |   3 |\n",
      "|  54 |  1.694e-02 |    0.872 |    0.031 |   3 |\n",
      "|  55 |  1.526e-02 |    0.901 |    0.047 |   3 |\n",
      "|  56 |  1.430e-02 |    0.937 |    0.047 |   3 |\n",
      "|  57 |  1.341e-02 |    0.938 |    0.047 |   3 |\n",
      "|  58 |  1.114e-02 |    0.831 |    0.047 |   3 |\n",
      "|  59 |  1.054e-02 |    0.946 |    0.031 |   2 |\n",
      "|  60 |  8.731e-03 |    0.828 |    0.016 |   2 |\n",
      "|  61 |  8.098e-03 |    0.927 |    0.047 |   2 |\n",
      "|  62 |  7.569e-03 |    0.935 |    0.031 |   2 |\n",
      "|  63 |  6.817e-03 |    0.901 |    0.016 |   2 |\n",
      "|  64 |  5.886e-03 |    0.863 |    0.031 |   2 |\n",
      "|  65 |  5.017e-03 |    0.852 |    0.031 |   2 |\n",
      "|  66 |  4.762e-03 |    0.949 |    0.031 |   2 |\n",
      "|  67 |  3.852e-03 |    0.809 |    0.031 |   2 |\n",
      "|  68 |  3.696e-03 |    0.960 |    0.047 |   2 |\n",
      "|  69 |  3.187e-03 |    0.862 |    0.031 |   2 |\n",
      "|  70 |  2.693e-03 |    0.845 |    0.031 |   2 |\n",
      "|  71 |  2.313e-03 |    0.859 |    0.016 |   2 |\n",
      "|  72 |  2.039e-03 |    0.881 |    0.031 |   2 |\n",
      "|  73 |  1.824e-03 |    0.895 |    0.031 |   2 |\n",
      "|  74 |  1.588e-03 |    0.870 |    0.031 |   2 |\n",
      "|  75 |  1.249e-03 |    0.787 |    0.031 |   2 |\n",
      "|  76 |  1.135e-03 |    0.908 |    0.031 |   2 |\n",
      "|  77 |  7.547e-04 |    0.665 |    0.031 |   2 |\n",
      "|  78 |  6.203e-04 |    0.822 |    0.031 |   2 |\n",
      "|  79 |  5.562e-04 |    0.897 |    0.031 |   2 |\n",
      "|  80 |  4.974e-04 |    0.894 |    0.047 |   2 |\n",
      "|  81 |  4.577e-04 |    0.920 |    0.031 |   2 |\n",
      "|  82 |  4.149e-04 |    0.906 |    0.032 |   2 |\n",
      "|  83 |  3.756e-04 |    0.905 |    0.016 |   2 |\n",
      "|  84 |  3.440e-04 |    0.916 |    0.031 |   2 |\n",
      "|  85 |  3.129e-04 |    0.910 |    0.031 |   2 |\n",
      "|  86 |  2.845e-04 |    0.909 |    0.047 |   2 |\n",
      "|  87 |  2.584e-04 |    0.908 |    0.016 |   1 |\n",
      "|  88 |  2.342e-04 |    0.906 |    0.016 |   1 |\n",
      "|  89 |  2.117e-04 |    0.904 |    0.016 |   1 |\n",
      "|  90 |  1.913e-04 |    0.904 |    0.016 |   1 |\n",
      "|  91 |  1.731e-04 |    0.904 |    0.016 |   1 |\n",
      "|  92 |  1.564e-04 |    0.904 |    0.016 |   1 |\n",
      "|  93 |  1.412e-04 |    0.903 |    0.016 |   1 |\n",
      "|  94 |  1.273e-04 |    0.901 |    0.016 |   1 |\n",
      "|  95 |  1.147e-04 |    0.901 |    0.016 |   1 |\n",
      "|  96 |  1.033e-04 |    0.901 |    0.016 |   1 |\n",
      "|  97 |  9.302e-05 |    0.900 |    0.016 |   1 |\n",
      "|  98 |  8.368e-05 |    0.900 |    0.016 |   1 |\n",
      "|  99 |  7.517e-05 |    0.898 |    0.031 |   1 |\n",
      "| 100 |  6.747e-05 |    0.898 |    0.016 |   1 |\n",
      "| 101 |  6.053e-05 |    0.897 |    0.016 |   1 |\n",
      "| 102 |  5.428e-05 |    0.897 |    0.016 |   1 |\n",
      "| 103 |  4.862e-05 |    0.896 |    0.016 |   1 |\n",
      "| 104 |  4.350e-05 |    0.895 |    0.016 |   1 |\n",
      "| 105 |  3.889e-05 |    0.894 |    0.016 |   1 |\n",
      "| 106 |  3.474e-05 |    0.893 |    0.016 |   1 |\n",
      "| 107 |  3.101e-05 |    0.893 |    0.016 |   1 |\n",
      "| 108 |  2.765e-05 |    0.891 |    0.016 |   1 |\n",
      "| 109 |  2.461e-05 |    0.890 |    0.016 |   1 |\n",
      "| 110 |  2.189e-05 |    0.889 |    0.016 |   1 |\n",
      "| 111 |  1.945e-05 |    0.888 |    0.031 |   1 |\n",
      "| 112 |  1.725e-05 |    0.887 |    0.016 |   1 |\n",
      "| 113 |  1.528e-05 |    0.886 |    0.016 |   1 |\n",
      "| 114 |  1.352e-05 |    0.884 |    0.016 |   1 |\n",
      "| 115 |  1.194e-05 |    0.883 |    0.016 |   1 |\n",
      "| 116 |  1.052e-05 |    0.882 |    0.016 |   1 |\n",
      "| 117 |  9.255e-06 |    0.880 |    0.016 |   1 |\n",
      "| 118 |  8.123e-06 |    0.878 |    0.016 |   1 |\n",
      "| 119 |  7.114e-06 |    0.876 |    0.016 |   1 |\n",
      "| 120 |  6.215e-06 |    0.874 |    0.016 |   1 |\n",
      "| 121 |  5.412e-06 |    0.871 |    0.016 |   1 |\n",
      "| 122 |  4.698e-06 |    0.868 |    0.016 |   1 |\n",
      "| 123 |  4.064e-06 |    0.865 |    0.016 |   1 |\n",
      "| 124 |  3.500e-06 |    0.861 |    0.016 |   1 |\n",
      "| 125 |  3.002e-06 |    0.858 |    0.016 |   1 |\n",
      "| 126 |  2.559e-06 |    0.852 |    0.016 |   1 |\n",
      "| 127 |  2.169e-06 |    0.848 |    0.016 |   1 |\n",
      "| 128 |  1.823e-06 |    0.840 |    0.031 |   1 |\n",
      "| 129 |  1.520e-06 |    0.834 |    0.016 |   1 |\n",
      "| 130 |  1.394e-06 |    0.917 |    0.016 |   1 |\n",
      "| 131 |  1.311e-06 |    0.940 |    0.016 |   1 |\n",
      "| 132 |  1.233e-06 |    0.941 |    0.031 |   1 |\n",
      "| 133 |  1.161e-06 |    0.941 |    0.016 |   1 |\n",
      "| 134 |  1.093e-06 |    0.942 |    0.016 |   1 |\n",
      "| 135 |  1.030e-06 |    0.942 |    0.016 |   1 |\n",
      "| 136 |  9.709e-07 |    0.943 |    0.016 |   1 |\n",
      "------------------------------------------------\n",
      "Elapsed: 12.967623233795166 seconds.\n",
      "------------------------------------------------\n"
     ]
    }
   ],
   "source": [
    "sol = time_iteration(model, dprocess=dprocs,verbose=True)"
   ]
  },
  {
   "cell_type": "code",
   "execution_count": 5,
   "metadata": {},
   "outputs": [
    {
     "data": {
      "text/plain": [
       "<matplotlib.legend.Legend at 0x17f83748>"
      ]
     },
     "execution_count": 5,
     "metadata": {},
     "output_type": "execute_result"
    },
    {
     "data": {
      "image/png": "[encoded data removed]",
      "text/plain": [
       "<Figure size 432x288 with 1 Axes>"
      ]
     },
     "metadata": {
      "needs_background": "light"
     },
     "output_type": "display_data"
    }
   ],
   "source": [
    "import matplotlib.pyplot as plt\n",
    "plt.plot(sol.endo_grid.nodes(),sol(0,sol.endo_grid.nodes()))\n",
    "plt.plot(sol.endo_grid.nodes(),sol(1,sol.endo_grid.nodes()))\n",
    "plt.plot(sol.endo_grid.nodes(),sol.endo_grid.nodes(),'k--')\n",
    "plt.xlabel(\"$a_t$\")\n",
    "plt.ylabel(\"$a_{t+1}$\")\n",
    "plt.legend([\"$z = 0$\",\"$z = 1$\",\"$a_{t+1} = a_{t}$\"])"
   ]
  },
  {
   "cell_type": "code",
   "execution_count": 6,
   "metadata": {},
   "outputs": [],
   "source": [
    "def find_last(x,l):\n",
    "    '''Finds the index i of a sorted list such that l[i] < x <= l[i+1]'''\n",
    "    if l.size == 0:\n",
    "        return -1\n",
    "    else:\n",
    "        h = l[0]\n",
    "        t = l[1:]\n",
    "        if h < x:\n",
    "            return 1+find_last(x,t)\n",
    "        else:\n",
    "            return 0\n",
    "\n",
    "import numpy as np\n",
    "\n",
    "def MarkovErgodic( A ):\n",
    "    \"\"\" x = xA where x is the answer\n",
    "    x - xA = 0\n",
    "    x( I - A ) = 0 and sum(x) = 1\n",
    "    \"\"\"\n",
    "    n = A.shape[0]\n",
    "    a = np.eye( n ) - A\n",
    "    a = np.vstack( (a.T, np.ones( n )) )\n",
    "    b = np.array( [0] * n + [ 1 ] ).T\n",
    "    return np.linalg.lstsq( a, b )[0]\n",
    "\n",
    "def MarkovPolicy(sol):\n",
    "    n_m = sol.exo_grid.__nodes__.shape[0]\n",
    "    n_s = sol.endo_grid.n[0]\n",
    "    P = sol.dprocess.transitions\n",
    "    n = n_m*n_s\n",
    "    Q = np.zeros((n,n))\n",
    "    for i_m_s in range(n):\n",
    "        i_s = i_m_s % n_s\n",
    "        i_m = (i_m_s-i_s) // n_s\n",
    "        i_s_next = find_last(sol.coefficients[i_m][1+i_s], sol.endo_grid.__nodes__)\n",
    "        for i_m_next in range(n_m):\n",
    "            Q[i_m_s,i_m_next*n_s + i_s_next] = P[i_m,i_m_next]\n",
    "    return Q\n",
    "\n",
    "def CapitalSupply(sol):\n",
    "    Q = MarkovPolicy(sol)\n",
    "    distr = MarkovErgodic(Q)\n",
    "    n_m = sol.exo_grid.__nodes__.shape[0]\n",
    "    grid_a = np.vstack([sol.endo_grid.__nodes__] * 2)\n",
    "    return np.sum(np.dot(distr,grid_a))"
   ]
  },
  {
   "cell_type": "code",
   "execution_count": 7,
   "metadata": {},
   "outputs": [],
   "source": [
    "A = 1\n",
    "N = 1\n",
    "alpha = 0.33\n",
    "delta = 0.05\n",
    "\n",
    "K = alpha*w*N/(1-alpha)/(delta+r-1)\n",
    "\n",
    "def rr(K):\n",
    "    return A*alpha*(N/K)**(1-alpha) - delta + 1\n",
    "def ww(K):\n",
    "    return A*(1-alpha)*(K/N)**(alpha)"
   ]
  },
  {
   "cell_type": "code",
   "execution_count": 8,
   "metadata": {},
   "outputs": [],
   "source": [
    "import time\n",
    "tol = 1e-9\n",
    "adj = 0.5\n",
    "s=sol\n",
    "dist = 1e10\n",
    "iter = 0\n",
    "iter_max = 100"
   ]
  },
  {
   "cell_type": "code",
   "execution_count": 9,
   "metadata": {},
   "outputs": [
    {
     "name": "stderr",
     "output_type": "stream",
     "text": [
      "\u001b[33mFutureWarning\u001b[0m:C:\\Users\\Normann\\Anaconda3\\envs\\dolo_github\\lib\\site-packages\\ipykernel_launcher.py:24\n",
      "    `rcond` parameter will change to the default of machine precision times ``max(M, N)`` where M and N are the input matrix dimensions.\n",
      "To use the future default and silence this warning we advise to pass `rcond=None`, to keep using the old, explicitly pass `rcond=-1`.\n"
     ]
    },
    {
     "name": "stdout",
     "output_type": "stream",
     "text": [
      "Iteration  1  :  13.500988861868596\n",
      "Iteration  2  :  5.347963446157944\n",
      "Iteration  3  :  1.0074452024763296\n",
      "Iteration  4  :  0.07594133382428936\n",
      "Iteration  5  :  0.0062935897085285575\n",
      "Iteration  6  :  0.0031467948542633906\n",
      "Iteration  7  :  0.0015733974271316953\n",
      "Iteration  8  :  0.0007866987135649595\n",
      "Iteration  9  :  0.00039334935678247973\n",
      "Iteration  10  :  0.00019667467839212804\n",
      "Iteration  11  :  9.833733919606402e-05\n",
      "Iteration  12  :  4.916866959803201e-05\n",
      "Iteration  13  :  2.4584334799016005e-05\n",
      "Iteration  14  :  1.2292167399508003e-05\n",
      "Iteration  15  :  6.146083698865823e-06\n",
      "Iteration  16  :  3.0730418494329115e-06\n",
      "Iteration  17  :  1.5365209247164557e-06\n",
      "Iteration  18  :  7.682604632464063e-07\n",
      "Iteration  19  :  3.8413023162320314e-07\n",
      "Iteration  20  :  1.9206511581160157e-07\n",
      "Iteration  21  :  9.603255790580079e-08\n",
      "Iteration  22  :  4.801627895290039e-08\n",
      "Iteration  23  :  2.4008139476450197e-08\n",
      "Iteration  24  :  1.2004068850046679e-08\n",
      "Iteration  25  :  6.002034425023339e-09\n",
      "Iteration  26  :  3.00101632433325e-09\n",
      "Iteration  27  :  1.500508162166625e-09\n",
      "Iteration  28  :  7.502549692617322e-10\n",
      "Elapsed: 27.38904857635498 seconds.\n"
     ]
    }
   ],
   "source": [
    "t1 = time.time()\n",
    "while (dist > tol) and (iter < iter_max) :\n",
    "    \n",
    "    exo = dict()\n",
    "    exo['z'] = DiscreteMarkovProcess([[0.9,0.1],[0.1,0.9]],[0.,1.])\n",
    "    exo['r'] = DiscreteMarkovProcess([[1.]],[rr(K)])\n",
    "    exo['w'] = DiscreteMarkovProcess([[1.]],[ww(K)])\n",
    "    \n",
    "    dprocs = MarkovProduct(*[exo[k] for k in model.symbols['exogenous']]).discretize()\n",
    "    \n",
    "    s = time_iteration(model, initial_guess=s, dprocess=dprocs, verbose=False)\n",
    "    \n",
    "    K_new = CapitalSupply(s)\n",
    "    dist = abs(K-K_new)\n",
    "\n",
    "    K = adj*K_new + (1-adj)*K\n",
    "    iter += 1\n",
    "\n",
    "    print(\"Iteration \",iter,\" : \", dist)\n",
    "t2 = time.time()\n",
    "print(\"Elapsed: {} seconds.\".format(t2-t1))"
   ]
  },
  {
   "cell_type": "code",
   "execution_count": 10,
   "metadata": {},
   "outputs": [
    {
     "data": {
      "text/plain": [
       "<matplotlib.legend.Legend at 0x1780aa20>"
      ]
     },
     "execution_count": 10,
     "metadata": {},
     "output_type": "execute_result"
    },
    {
     "data": {
      "image/png": "[encoded data removed]",
      "text/plain": [
       "<Figure size 432x288 with 1 Axes>"
      ]
     },
     "metadata": {
      "needs_background": "light"
     },
     "output_type": "display_data"
    }
   ],
   "source": [
    "#Policy function\n",
    "plt.plot(s.endo_grid.nodes(),sol(0,s.endo_grid.nodes()))\n",
    "plt.plot(s.endo_grid.nodes(),sol(1,s.endo_grid.nodes()))\n",
    "plt.plot(s.endo_grid.nodes(),sol.endo_grid.nodes(),'k--')\n",
    "plt.xlabel(\"$a_t$\")\n",
    "plt.ylabel(\"$a_{t+1}$\")\n",
    "plt.legend([\"$z = 0$\",\"$z = 1$\",\"$a_{t+1} = a_{t}$\"])"
   ]
  },
  {
   "cell_type": "code",
   "execution_count": 11,
   "metadata": {},
   "outputs": [
    {
     "name": "stderr",
     "output_type": "stream",
     "text": [
      "\u001b[33mFutureWarning\u001b[0m:C:\\Users\\Normann\\Anaconda3\\envs\\dolo_github\\lib\\site-packages\\ipykernel_launcher.py:24\n",
      "    `rcond` parameter will change to the default of machine precision times ``max(M, N)`` where M and N are the input matrix dimensions.\n",
      "To use the future default and silence this warning we advise to pass `rcond=None`, to keep using the old, explicitly pass `rcond=-1`.\n"
     ]
    }
   ],
   "source": [
    "#Asymptotic distribution of assets\n",
    "def AsymptoticDistribution(sol):\n",
    "    distr = MarkovErgodic(MarkovPolicy(sol))\n",
    "    n_m = sol.exo_grid.__nodes__.shape[0]\n",
    "    n_s = sol.endo_grid.n[0]\n",
    "    n = n_m*n_s\n",
    "    assets = np.zeros(n_s)\n",
    "    for i_s in range(n_s):\n",
    "        assets[i_s] = sum([distr[i_m*n_s + i_s] for i_m in range(n_m)])\n",
    "    return assets\n",
    "hist = AsymptoticDistribution(s)"
   ]
  },
  {
   "cell_type": "code",
   "execution_count": 12,
   "metadata": {},
   "outputs": [
    {
     "data": {
      "text/plain": [
       "Text(0.5, 1.0, 'Asymptotic density of assets')"
      ]
     },
     "execution_count": 12,
     "metadata": {},
     "output_type": "execute_result"
    },
    {
     "data": {
      "image/png": "[encoded data removed]",
      "text/plain": [
       "<Figure size 432x288 with 1 Axes>"
      ]
     },
     "metadata": {
      "needs_background": "light"
     },
     "output_type": "display_data"
    }
   ],
   "source": [
    "plt.plot(s.endo_grid.nodes(),hist)\n",
    "plt.xlabel(\"$a$\")\n",
    "plt.title(\"Asymptotic density of assets\")"
   ]
  },
  {
   "cell_type": "code",
   "execution_count": null,
   "metadata": {},
   "outputs": [],
   "source": []
  }
 ],
 "metadata": {
  "kernelspec": {
   "display_name": "Python 3",
   "language": "python",
   "name": "python3"
  },
  "language_info": {
   "codemirror_mode": {
    "name": "ipython",
    "version": 3
   },
   "file_extension": ".py",
   "mimetype": "text/x-python",
   "name": "python",
   "nbconvert_exporter": "python",
   "pygments_lexer": "ipython3",
   "version": "3.6.8"
  }
 },
 "nbformat": 4,
 "nbformat_minor": 2
}
