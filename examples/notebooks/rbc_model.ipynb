{
 "cells": [
  {
   "cell_type": "code",
   "execution_count": 1,
   "metadata": {},
   "outputs": [],
   "source": [
    "import numpy as np\n",
    "from matplotlib import pyplot as plt"
   ]
  },
  {
   "cell_type": "markdown",
   "metadata": {},
   "source": [
    "# Solving the rbc model\n",
    "\n",
    "This worksheet demonstrates how to solve the RBC model with the [dolo](http://econforge.github.io/dolo/) library \n",
    "and how to generates impulse responses and stochastic simulations from the solution.\n",
    "\n",
    "- This notebook is distributed with dolo in : ``examples\\notebooks\\``. The notebook was opened and run from that directory.\n",
    "- The model file is in : ``examples\\global_models\\``\n",
    "\n",
    "First we import the dolo library."
   ]
  },
  {
   "cell_type": "code",
   "execution_count": 2,
   "metadata": {},
   "outputs": [],
   "source": [
    "from dolo import *"
   ]
  },
  {
   "cell_type": "markdown",
   "metadata": {
    "run_control": {
     "breakpoint": false
    }
   },
   "source": [
    "The RBC model is defined in a [YAML](http://www.yaml.org/spec/1.2/spec.html#Introduction) file which we can read locally or pull off the web."
   ]
  },
  {
   "cell_type": "code",
   "execution_count": 3,
   "metadata": {
    "run_control": {
     "breakpoint": false
    }
   },
   "outputs": [
    {
     "name": "stdout",
     "output_type": "stream",
     "text": [
      "name: Real Business Cycle\r\n",
      "\r\n",
      "symbols:\r\n",
      "\r\n",
      "   exogenous: [e_z]\r\n",
      "   states: [z, k]\r\n",
      "   controls: [n, i]\r\n",
      "   expectations: [m]\r\n",
      "   values: [V]\r\n",
      "   parameters: [beta, sigma, eta, chi, delta, alpha, rho, zbar, sig_z]\r\n",
      "   rewards: [u]\r\n",
      "\r\n",
      "definitions:\r\n",
      "    y: exp(z)*k^alpha*n^(1-alpha)\r\n",
      "    c: y - i\r\n",
      "    rk: alpha*y/k\r\n",
      "    w: (1-alpha)*y/n\r\n",
      "\r\n",
      "equations:\r\n",
      "\r\n",
      "    arbitrage:\r\n",
      "        - chi*n^eta*c^sigma - w                     | 0.0 <= n <= inf\r\n",
      "        - 1 - beta*(c/c(1))^(sigma)*(1-delta+rk(1))  | 0.0 <= i <= inf\r\n",
      "\r\n",
      "\r\n",
      "    transition:\r\n",
      "        - z = rho*z(-1) + e_z\r\n",
      "        - k = (1-delta)*k(-1) + i(-1)\r\n",
      "\r\n",
      "    value:\r\n",
      "        - V = c^(1-sigma)/(1-sigma) - chi*n^(1+eta)/(1+eta) + beta*V(1)\r\n",
      "\r\n",
      "    felicity:\r\n",
      "        - u =  c^(1-sigma)/(1-sigma) - chi*n^(1+eta)/(1+eta)\r\n",
      "\r\n",
      "    expectation:\r\n",
      "        - m = beta/c(1)^sigma*(1-delta+rk(1))\r\n",
      "\r\n",
      "    direct_response:\r\n",
      "        - n = ((1-alpha)*exp(z)*k^alpha*m/chi)^(1/(eta+alpha))\r\n",
      "        - i = exp(z)*k^alpha*n^(1-alpha) - (m)^(-1/sigma)\r\n",
      "\r\n",
      "calibration:\r\n",
      "\r\n",
      "    # parameters\r\n",
      "    beta : 0.99\r\n",
      "    phi: 1\r\n",
      "    delta : 0.025\r\n",
      "    alpha : 0.33\r\n",
      "    rho : 0.8\r\n",
      "    sigma: 5\r\n",
      "    eta: 1\r\n",
      "    sig_z: 0.016\r\n",
      "    zbar: 0\r\n",
      "    chi : w/c^sigma/n^eta\r\n",
      "    c_i: 1.5\r\n",
      "    c_y: 0.5\r\n",
      "    e_z: 0.0\r\n",
      "\r\n",
      "    # endogenous variables\r\n",
      "    n: 0.33\r\n",
      "    z: zbar\r\n",
      "    rk: 1/beta-1+delta\r\n",
      "    w: (1-alpha)*exp(z)*(k/n)^(alpha)\r\n",
      "    k: n/(rk/alpha)^(1/(1-alpha))\r\n",
      "    y: exp(z)*k^alpha*n^(1-alpha)\r\n",
      "    i: delta*k\r\n",
      "    c: y - i\r\n",
      "    V: log(c)/(1-beta)\r\n",
      "    u: c^(1-sigma)/(1-sigma) - chi*n^(1+eta)/(1+eta)\r\n",
      "    m: beta/c^sigma*(1-delta+rk)\r\n",
      "\r\n",
      "exogenous: !Normal\r\n",
      "    Sigma: [[sig_z**2]]\r\n",
      "\r\n",
      "domain:\r\n",
      "    z: [-2*sig_z/(1-rho^2)^0.5,  2*sig_z/(1-rho^2)^0.5]\r\n",
      "    k: [ k*0.5, k*1.5]\r\n",
      "\r\n",
      "options:\r\n",
      "    grid: !Cartesian\r\n",
      "        n: [20, 20]\r\n",
      "# options:\r\n",
      "#     grid: !Smolyak\r\n",
      "#         mu: 3\r\n",
      "#         # orders: [5, 50]\r\n"
     ]
    }
   ],
   "source": [
    "# filename = ('https://raw.githubusercontent.com/EconForge/dolo'\n",
    "#             '/master/examples/models/compat/rbc.yaml')\n",
    "\n",
    "filename='../models/rbc.yaml'\n",
    "\n",
    "%cat $filename"
   ]
  },
  {
   "cell_type": "markdown",
   "metadata": {
    "run_control": {
     "breakpoint": false
    }
   },
   "source": [
    "`yaml_import(filename)` reads the YAML file and generates a model object. "
   ]
  },
  {
   "cell_type": "code",
   "execution_count": 4,
   "metadata": {},
   "outputs": [],
   "source": [
    "model = yaml_import(filename)"
   ]
  },
  {
   "cell_type": "markdown",
   "metadata": {
    "run_control": {
     "breakpoint": false
    }
   },
   "source": [
    "The model file already has values for steady-state variables stated in the calibration section so we can go ahead and check that they are correct by computing the model equations at the steady state."
   ]
  },
  {
   "cell_type": "code",
   "execution_count": 5,
   "metadata": {},
   "outputs": [
    {
     "data": {
      "text/plain": [
       "{'transition': array([0., 0.]),\n",
       " 'arbitrage': array([-4.4408921e-16,  0.0000000e+00])}"
      ]
     },
     "execution_count": 5,
     "metadata": {},
     "output_type": "execute_result"
    }
   ],
   "source": [
    "model.residuals()"
   ]
  },
  {
   "cell_type": "markdown",
   "metadata": {
    "run_control": {
     "breakpoint": false
    }
   },
   "source": [
    "Printing the model also lets us have a look at all the model equations and check that all residual errors are 0 at the steady-state, but with less display prescision."
   ]
  },
  {
   "cell_type": "code",
   "execution_count": 6,
   "metadata": {},
   "outputs": [
    {
     "name": "stdout",
     "output_type": "stream",
     "text": [
      "\n",
      "        Model:\n",
      "        ------\n",
      "        name: \"Real Business Cycle\"\n",
      "        type: \"dtcc\"\n",
      "        file: \"../models/rbc.yaml\n",
      "\n",
      "Equations:\n",
      "----------\n",
      "\n",
      "transition\n",
      " 1  : 0.0000 : z(0) == (rho) * (z(-(1))) + e_z(0)\n",
      " 2  : 0.0000 : k(0) == ((1) - (delta)) * (k(-(1))) + i(-(1))\n",
      "\n",
      "arbitrage\n",
      " 1  : 0.0000 : (((chi) * ((n(0)) ** (eta))) * ((c(0)) ** (sigma))) - (w(0))\n",
      " 2  : 0.0000 : (1) - (((beta) * (((c(0)) / (c(1))) ** (sigma))) * ((1) - (delta) + rk(1)))\n",
      "\n",
      "definitions\n",
      " 1  : y = exp(z)*k**alpha*n**(1-alpha)\n",
      " 2  : c = y - i\n",
      " 3  : rk = alpha*y/k\n",
      " 4  : w = (1-alpha)*y/n\n",
      "\n",
      "\n"
     ]
    }
   ],
   "source": [
    "print( model ) "
   ]
  },
  {
   "cell_type": "markdown",
   "metadata": {
    "run_control": {
     "breakpoint": false
    }
   },
   "source": [
    "Next we compute a solution to the model using a first order perturbation method (see the source for the [approximate_controls](https://github.com/EconForge/dolo/blob/master/dolo/algos/perturbation.py) function). The result is a decsion rule object. By decision rule we refer to any object that is callable and maps states to decisions. This particular decision rule object is a TaylorExpansion (see the source for the [TaylorExpansion](https://github.com/EconForge/dolo/blob/master/dolo/numeric/taylor_expansion.py)  class)."
   ]
  },
  {
   "cell_type": "code",
   "execution_count": 7,
   "metadata": {
    "run_control": {
     "breakpoint": false
    }
   },
   "outputs": [],
   "source": [
    "dr_pert = perturbate(model)"
   ]
  },
  {
   "cell_type": "markdown",
   "metadata": {},
   "source": [
    "We now compute the global solution (see the source for the [time_iteration](https://github.com/EconForge/dolo/blob/master/dolo/algos/time_iteration.py) function). It returns a decision rule object of type SmolyakGrid (see the source for the [SmolyakGrid](https://github.com/EconForge/dolo/blob/master/dolo/numeric/interpolation/smolyak.py) class)."
   ]
  },
  {
   "cell_type": "code",
   "execution_count": 8,
   "metadata": {},
   "outputs": [
    {
     "name": "stdout",
     "output_type": "stream",
     "text": [
      "Solving WITH complementarities.\n",
      "------------------------------------------------\n",
      "| N   |  Error     | Gain     | Time     | nit |\n",
      "------------------------------------------------\n",
      "|   1 |  6.178e-01 |      nan |    0.305 |   8 |\n",
      "|   2 |  1.571e-01 |    0.254 |    0.138 |   5 |\n",
      "|   3 |  1.019e-01 |    0.649 |    0.153 |   5 |\n",
      "|   4 |  7.094e-02 |    0.696 |    0.110 |   4 |\n",
      "|   5 |  5.213e-02 |    0.735 |    0.114 |   4 |\n",
      "|   6 |  3.972e-02 |    0.762 |    0.123 |   4 |\n",
      "|   7 |  3.108e-02 |    0.783 |    0.113 |   4 |\n",
      "|   8 |  2.484e-02 |    0.799 |    0.115 |   4 |\n",
      "|   9 |  2.019e-02 |    0.813 |    0.122 |   4 |\n",
      "|  10 |  1.664e-02 |    0.824 |    0.118 |   4 |\n",
      "|  11 |  1.387e-02 |    0.834 |    0.081 |   3 |\n",
      "|  12 |  1.169e-02 |    0.842 |    0.104 |   3 |\n",
      "|  13 |  9.931e-03 |    0.850 |    0.092 |   3 |\n",
      "|  14 |  8.692e-03 |    0.875 |    0.083 |   3 |\n",
      "|  15 |  7.784e-03 |    0.896 |    0.274 |   3 |\n",
      "|  16 |  6.989e-03 |    0.898 |    0.088 |   3 |\n",
      "|  17 |  6.293e-03 |    0.900 |    0.085 |   3 |\n",
      "|  18 |  5.682e-03 |    0.903 |    0.101 |   3 |\n",
      "|  19 |  5.144e-03 |    0.905 |    0.083 |   3 |\n",
      "|  20 |  4.669e-03 |    0.908 |    0.082 |   3 |\n",
      "|  21 |  4.247e-03 |    0.910 |    0.115 |   3 |\n",
      "|  22 |  3.870e-03 |    0.911 |    0.085 |   3 |\n",
      "|  23 |  3.534e-03 |    0.913 |    0.080 |   3 |\n",
      "|  24 |  3.231e-03 |    0.914 |    0.094 |   3 |\n",
      "|  25 |  2.958e-03 |    0.916 |    0.092 |   3 |\n",
      "|  26 |  2.711e-03 |    0.917 |    0.083 |   3 |\n",
      "|  27 |  2.488e-03 |    0.918 |    0.096 |   3 |\n",
      "|  28 |  2.285e-03 |    0.918 |    0.061 |   2 |\n",
      "|  29 |  2.100e-03 |    0.919 |    0.056 |   2 |\n",
      "|  30 |  1.931e-03 |    0.920 |    0.059 |   2 |\n",
      "|  31 |  1.777e-03 |    0.920 |    0.063 |   2 |\n",
      "|  32 |  1.636e-03 |    0.921 |    0.067 |   2 |\n",
      "|  33 |  1.507e-03 |    0.921 |    0.056 |   2 |\n",
      "|  34 |  1.388e-03 |    0.921 |    0.059 |   2 |\n",
      "|  35 |  1.280e-03 |    0.922 |    0.068 |   2 |\n",
      "|  36 |  1.180e-03 |    0.922 |    0.070 |   2 |\n",
      "|  37 |  1.088e-03 |    0.922 |    0.061 |   2 |\n",
      "|  38 |  1.003e-03 |    0.922 |    0.059 |   2 |\n",
      "|  39 |  9.249e-04 |    0.922 |    0.077 |   2 |\n",
      "|  40 |  8.531e-04 |    0.922 |    0.246 |   2 |\n",
      "|  41 |  7.868e-04 |    0.922 |    0.068 |   2 |\n",
      "|  42 |  7.257e-04 |    0.922 |    0.060 |   2 |\n",
      "|  43 |  6.694e-04 |    0.922 |    0.066 |   2 |\n",
      "|  44 |  6.174e-04 |    0.922 |    0.066 |   2 |\n",
      "|  45 |  5.693e-04 |    0.922 |    0.061 |   2 |\n",
      "|  46 |  5.250e-04 |    0.922 |    0.057 |   2 |\n",
      "|  47 |  4.841e-04 |    0.922 |    0.062 |   2 |\n",
      "|  48 |  4.463e-04 |    0.922 |    0.066 |   2 |\n",
      "|  49 |  4.114e-04 |    0.922 |    0.071 |   2 |\n",
      "|  50 |  3.792e-04 |    0.922 |    0.066 |   2 |\n",
      "|  51 |  3.494e-04 |    0.922 |    0.057 |   2 |\n",
      "|  52 |  3.219e-04 |    0.921 |    0.069 |   2 |\n",
      "|  53 |  2.966e-04 |    0.921 |    0.068 |   2 |\n",
      "|  54 |  2.731e-04 |    0.921 |    0.063 |   2 |\n",
      "|  55 |  2.515e-04 |    0.921 |    0.070 |   2 |\n",
      "|  56 |  2.315e-04 |    0.920 |    0.071 |   2 |\n",
      "|  57 |  2.130e-04 |    0.920 |    0.059 |   2 |\n",
      "|  58 |  1.959e-04 |    0.920 |    0.062 |   2 |\n",
      "|  59 |  1.802e-04 |    0.920 |    0.070 |   2 |\n",
      "|  60 |  1.657e-04 |    0.919 |    0.071 |   2 |\n",
      "|  61 |  1.523e-04 |    0.919 |    0.067 |   2 |\n",
      "|  62 |  1.399e-04 |    0.919 |    0.057 |   2 |\n",
      "|  63 |  1.285e-04 |    0.918 |    0.072 |   2 |\n",
      "|  64 |  1.180e-04 |    0.918 |    0.061 |   2 |\n",
      "|  65 |  1.083e-04 |    0.918 |    0.060 |   2 |\n",
      "|  66 |  9.932e-05 |    0.917 |    0.057 |   2 |\n",
      "|  67 |  9.107e-05 |    0.917 |    0.065 |   2 |\n",
      "|  68 |  8.347e-05 |    0.917 |    0.066 |   2 |\n",
      "|  69 |  7.647e-05 |    0.916 |    0.057 |   2 |\n",
      "|  70 |  7.002e-05 |    0.916 |    0.234 |   2 |\n",
      "|  71 |  6.408e-05 |    0.915 |    0.058 |   2 |\n",
      "|  72 |  5.862e-05 |    0.915 |    0.058 |   2 |\n",
      "|  73 |  5.359e-05 |    0.914 |    0.055 |   2 |\n",
      "|  74 |  4.896e-05 |    0.914 |    0.063 |   2 |\n",
      "|  75 |  4.471e-05 |    0.913 |    0.066 |   2 |\n",
      "|  76 |  4.079e-05 |    0.912 |    0.036 |   1 |\n",
      "|  77 |  3.720e-05 |    0.912 |    0.037 |   1 |\n",
      "|  78 |  3.390e-05 |    0.911 |    0.036 |   1 |\n",
      "|  79 |  3.087e-05 |    0.911 |    0.038 |   1 |\n",
      "|  80 |  2.809e-05 |    0.910 |    0.046 |   1 |\n",
      "|  81 |  2.554e-05 |    0.909 |    0.042 |   1 |\n",
      "|  82 |  2.319e-05 |    0.908 |    0.035 |   1 |\n",
      "|  83 |  2.105e-05 |    0.907 |    0.038 |   1 |\n",
      "|  84 |  1.908e-05 |    0.907 |    0.035 |   1 |\n",
      "|  85 |  1.728e-05 |    0.906 |    0.037 |   1 |\n",
      "|  86 |  1.563e-05 |    0.904 |    0.042 |   1 |\n",
      "|  87 |  1.412e-05 |    0.903 |    0.035 |   1 |\n",
      "|  88 |  1.274e-05 |    0.902 |    0.035 |   1 |\n",
      "|  89 |  1.147e-05 |    0.901 |    0.040 |   1 |\n",
      "|  90 |  1.032e-05 |    0.899 |    0.035 |   1 |\n",
      "|  91 |  9.266e-06 |    0.898 |    0.043 |   1 |\n",
      "|  92 |  8.305e-06 |    0.896 |    0.045 |   1 |\n",
      "|  93 |  7.428e-06 |    0.894 |    0.041 |   1 |\n",
      "|  94 |  6.629e-06 |    0.892 |    0.037 |   1 |\n",
      "|  95 |  5.902e-06 |    0.890 |    0.035 |   1 |\n",
      "|  96 |  5.268e-06 |    0.893 |    0.091 |   1 |\n",
      "|  97 |  4.926e-06 |    0.935 |    0.046 |   1 |\n",
      "|  98 |  4.607e-06 |    0.935 |    0.031 |   1 |\n",
      "|  99 |  4.311e-06 |    0.936 |    0.030 |   1 |\n",
      "| 100 |  4.035e-06 |    0.936 |    0.032 |   1 |\n",
      "| 101 |  3.779e-06 |    0.936 |    0.037 |   1 |\n",
      "| 102 |  3.545e-06 |    0.938 |    0.043 |   1 |\n",
      "| 103 |  3.327e-06 |    0.939 |    0.042 |   1 |\n",
      "| 104 |  3.124e-06 |    0.939 |    0.046 |   1 |\n",
      "| 105 |  2.933e-06 |    0.939 |    0.050 |   1 |\n",
      "| 106 |  2.756e-06 |    0.940 |    0.047 |   1 |\n",
      "| 107 |  2.595e-06 |    0.941 |    0.051 |   1 |\n",
      "| 108 |  2.444e-06 |    0.942 |    0.074 |   1 |\n",
      "| 109 |  2.302e-06 |    0.942 |    0.056 |   1 |\n",
      "| 110 |  2.170e-06 |    0.942 |    0.043 |   1 |\n",
      "| 111 |  2.045e-06 |    0.943 |    0.048 |   1 |\n",
      "| 112 |  1.929e-06 |    0.943 |    0.210 |   1 |\n",
      "| 113 |  1.819e-06 |    0.943 |    0.041 |   1 |\n",
      "| 114 |  1.720e-06 |    0.945 |    0.030 |   1 |\n",
      "| 115 |  1.626e-06 |    0.946 |    0.037 |   1 |\n",
      "| 116 |  1.538e-06 |    0.946 |    0.035 |   1 |\n",
      "| 117 |  1.456e-06 |    0.946 |    0.032 |   1 |\n",
      "| 118 |  1.380e-06 |    0.948 |    0.035 |   1 |\n",
      "| 119 |  1.309e-06 |    0.948 |    0.037 |   1 |\n",
      "| 120 |  1.241e-06 |    0.948 |    0.042 |   1 |\n",
      "| 121 |  1.178e-06 |    0.949 |    0.037 |   1 |\n",
      "| 122 |  1.119e-06 |    0.950 |    0.036 |   1 |\n",
      "| 123 |  1.064e-06 |    0.951 |    0.034 |   1 |\n",
      "| 124 |  1.012e-06 |    0.951 |    0.045 |   1 |\n",
      "| 125 |  9.631e-07 |    0.952 |    0.041 |   1 |\n",
      "------------------------------------------------\n",
      "Elapsed: 8.780011177062988 seconds.\n",
      "------------------------------------------------\n"
     ]
    }
   ],
   "source": [
    "dr_global = time_iteration(model)"
   ]
  },
  {
   "cell_type": "markdown",
   "metadata": {},
   "source": [
    "# Decision rule\n",
    "\n",
    "Here we plot optimal investment and labour for different levels of capital (see the source for the [plot_decision_rule](https://github.com/EconForge/dolo/blob/master/dolo/algos/simulations.py) function)."
   ]
  },
  {
   "cell_type": "code",
   "execution_count": 9,
   "metadata": {},
   "outputs": [],
   "source": [
    "tab_global = tabulate(model, dr_global, 'k')\n",
    "tab_pert = tabulate(model, dr_pert, 'k')"
   ]
  },
  {
   "cell_type": "code",
   "execution_count": 10,
   "metadata": {},
   "outputs": [
    {
     "data": {
      "image/png": "[encoded data removed]",
      "text/plain": [
       "<Figure size 576x252 with 2 Axes>"
      ]
     },
     "metadata": {
      "needs_background": "light"
     },
     "output_type": "display_data"
    }
   ],
   "source": [
    "from matplotlib import pyplot as plt\n",
    "\n",
    "plt.figure(figsize=(8,3.5))\n",
    "\n",
    "plt.subplot(121)\n",
    "plt.plot(tab_global['k'], tab_global['i'], label='Global')\n",
    "plt.plot(tab_pert['k'], tab_pert['i'], label='Perturbation')\n",
    "plt.ylabel('i')\n",
    "plt.title('Investment')\n",
    "plt.legend()\n",
    "\n",
    "plt.subplot(122)\n",
    "plt.plot(tab_global['k'], tab_global['n'], label='Global')\n",
    "plt.plot(tab_pert['k'], tab_pert['n'], label='Perturbation')\n",
    "plt.ylabel('n')\n",
    "plt.title('Labour')\n",
    "plt.legend()\n",
    "\n",
    "plt.tight_layout()"
   ]
  },
  {
   "cell_type": "markdown",
   "metadata": {},
   "source": [
    "It would seem, according to this, that second order perturbation does very well for the RBC model. We will revisit this issue more rigorously when we explore the deviations from the model's arbitrage section equations.\n",
    "\n",
    "Let us repeat the calculation of investment decisions for various values of the depreciation rate, $\\delta$. Note that this is a comparative statics exercise, even though the models compared are dynamic."
   ]
  },
  {
   "cell_type": "code",
   "execution_count": 11,
   "metadata": {},
   "outputs": [
    {
     "data": {
      "image/png": "[encoded data removed]",
      "text/plain": [
       "<Figure size 360x216 with 1 Axes>"
      ]
     },
     "metadata": {
      "needs_background": "light"
     },
     "output_type": "display_data"
    }
   ],
   "source": [
    "original_delta = model.calibration['delta'] \n",
    "\n",
    "drs = []\n",
    "delta_values = np.linspace(0.01, 0.04,5)\n",
    "for val in delta_values:\n",
    "    model.set_calibration(delta=val)\n",
    "    drs.append(perturbate(model))\n",
    "\n",
    "    \n",
    "plt.figure(figsize=(5,3))\n",
    "\n",
    "for i,dr in enumerate(drs):\n",
    "    sim = tabulate(model, dr,'k')\n",
    "    plt.plot(sim['k'],sim['i'], label='$\\delta={}$'.format(delta_values[i]))\n",
    "plt.ylabel('i')\n",
    "plt.title('Investment')\n",
    "plt.legend(bbox_to_anchor=(1.05, 1), loc=2, borderaxespad=0.)\n",
    "\n",
    "model.set_calibration(delta=original_delta)"
   ]
  },
  {
   "cell_type": "markdown",
   "metadata": {
    "run_control": {
     "breakpoint": false
    }
   },
   "source": [
    "We find that more durable capital leads to higher steady state investment and slows the rate of convergence for capital (the slopes are roughly the same, which implies that relative to steady state capital investment responds stronger at higher $\\delta$; this is in addition to the direct effect of depreciation)."
   ]
  },
  {
   "cell_type": "markdown",
   "metadata": {},
   "source": [
    "# Use the model to simulate"
   ]
  },
  {
   "cell_type": "markdown",
   "metadata": {
    "run_control": {
     "breakpoint": false
    }
   },
   "source": [
    "We will use the deterministic steady-state as a starting point."
   ]
  },
  {
   "cell_type": "code",
   "execution_count": 12,
   "metadata": {
    "run_control": {
     "breakpoint": false
    }
   },
   "outputs": [
    {
     "name": "stdout",
     "output_type": "stream",
     "text": [
      "['z', 'k']=[0.         9.35497829]\n"
     ]
    }
   ],
   "source": [
    "s0 = model.calibration['states']\n",
    "print(str(model.symbols['states'])+'='+str(s0))"
   ]
  },
  {
   "cell_type": "markdown",
   "metadata": {
    "run_control": {
     "breakpoint": false
    }
   },
   "source": [
    "We also get the covariance matrix just in case. This is a one shock model so all we have is the variance of $e_z$."
   ]
  },
  {
   "cell_type": "code",
   "execution_count": 13,
   "metadata": {},
   "outputs": [
    {
     "data": {
      "text/plain": [
       "array([[0.000256]])"
      ]
     },
     "execution_count": 13,
     "metadata": {},
     "output_type": "execute_result"
    }
   ],
   "source": [
    "sigma2_ez = model.exogenous.Sigma\n",
    "sigma2_ez"
   ]
  },
  {
   "cell_type": "markdown",
   "metadata": {},
   "source": [
    "## Impulse response functions\n",
    "\n",
    "Consider a 10% shock to productivity."
   ]
  },
  {
   "cell_type": "code",
   "execution_count": 14,
   "metadata": {},
   "outputs": [
    {
     "name": "stdout",
     "output_type": "stream",
     "text": [
      "['z', 'k']=[0.         9.35497829]\n"
     ]
    }
   ],
   "source": [
    "s1 = s0.copy()\n",
    "s1[0] *= 1.1\n",
    "print(str(model.symbols['states'])+'='+str(s1))"
   ]
  },
  {
   "cell_type": "markdown",
   "metadata": {
    "run_control": {
     "breakpoint": false
    }
   },
   "source": [
    "The `simulate` function is used both to trace impulse response functions and to compute stochastic simulations. Choosing `n_exp>=1`, will result in that many \"stochastic\" simulations. With `n_exp = 0`, we get one single simulation without any stochastic shock (see the source for the [simulate](https://github.com/EconForge/dolo/blob/master/dolo/algos/simulations.py) function). \n",
    "The output is a panda table of size $H \\times n_v$ where $n_v$ is the number of variables in the model and $H$ the number of dates."
   ]
  },
  {
   "cell_type": "code",
   "execution_count": 15,
   "metadata": {},
   "outputs": [
    {
     "data": {
      "text/plain": [
       "<xarray.DataArray (T: 40, N: 10, V: 9)>\n",
       "array([[[-8.781440e-04,  0.000000e+00, ...,  2.801441e-02,  2.257603e+00],\n",
       "        [ 9.821705e-03,  0.000000e+00, ...,  2.801441e-02,  2.257603e+00],\n",
       "        ...,\n",
       "        [-9.818014e-03,  0.000000e+00, ...,  2.801441e-02,  2.257603e+00],\n",
       "        [ 2.606583e-03,  0.000000e+00, ...,  2.801441e-02,  2.257603e+00]],\n",
       "\n",
       "       [[ 3.034967e-02, -8.781440e-04, ...,  2.820367e-02,  2.247181e+00],\n",
       "        [-1.537316e-02,  9.821705e-03, ...,  2.860233e-02,  2.267625e+00],\n",
       "        ...,\n",
       "        [ 1.181195e-02, -9.818014e-03, ...,  2.787450e-02,  2.230255e+00],\n",
       "        [-1.249705e-03,  2.606583e-03, ...,  2.833295e-02,  2.253817e+00]],\n",
       "\n",
       "       ...,\n",
       "\n",
       "       [[-2.654096e-03, -2.445234e-02, ...,  3.200994e-02,  2.038346e+00],\n",
       "        [ 1.775004e-02, -1.103673e-02, ...,  3.180647e-02,  2.086113e+00],\n",
       "        ...,\n",
       "        [-1.227602e-03, -1.238188e-02, ...,  3.349962e-02,  2.029420e+00],\n",
       "        [-3.634368e-03, -2.472107e-02, ...,  3.095090e-02,  2.071574e+00]],\n",
       "\n",
       "       [[-2.462120e-02, -2.221597e-02, ...,  3.227682e-02,  2.036815e+00],\n",
       "        [ 4.272522e-03,  8.920660e-03, ...,  3.277620e-02,  2.117630e+00],\n",
       "        ...,\n",
       "        [ 3.726302e-02, -1.113311e-02, ...,  3.364392e-02,  2.028906e+00],\n",
       "        [ 3.924350e-03, -2.341122e-02, ...,  3.120950e-02,  2.067139e+00]]])\n",
       "Coordinates:\n",
       "  * T        (T) int64 0 1 2 3 4 5 6 7 8 9 10 ... 30 31 32 33 34 35 36 37 38 39\n",
       "  * N        (N) int64 0 1 2 3 4 5 6 7 8 9\n",
       "  * V        (V) <U3 'e_z' 'z' 'k' 'n' 'i' 'y' 'c' 'rk' 'w'"
      ]
     },
     "execution_count": 15,
     "metadata": {},
     "output_type": "execute_result"
    }
   ],
   "source": [
    "simulate(model, dr, N=10, T=40)"
   ]
  },
  {
   "cell_type": "code",
   "execution_count": 16,
   "metadata": {},
   "outputs": [],
   "source": [
    "from dolo.algos.simulations import response"
   ]
  },
  {
   "cell_type": "code",
   "execution_count": 17,
   "metadata": {},
   "outputs": [],
   "source": [
    "m0 = model.calibration[\"exogenous\"]"
   ]
  },
  {
   "cell_type": "code",
   "execution_count": 18,
   "metadata": {},
   "outputs": [],
   "source": [
    "s0 = model.calibration[\"states\"]"
   ]
  },
  {
   "cell_type": "code",
   "execution_count": 19,
   "metadata": {},
   "outputs": [
    {
     "data": {
      "text/plain": [
       "array([0.32988827, 0.23358015])"
      ]
     },
     "execution_count": 19,
     "metadata": {},
     "output_type": "execute_result"
    }
   ],
   "source": [
    "dr_global.eval_ms(m0, s0)"
   ]
  },
  {
   "cell_type": "code",
   "execution_count": 20,
   "metadata": {},
   "outputs": [],
   "source": [
    "irf = response(model,dr_global, 'e_z')\n"
   ]
  },
  {
   "cell_type": "markdown",
   "metadata": {
    "run_control": {
     "breakpoint": false
    }
   },
   "source": [
    "Let us plot the response of consumption and investment."
   ]
  },
  {
   "cell_type": "code",
   "execution_count": 21,
   "metadata": {},
   "outputs": [
    {
     "data": {
      "image/png": "[encoded data removed]",
      "text/plain": [
       "<Figure size 576x288 with 4 Axes>"
      ]
     },
     "metadata": {
      "needs_background": "light"
     },
     "output_type": "display_data"
    }
   ],
   "source": [
    "plt.figure(figsize=(8,4))\n",
    "plt.subplot(221)\n",
    "plt.plot(irf.sel(V='z'))\n",
    "plt.title('Productivity')\n",
    "plt.grid()\n",
    "plt.subplot(222)\n",
    "plt.plot(irf.sel(V='i'))\n",
    "plt.title('Investment')\n",
    "plt.grid()\n",
    "plt.subplot(223)\n",
    "plt.plot(irf.sel(V='n'))\n",
    "plt.grid()\n",
    "plt.title('Labour')\n",
    "plt.subplot(224)\n",
    "plt.plot(irf.sel(V='c'))\n",
    "plt.title('Consumption')\n",
    "plt.grid()\n",
    "plt.tight_layout()"
   ]
  },
  {
   "cell_type": "markdown",
   "metadata": {},
   "source": [
    "Note that the plotting is made using the wonderful [matplotlib](http://matplotlib.org/users/pyplot_tutorial.html) library. Read the online [tutorials](http://matplotlib.org/users/beginner.html) to learn how to customize the plots to your needs (e.g., using [latex](http://matplotlib.org/users/usetex.html) in annotations). If instead you would like to produce charts in Matlab, you can easily export the impulse response functions, or any other matrix, to a `.mat` file."
   ]
  },
  {
   "cell_type": "code",
   "execution_count": 22,
   "metadata": {},
   "outputs": [
    {
     "data": {
      "application/vnd.vegalite.v2+json": {
       "$schema": "https://vega.github.io/schema/vega-lite/v2.6.0.json",
       "config": {
        "view": {
         "height": 300,
         "width": 400
        }
       },
       "datasets": {
        "data-b879bf68f5b69d221a8793664f13a0a4": [
         {
          "T": 0,
          "c": 0.7612522490698979,
          "e_z": 0,
          "i": 0.2335801544782088,
          "k": 9.354978290145986,
          "n": 0.32988826854938796,
          "rk": 0.03509304703749902,
          "w": 2.0204953431905484,
          "y": 0.9948324035481066,
          "z": 0
         },
         {
          "T": 1,
          "c": 0.761247906240584,
          "e_z": 0.016,
          "i": 0.23358326172656663,
          "k": 9.354683987370546,
          "n": 0.3298927687448115,
          "rk": 0.03509410749442516,
          "w": 2.020465271409421,
          "y": 0.9948311679671507,
          "z": 0
         },
         {
          "T": 2,
          "c": 0.7623021498381124,
          "e_z": 0,
          "i": 0.2531937927687476,
          "k": 9.354400149412848,
          "n": 0.33215030522166555,
          "rk": 0.035824174261061305,
          "w": 2.0484168487893837,
          "y": 1.01549594260686,
          "z": 0.016
         },
         {
          "T": 3,
          "c": 0.7623735616828597,
          "e_z": 0,
          "i": 0.24904480766487835,
          "k": 9.373733938446275,
          "n": 0.3314051530790559,
          "rk": 0.03560673516834175,
          "w": 2.0447790300392,
          "y": 1.011418369347738,
          "z": 0.0128
         },
         {
          "T": 4,
          "c": 0.7624198832095018,
          "e_z": 0,
          "i": 0.24574190559110243,
          "k": 9.388435397649996,
          "n": 0.3308209284445261,
          "rk": 0.0354365105806102,
          "w": 2.0417946399956106,
          "y": 1.0081617888006043,
          "z": 0.01024
         },
         {
          "T": 5,
          "c": 0.762446505617171,
          "e_z": 0,
          "i": 0.2431125999475463,
          "k": 9.399466418299848,
          "n": 0.330364779745138,
          "rk": 0.035303547038617766,
          "w": 2.039335431725227,
          "y": 1.0055591055647173,
          "z": 0.008192000000000001
         },
         {
          "T": 6,
          "c": 0.7624577323115104,
          "e_z": 0,
          "i": 0.2410199693581457,
          "k": 9.407592357789898,
          "n": 0.3300105388813812,
          "rk": 0.03520004151506222,
          "w": 2.0372987553598443,
          "y": 1.003477701669656,
          "z": 0.0065536000000000014
         },
         {
          "T": 7,
          "c": 0.7624569935469123,
          "e_z": 0,
          "i": 0.23935517671311496,
          "k": 9.413422518203296,
          "n": 0.3297373513248808,
          "rk": 0.035119853118938615,
          "w": 2.035602431381485,
          "y": 1.0018121702600273,
          "z": 0.005242880000000002
         },
         {
          "T": 8,
          "c": 0.7624470233105638,
          "e_z": 0,
          "i": 0.23803159863143628,
          "k": 9.417442131961328,
          "n": 0.3295285856066069,
          "rk": 0.03505813368582914,
          "w": 2.0341806628617425,
          "y": 1.000478621942,
          "z": 0.004194304000000002
         },
         {
          "T": 9,
          "c": 0.7624299979834654,
          "e_z": 0,
          "i": 0.2369802281213239,
          "k": 9.420037677293731,
          "n": 0.32937097416395766,
          "rk": 0.03501104623069085,
          "w": 2.032980754269154,
          "y": 0.9994102261047894,
          "z": 0.003355443200000002
         },
         {
          "T": 10,
          "c": 0.7624076475589218,
          "e_z": 0,
          "i": 0.2361460518631309,
          "k": 9.421516963482711,
          "n": 0.3292539312054034,
          "rk": 0.03497554821442126,
          "w": 2.031960487649891,
          "y": 0.9985536994220526,
          "z": 0.0026843545600000016
         },
         {
          "T": 11,
          "c": 0.7623813450734316,
          "e_z": 0,
          "i": 0.23548518644439204,
          "k": 9.422125091258774,
          "n": 0.32916900992887016,
          "rk": 0.03494922347256681,
          "w": 2.031086025569092,
          "y": 0.9978665315178237,
          "z": 0.0021474836480000013
         },
         {
          "T": 12,
          "c": 0.7623521782625957,
          "e_z": 0,
          "i": 0.23496261022244763,
          "k": 9.422057150421695,
          "n": 0.3291094704583074,
          "rk": 0.034930151127913124,
          "w": 2.0303302343577765,
          "y": 0.9973147884850434,
          "z": 0.0017179869184000011
         },
         {
          "T": 13,
          "c": 0.7623210068536836,
          "e_z": 0,
          "i": 0.2345503639522738,
          "k": 9.4214683318836,
          "n": 0.3290699357341284,
          "rk": 0.034916802856800204,
          "w": 2.029671343114199,
          "y": 0.9968713708059574,
          "z": 0.001374389534720001
         },
         {
          "T": 14,
          "c": 0.7622885085625823,
          "e_z": 0,
          "i": 0.23422612027093756,
          "k": 9.420481987538784,
          "n": 0.32904611692208524,
          "rk": 0.03490796202891288,
          "w": 2.0290918718744657,
          "y": 0.9965146288335199,
          "z": 0.001099511627776001
         },
         {
          "T": 15,
          "c": 0.7622552158708166,
          "e_z": 0,
          "i": 0.23397204555476106,
          "k": 9.419196058121251,
          "n": 0.32903459436974,
          "rk": 0.034902659870529755,
          "w": 2.028577774424201,
          "y": 0.9962272614255776,
          "z": 0.0008796093022208008
         },
         {
          "T": 16,
          "c": 0.7622215454179104,
          "e_z": 0,
          "i": 0.23377389349788608,
          "k": 9.417688202222982,
          "n": 0.3290326427920525,
          "rk": 0.03490012493348745,
          "w": 2.0281177527280345,
          "y": 0.9959954389157966,
          "z": 0.0007036874417766407
         },
         {
          "T": 17,
          "c": 0.7621878214947158,
          "e_z": 0,
          "i": 0.23362028261122297,
          "k": 9.416019890665293,
          "n": 0.32903809168559345,
          "rk": 0.034899743009330166,
          "w": 2.0277027086228725,
          "y": 0.9958081041059388,
          "z": 0.0005629499534213126
         },
         {
          "T": 18,
          "c": 0.7621542948227141,
          "e_z": 0,
          "i": 0.23350211992191508,
          "k": 9.414239676009885,
          "n": 0.329049213828065,
          "rk": 0.0349010252737677,
          "w": 2.0273253052884352,
          "y": 0.9956564147446292,
          "z": 0.0004503599627370501
         },
         {
          "T": 19,
          "c": 0.762121157565194,
          "e_z": 0,
          "i": 0.23341214103175256,
          "k": 9.412385804031553,
          "n": 0.3290646361847282,
          "rk": 0.03490358293603698,
          "w": 2.0269796165076635,
          "y": 0.9955332985969466,
          "z": 0.0003602879701896401
         },
         {
          "T": 20,
          "c": 0.7620885553257365,
          "e_z": 0,
          "i": 0.2333445428758765,
          "k": 9.410488299962516,
          "n": 0.32908326870195365,
          "rk": 0.03490710704223932,
          "w": 2.026660846131073,
          "y": 0.995433098201613,
          "z": 0.0002882303761517121
         },
         {
          "T": 21,
          "c": 0.7620565967376127,
          "e_z": 0,
          "i": 0.23329469039263923,
          "k": 9.408570635339329,
          "n": 0.3291042473865578,
          "rk": 0.03491135237049073,
          "w": 2.026365103680845,
          "y": 0.9953512871302519,
          "z": 0.00023058430092136968
         },
         {
          "T": 22,
          "c": 0.7620253611265353,
          "e_z": 0,
          "i": 0.23325888216182833,
          "k": 9.406651059848485,
          "n": 0.32912688879895136,
          "rk": 0.0349161245798832,
          "w": 2.0260892248477034,
          "y": 0.9952842432883636,
          "z": 0.00018446744073709575
         },
         {
          "T": 23,
          "c": 0.7619949046324846,
          "e_z": 0,
          "i": 0.23323416311392076,
          "k": 9.404743665514102,
          "n": 0.32915065366822294,
          "rk": 0.03492126995024916,
          "w": 2.0258306278869362,
          "y": 0.9952290677464054,
          "z": 0.00014757395258967662
         },
         {
          "T": 24,
          "c": 0.7619652650990338,
          "e_z": 0,
          "i": 0.23321817482910548,
          "k": 9.40285923699017,
          "n": 0.3291751177991958,
          "rk": 0.03492666718697039,
          "w": 2.0255871987219876,
          "y": 0.9951834399281393,
          "z": 0.0001180591620717413
         },
         {
          "T": 25,
          "c": 0.7619364659768741,
          "e_z": 0,
          "i": 0.23320903586463915,
          "k": 9.40100593089452,
          "n": 0.3291999488096802,
          "rk": 0.03493222087313924,
          "w": 2.0253571990051538,
          "y": 0.9951455018415133,
          "z": 9.444732965739304e-05
         },
         {
          "T": 26,
          "c": 0.7619085194388613,
          "e_z": 0,
          "i": 0.23320524607658547,
          "k": 9.399189818486796,
          "n": 0.32922488752984025,
          "rk": 0.03493785623673738,
          "w": 2.025139192537255,
          "y": 0.9951137655154467,
          "z": 7.555786372591443e-05
         },
         {
          "T": 27,
          "c": 0.7618814288644248,
          "e_z": 0,
          "i": 0.23320561011859609,
          "k": 9.397415319101212,
          "n": 0.3292497331300207,
          "rk": 0.034943514968092705,
          "w": 2.024931986369571,
          "y": 0.9950870389830209,
          "z": 6.044629098073155e-05
         },
         {
          "T": 28,
          "c": 0.7618551908196385,
          "e_z": 0,
          "i": 0.23320917627020815,
          "k": 9.395685546242277,
          "n": 0.3292743312305927,
          "rk": 0.03494915187652046,
          "w": 2.02473458364815,
          "y": 0.9950643670898466,
          "z": 4.8357032784585246e-05
         },
         {
          "T": 29,
          "c": 0.7618297966339764,
          "e_z": 0,
          "i": 0.23321518752075646,
          "k": 9.394002583856427,
          "n": 0.32929856439695177,
          "rk": 0.03495473221769772,
          "w": 2.0245461458496483,
          "y": 0.9950449841547329,
          "z": 3.86856262276682e-05
         },
         {
          "T": 30,
          "c": 0.7618052336545955,
          "e_z": 0,
          "i": 0.23322304245245656,
          "k": 9.392367706780771,
          "n": 0.3293223445423324,
          "rk": 0.03496022955726806,
          "w": 2.0243659625289365,
          "y": 0.995028276107052,
          "z": 3.094850098213456e-05
         },
         {
          "T": 31,
          "c": 0.7617814862428154,
          "e_z": 0,
          "i": 0.2332322639592479,
          "k": 9.390781556563708,
          "n": 0.32934560685665754,
          "rk": 0.03496562406322579,
          "w": 2.024193427075331,
          "y": 0.9950137502020633,
          "z": 2.4758800785707648e-05
         },
         {
          "T": 32,
          "c": 0.7617585365645451,
          "e_z": 0,
          "i": 0.23324247423181385,
          "k": 9.389244281608864,
          "n": 0.32936830495604624,
          "rk": 0.03497090114120825,
          "w": 2.024028017275445,
          "y": 0.9950010107963589,
          "z": 1.980704062856612e-05
         },
         {
          "T": 33,
          "c": 0.7617363652160551,
          "e_z": 0,
          "i": 0.23325337475386204,
          "k": 9.387755648800455,
          "n": 0.3293904070086939,
          "rk": 0.034976050344048736,
          "w": 2.023869279721462,
          "y": 0.9949897399699171,
          "z": 1.5845632502852897e-05
         },
         {
          "T": 34,
          "c": 0.7617149517182162,
          "e_z": 0,
          "i": 0.23326473030623032,
          "k": 9.386315132334305,
          "n": 0.3294118926417062,
          "rk": 0.03498106450069836,
          "w": 2.023716817296163,
          "y": 0.9949796820244465,
          "z": 1.2676506002282318e-05
         },
         {
          "T": 35,
          "c": 0.7616942749057025,
          "e_z": 0,
          "i": 0.23327635617640177,
          "k": 9.384921984332177,
          "n": 0.3294327504725534,
          "rk": 0.034985939020617106,
          "w": 2.0235702791199865,
          "y": 0.9949706310821043,
          "z": 1.0141204801825855e-05
         },
         {
          "T": 36,
          "c": 0.7616743132323612,
          "e_z": 0,
          "i": 0.2332881079317186,
          "k": 9.383575290900275,
          "n": 0.32945297614007285,
          "rk": 0.03499067133851975,
          "w": 2.023429352468517,
          "y": 0.9949624211640798,
          "z": 8.112963841460684e-06
         },
         {
          "T": 37,
          "c": 0.7616550450096986,
          "e_z": 0,
          "i": 0.23329987324307547,
          "k": 9.382274016559487,
          "n": 0.32947257073496117,
          "rk": 0.034995260471385924,
          "w": 2.023293756267225,
          "y": 0.994954918252774,
          "z": 6.490371073168548e-06
         },
         {
          "T": 38,
          "c": 0.7616364485920485,
          "e_z": 0,
          "i": 0.23331156534862318,
          "k": 9.381017039388574,
          "n": 0.3294915395497064,
          "rk": 0.03499970666526168,
          "w": 2.0231632358489917,
          "y": 0.9949480139406717,
          "z": 5.192296858534838e-06
         },
         {
          "T": 39,
          "c": 0.7616185025192694,
          "e_z": 0,
          "i": 0.23332311782917617,
          "k": 9.379803178752484,
          "n": 0.32950989108391704,
          "rk": 0.035004011113872344,
          "w": 2.023037558722907,
          "y": 0.9949416203484456,
          "z": 4.153837486827871e-06
         }
        ]
       },
       "vconcat": [
        {
         "hconcat": [
          {
           "data": {
            "name": "data-b879bf68f5b69d221a8793664f13a0a4"
           },
           "encoding": {
            "x": {
             "field": "T",
             "type": "quantitative"
            },
            "y": {
             "field": "z",
             "type": "quantitative"
            }
           },
           "mark": "line"
          },
          {
           "data": {
            "name": "data-b879bf68f5b69d221a8793664f13a0a4"
           },
           "encoding": {
            "x": {
             "field": "T",
             "type": "quantitative"
            },
            "y": {
             "field": "i",
             "type": "quantitative"
            }
           },
           "mark": "line"
          }
         ]
        },
        {
         "hconcat": [
          {
           "data": {
            "name": "data-b879bf68f5b69d221a8793664f13a0a4"
           },
           "encoding": {
            "x": {
             "field": "T",
             "type": "quantitative"
            },
            "y": {
             "field": "n",
             "type": "quantitative"
            }
           },
           "mark": "line"
          },
          {
           "data": {
            "name": "data-b879bf68f5b69d221a8793664f13a0a4"
           },
           "encoding": {
            "x": {
             "field": "T",
             "type": "quantitative"
            },
            "y": {
             "field": "c",
             "type": "quantitative"
            }
           },
           "mark": "line"
          }
         ]
        }
       ]
      },
      "text/plain": [
       "<VegaLite 2 object>\n",
       "\n",
       "If you see this message, it means the renderer has not been properly enabled\n",
       "for the frontend that you are using. For more information, see\n",
       "https://altair-viz.github.io/user_guide/troubleshooting.html\n"
      ]
     },
     "execution_count": 22,
     "metadata": {},
     "output_type": "execute_result"
    }
   ],
   "source": [
    "# it is also possible (and fun) to use the graph visualization altair lib instead:\n",
    "# it is not part of dolo dependencies. To install `conda install -c conda-forge altair`\n",
    "import altair as alt\n",
    "df = irf.drop('N').to_pandas().reset_index() # convert to flat database\n",
    "base = alt.Chart(df).mark_line()\n",
    "ch1 = base.encode(x='T', y='z')\n",
    "ch2 = base.encode(x='T', y='i')\n",
    "ch3 = base.encode(x='T', y='n')\n",
    "ch4 = base.encode(x='T', y='c')\n",
    "(ch1|ch2)& \\\n",
    "(ch3|ch4)"
   ]
  },
  {
   "cell_type": "code",
   "execution_count": 23,
   "metadata": {},
   "outputs": [],
   "source": [
    "irf_array = np.array( irf )\n",
    "import scipy.io\n",
    "scipy.io.savemat(\"export.mat\", {'table': irf_array} )"
   ]
  },
  {
   "cell_type": "markdown",
   "metadata": {},
   "source": [
    "## Stochastic simulations\n",
    "\n",
    "Now we run 1000 random simulations.  The result is an array of size $T\\times N \\times n_v$ where \n",
    "- $T$ the number of dates\n",
    "- $N$ the number of simulations\n",
    "- $n_v$ is the number of variables\n"
   ]
  },
  {
   "cell_type": "code",
   "execution_count": 24,
   "metadata": {},
   "outputs": [
    {
     "name": "stdout",
     "output_type": "stream",
     "text": [
      "(40, 1000, 9)\n"
     ]
    }
   ],
   "source": [
    "sim = simulate(model, dr_global, N=1000, T=40 )\n",
    "print(sim.shape)"
   ]
  },
  {
   "cell_type": "markdown",
   "metadata": {
    "run_control": {
     "breakpoint": false
    }
   },
   "source": [
    "We plot the responses of consumption, investment and labour to the stochastic path of productivity."
   ]
  },
  {
   "cell_type": "code",
   "execution_count": 25,
   "metadata": {},
   "outputs": [
    {
     "name": "stderr",
     "output_type": "stream",
     "text": [
      "\u001b[33mMatplotlibDeprecationWarning\u001b[0m:/Volumes/Sync/Sys/OSX/linked/root/usr/local/bin/anaconda/lib/python3.6/site-packages/matplotlib/figure.py:98\n",
      "    \n",
      "Adding an axes using the same arguments as a previous axes currently reuses the earlier instance.  In a future version, a new instance will always be created and returned.  Meanwhile, this warning can be suppressed, and the future behavior ensured, by passing a unique label to each axes instance.\n"
     ]
    },
    {
     "data": {
      "image/png": "[encoded data removed]",
      "text/plain": [
       "<Figure size 576x288 with 4 Axes>"
      ]
     },
     "metadata": {
      "needs_background": "light"
     },
     "output_type": "display_data"
    }
   ],
   "source": [
    "plt.figure(figsize=(8,4))\n",
    "for i in range(1000):\n",
    "    plt.subplot(221)\n",
    "    plt.plot(sim.sel(N=i,V='z'), color='red', alpha=0.1)\n",
    "    plt.subplot(222)\n",
    "    plt.plot(sim.sel(N=i,V='i'), color='red', alpha=0.1)\n",
    "    plt.subplot(223)\n",
    "    plt.plot(sim.sel(N=i,V='n'), color='red', alpha=0.1)\n",
    "    plt.subplot(224)\n",
    "    plt.plot(sim.sel(N=i,V='c'), color='red', alpha=0.1)\n",
    "\n",
    "plt.subplot(221)\n",
    "plt.title('Productivity')\n",
    "plt.subplot(222)\n",
    "plt.title('Investment')\n",
    "plt.subplot(223)\n",
    "plt.title('Labour')\n",
    "plt.subplot(224)\n",
    "plt.title('Consumption')\n",
    "\n",
    "plt.tight_layout()"
   ]
  },
  {
   "cell_type": "markdown",
   "metadata": {
    "run_control": {
     "breakpoint": false
    }
   },
   "source": [
    "We find that while the distribution of investment and labour converges quickly to the ergodic distribution, that of consumption takes noticeably longer. This is indicative of higher persistence in consumption, which in turn could be explained by permanent income considerations."
   ]
  },
  {
   "cell_type": "markdown",
   "metadata": {
    "run_control": {
     "breakpoint": false
    }
   },
   "source": [
    "# Descriptive statistics\n",
    "A common way to evaluate the success of the RBC model is in its ability to mimic patterns in the descriptive statistics of the real economy. Let us compute some of these descriptive statistics from our sample of stochastic simulations. First we compute growth rates:"
   ]
  },
  {
   "cell_type": "code",
   "execution_count": 26,
   "metadata": {
    "run_control": {
     "breakpoint": false
    }
   },
   "outputs": [],
   "source": [
    "dsim = sim / sim.shift(T=1)"
   ]
  },
  {
   "cell_type": "markdown",
   "metadata": {
    "run_control": {
     "breakpoint": false
    }
   },
   "source": [
    "Then we compute the volatility of growth rates for each simulation:"
   ]
  },
  {
   "cell_type": "code",
   "execution_count": 27,
   "metadata": {
    "run_control": {
     "breakpoint": false
    }
   },
   "outputs": [
    {
     "name": "stdout",
     "output_type": "stream",
     "text": [
      "(40, 9)\n"
     ]
    }
   ],
   "source": [
    "volat = dsim.std(axis=1)\n",
    "print(volat.shape)"
   ]
  },
  {
   "cell_type": "code",
   "execution_count": 28,
   "metadata": {},
   "outputs": [
    {
     "data": {
      "text/plain": [
       "<xarray.DataArray (T: 40, V: 9)>\n",
       "array([[         nan,          nan,          nan, ...,          nan,\n",
       "                 nan,          nan],\n",
       "       [1.610460e+01,          nan, 1.221245e-14, ..., 1.353623e-03,\n",
       "        2.017710e-02, 1.346910e-02],\n",
       "       [1.618588e+01, 1.610460e+01, 2.035533e-03, ..., 1.378913e-03,\n",
       "        2.162966e-02, 1.389097e-02],\n",
       "       ...,\n",
       "       [1.354310e+01, 3.780695e+01, 3.295575e-03, ..., 1.370113e-03,\n",
       "        2.281198e-02, 1.397014e-02],\n",
       "       [3.541631e+01, 1.094721e+01, 3.222334e-03, ..., 1.321712e-03,\n",
       "        2.139623e-02, 1.320882e-02],\n",
       "       [7.612170e+01, 6.075938e+01, 3.193902e-03, ..., 1.404100e-03,\n",
       "        2.240229e-02, 1.396089e-02]])\n",
       "Coordinates:\n",
       "  * T        (T) int64 0 1 2 3 4 5 6 7 8 9 10 ... 30 31 32 33 34 35 36 37 38 39\n",
       "  * V        (V) <U3 'e_z' 'z' 'k' 'n' 'i' 'y' 'c' 'rk' 'w'"
      ]
     },
     "execution_count": 28,
     "metadata": {},
     "output_type": "execute_result"
    }
   ],
   "source": [
    "volat"
   ]
  },
  {
   "cell_type": "markdown",
   "metadata": {
    "run_control": {
     "breakpoint": false
    }
   },
   "source": [
    "Then we compute the mean and a confidence interval for each variable. In the generated table the first column contains the standard deviations of growth rates. The second and third columns contain the lower and upper bounds of the 95% confidence intervals, respectively."
   ]
  },
  {
   "cell_type": "code",
   "execution_count": 29,
   "metadata": {},
   "outputs": [
    {
     "data": {
      "text/plain": [
       "array([[ 6.00442420e+01, -5.53075009e+01,  1.75395985e+02],\n",
       "       [ 1.02137895e+02, -3.76106170e+02,  5.80381961e+02],\n",
       "       [ 3.02986555e-03,  1.97560226e-03,  4.08412883e-03],\n",
       "       [ 7.68206162e-03,  7.18382482e-03,  8.18029843e-03],\n",
       "       [ 8.97897669e-02,  8.44342863e-02,  9.51452474e-02],\n",
       "       [ 2.15793472e-02,  2.04785182e-02,  2.26801762e-02],\n",
       "       [ 1.39457956e-03,  1.32622543e-03,  1.46293370e-03],\n",
       "       [ 2.26625771e-02,  2.13046523e-02,  2.40205018e-02],\n",
       "       [ 1.40694205e-02,  1.33898979e-02,  1.47489431e-02]])"
      ]
     },
     "execution_count": 29,
     "metadata": {},
     "output_type": "execute_result"
    }
   ],
   "source": [
    "table = np.column_stack([\n",
    "    volat.mean(axis=0),\n",
    "    volat.mean(axis=0)-1.96*volat.std(axis=0),\n",
    "    volat.mean(axis=0)+1.96*volat.std(axis=0)  ])\n",
    "table"
   ]
  },
  {
   "cell_type": "markdown",
   "metadata": {},
   "source": [
    "We can use the [pandas](http://pandas.pydata.org/pandas-docs/stable/10min.html) library to present the results in a nice table."
   ]
  },
  {
   "cell_type": "code",
   "execution_count": 30,
   "metadata": {},
   "outputs": [
    {
     "data": {
      "text/html": [
       "<div>\n",
       "<style scoped>\n",
       "    .dataframe tbody tr th:only-of-type {\n",
       "        vertical-align: middle;\n",
       "    }\n",
       "\n",
       "    .dataframe tbody tr th {\n",
       "        vertical-align: top;\n",
       "    }\n",
       "\n",
       "    .dataframe thead th {\n",
       "        text-align: right;\n",
       "    }\n",
       "</style>\n",
       "<table border=\"1\" class=\"dataframe\">\n",
       "  <thead>\n",
       "    <tr style=\"text-align: right;\">\n",
       "      <th></th>\n",
       "      <th>Growth rate std.</th>\n",
       "      <th>Lower 95% bound</th>\n",
       "      <th>Upper 95% bound</th>\n",
       "    </tr>\n",
       "    <tr>\n",
       "      <th>V</th>\n",
       "      <th></th>\n",
       "      <th></th>\n",
       "      <th></th>\n",
       "    </tr>\n",
       "  </thead>\n",
       "  <tbody>\n",
       "    <tr>\n",
       "      <th>e_z</th>\n",
       "      <td>60.0442</td>\n",
       "      <td>-55.3075</td>\n",
       "      <td>175.3960</td>\n",
       "    </tr>\n",
       "    <tr>\n",
       "      <th>z</th>\n",
       "      <td>102.1379</td>\n",
       "      <td>-376.1062</td>\n",
       "      <td>580.3820</td>\n",
       "    </tr>\n",
       "    <tr>\n",
       "      <th>k</th>\n",
       "      <td>0.0030</td>\n",
       "      <td>0.0020</td>\n",
       "      <td>0.0041</td>\n",
       "    </tr>\n",
       "    <tr>\n",
       "      <th>n</th>\n",
       "      <td>0.0077</td>\n",
       "      <td>0.0072</td>\n",
       "      <td>0.0082</td>\n",
       "    </tr>\n",
       "    <tr>\n",
       "      <th>i</th>\n",
       "      <td>0.0898</td>\n",
       "      <td>0.0844</td>\n",
       "      <td>0.0951</td>\n",
       "    </tr>\n",
       "    <tr>\n",
       "      <th>y</th>\n",
       "      <td>0.0216</td>\n",
       "      <td>0.0205</td>\n",
       "      <td>0.0227</td>\n",
       "    </tr>\n",
       "    <tr>\n",
       "      <th>c</th>\n",
       "      <td>0.0014</td>\n",
       "      <td>0.0013</td>\n",
       "      <td>0.0015</td>\n",
       "    </tr>\n",
       "    <tr>\n",
       "      <th>rk</th>\n",
       "      <td>0.0227</td>\n",
       "      <td>0.0213</td>\n",
       "      <td>0.0240</td>\n",
       "    </tr>\n",
       "    <tr>\n",
       "      <th>w</th>\n",
       "      <td>0.0141</td>\n",
       "      <td>0.0134</td>\n",
       "      <td>0.0147</td>\n",
       "    </tr>\n",
       "  </tbody>\n",
       "</table>\n",
       "</div>"
      ],
      "text/plain": [
       "     Growth rate std.  Lower 95% bound  Upper 95% bound\n",
       "V                                                      \n",
       "e_z           60.0442         -55.3075         175.3960\n",
       "z            102.1379        -376.1062         580.3820\n",
       "k              0.0030           0.0020           0.0041\n",
       "n              0.0077           0.0072           0.0082\n",
       "i              0.0898           0.0844           0.0951\n",
       "y              0.0216           0.0205           0.0227\n",
       "c              0.0014           0.0013           0.0015\n",
       "rk             0.0227           0.0213           0.0240\n",
       "w              0.0141           0.0134           0.0147"
      ]
     },
     "execution_count": 30,
     "metadata": {},
     "output_type": "execute_result"
    }
   ],
   "source": [
    "import pandas\n",
    "df = pandas.DataFrame(table, index=sim.V, \n",
    "                      columns=['Growth rate std.',\n",
    "                               'Lower 95% bound',\n",
    "                               'Upper 95% bound' ])\n",
    "pandas.set_option('precision', 4)\n",
    "df"
   ]
  },
  {
   "cell_type": "markdown",
   "metadata": {},
   "source": [
    "# Error measures\n",
    "<mark>Marked text</mark>\n",
    "\n",
    "\n",
    "It is always important to get a handle on the accuracy of the solution. The `omega` function computes and aggregates the errors for the model's arbitrage section equations. For the RBC model these are the investment demand and labor supply equations. For each equation it reports the maximum error over the domain and the mean error using ergodic distribution weights (see the source for the [omega](https://github.com/EconForge/dolo/blob/master/dolo/algos/fg/accuracy.py) function)."
   ]
  },
  {
   "cell_type": "code",
   "execution_count": 31,
   "metadata": {},
   "outputs": [
    {
     "ename": "ModuleNotFoundError",
     "evalue": "No module named 'dolo.algos.accuracy'",
     "output_type": "error",
     "traceback": [
      "\u001b[0;31m---------------------------------------------------------------------------\u001b[0m",
      "\u001b[0;31mModuleNotFoundError\u001b[0m                       Traceback (most recent call last)",
      "\u001b[0;32m<ipython-input-31-16046267e6b5>\u001b[0m in \u001b[0;36m<module>\u001b[0;34m\u001b[0m\n\u001b[0;32m----> 1\u001b[0;31m \u001b[0;32mfrom\u001b[0m \u001b[0mdolo\u001b[0m\u001b[0;34m.\u001b[0m\u001b[0malgos\u001b[0m\u001b[0;34m.\u001b[0m\u001b[0maccuracy\u001b[0m \u001b[0;32mimport\u001b[0m \u001b[0momega\u001b[0m\u001b[0;34m\u001b[0m\u001b[0;34m\u001b[0m\u001b[0m\n\u001b[0m\u001b[1;32m      2\u001b[0m \u001b[0;34m\u001b[0m\u001b[0m\n\u001b[1;32m      3\u001b[0m \u001b[0mprint\u001b[0m\u001b[0;34m(\u001b[0m\u001b[0;34m\"Perturbation solution\"\u001b[0m\u001b[0;34m)\u001b[0m\u001b[0;34m\u001b[0m\u001b[0;34m\u001b[0m\u001b[0m\n\u001b[1;32m      4\u001b[0m \u001b[0merr_pert\u001b[0m \u001b[0;34m=\u001b[0m \u001b[0momega\u001b[0m\u001b[0;34m(\u001b[0m\u001b[0mmodel\u001b[0m\u001b[0;34m,\u001b[0m \u001b[0mdr_pert\u001b[0m\u001b[0;34m)\u001b[0m\u001b[0;34m\u001b[0m\u001b[0;34m\u001b[0m\u001b[0m\n\u001b[1;32m      5\u001b[0m \u001b[0merr_pert\u001b[0m\u001b[0;34m\u001b[0m\u001b[0;34m\u001b[0m\u001b[0m\n",
      "\u001b[0;31mModuleNotFoundError\u001b[0m: No module named 'dolo.algos.accuracy'"
     ]
    }
   ],
   "source": [
    "from dolo.algos.accuracy import omega\n",
    "\n",
    "print(\"Perturbation solution\")\n",
    "err_pert = omega(model, dr_pert)\n",
    "err_pert"
   ]
  },
  {
   "cell_type": "code",
   "execution_count": null,
   "metadata": {},
   "outputs": [],
   "source": [
    "print(\"Global solution\")\n",
    "err_global=omega(model, dr_global)\n",
    "err_global"
   ]
  },
  {
   "cell_type": "markdown",
   "metadata": {
    "run_control": {
     "breakpoint": false
    }
   },
   "source": [
    "The result of `omega` is a subclass of `dict`. `omega` fills that dict with some useful information that the default print does not reveal:"
   ]
  },
  {
   "cell_type": "code",
   "execution_count": null,
   "metadata": {},
   "outputs": [],
   "source": [
    "err_pert.keys()"
   ]
  },
  {
   "cell_type": "markdown",
   "metadata": {
    "run_control": {
     "breakpoint": false
    }
   },
   "source": [
    "In particular the domain field  contains information, like bounds and shape, that we can use to plot the spatial pattern of errors."
   ]
  },
  {
   "cell_type": "code",
   "execution_count": null,
   "metadata": {
    "run_control": {
     "breakpoint": false
    }
   },
   "outputs": [],
   "source": [
    "a = err_pert['domain'].a\n",
    "b = err_pert['domain'].b\n",
    "orders = err_pert['domain'].orders\n",
    "errors = concatenate((err_pert['errors'].reshape( orders.tolist()+[-1] ),\n",
    "                      err_global['errors'].reshape( orders.tolist()+[-1] )),\n",
    "                     2)\n",
    "\n",
    "figure(figsize=(8,6))\n",
    "\n",
    "titles=[\"Investment demand pertubation errors\",\n",
    "        \"Labor supply pertubation errors\",\n",
    "        \"Investment demand global errors\",\n",
    "        \"Labor supply global errors\"]\n",
    "\n",
    "for i in range(4):\n",
    "\n",
    "    subplot(2,2,i+1)\n",
    "    imgplot = imshow(errors[:,:,i], origin='lower', \n",
    "                     extent=( a[0], b[0], a[1], b[1]), aspect='auto')\n",
    "    imgplot.set_clim(0,3e-4)\n",
    "    colorbar()\n",
    "    xlabel('z')\n",
    "    ylabel('k')\n",
    "    title(titles[i])\n",
    "\n",
    "tight_layout()"
   ]
  }
 ],
 "metadata": {
  "jupytext": {
   "formats": "ipynb,py:light",
   "text_representation": {
    "extension": ".py",
    "format_name": "light",
    "format_version": "1.3",
    "jupytext_version": "0.8.3"
   }
  },
  "kernelspec": {
   "display_name": "Python 3",
   "language": "python",
   "name": "python3"
  },
  "language_info": {
   "codemirror_mode": {
    "name": "ipython",
    "version": 3
   },
   "file_extension": ".py",
   "mimetype": "text/x-python",
   "name": "python",
   "nbconvert_exporter": "python",
   "pygments_lexer": "ipython3",
   "version": "3.6.7"
  },
  "varInspector": {
   "cols": {
    "lenName": 16,
    "lenType": 16,
    "lenVar": 40
   },
   "kernels_config": {
    "python": {
     "delete_cmd_postfix": "",
     "delete_cmd_prefix": "del ",
     "library": "var_list.py",
     "varRefreshCmd": "print(var_dic_list())"
    },
    "r": {
     "delete_cmd_postfix": ") ",
     "delete_cmd_prefix": "rm(",
     "library": "var_list.r",
     "varRefreshCmd": "cat(var_dic_list()) "
    }
   },
   "types_to_exclude": [
    "module",
    "function",
    "builtin_function_or_method",
    "instance",
    "_Feature"
   ],
   "window_display": false
  }
 },
 "nbformat": 4,
 "nbformat_minor": 2
}
