{
 "cells": [
  {
   "cell_type": "markdown",
   "metadata": {},
   "source": [
    "# Buffer Stock Saving in HARK and dolo\n",
    "<!-- <p style=\"text-align: center;\"><small><small>Generator: BufferStockTheory-make/notebooks_byname</small></small></p>\n",
    "-->"
   ]
  },
  {
   "cell_type": "markdown",
   "metadata": {},
   "source": [
    "This notebook compares the solutions to a standard buffer stock saving model obtained by the [Econ-ARK/HARK](https://github.com/econ-ark/HARK) toolkit and the [dolo](https://github.com/EconForge/dolo) modeling system."
   ]
  },
  {
   "cell_type": "code",
   "execution_count": 1,
   "metadata": {
    "code_folding": [
     0
    ]
   },
   "outputs": [],
   "source": [
    "# This cell does some setup and imports generic tools \n",
    "\n",
    "Generator=True # Is this notebook the master or is it generated?\n",
    "# Import related generic python packages\n",
    "import numpy as np\n",
    "from time import clock\n",
    "mystr = lambda number : \"{:.4f}\".format(number)\n",
    "\n",
    "# This is a jupytext paired notebook that autogenerates BufferStockTheory.py\n",
    "# which can be executed from a terminal command line via \"ipython BufferStockTheory.py\"\n",
    "# But a terminal does not permit inline figures, so we need to test jupyter vs terminal\n",
    "# Google \"how can I check if code is executed in the ipython notebook\"\n",
    "\n",
    "from IPython import get_ipython # In case it was run from python instead of ipython\n",
    "def in_ipynb():\n",
    "    try:\n",
    "        if str(type(get_ipython())) == \"<class 'ipykernel.zmqshell.ZMQInteractiveShell'>\":\n",
    "            return True\n",
    "        else:\n",
    "            return False\n",
    "    except NameError:\n",
    "        return False\n",
    "\n",
    "# Determine whether to make the figures inline (for spyder or jupyter)\n",
    "# vs whatever is the automatic setting that will apply if run from the terminal\n",
    "if in_ipynb():\n",
    "    # %matplotlib inline generates a syntax error when run from the shell\n",
    "    # so do this instead\n",
    "    get_ipython().run_line_magic('matplotlib', 'inline')\n",
    "else:\n",
    "    get_ipython().run_line_magic('matplotlib', 'auto')\n",
    "    print('You appear to be running from a terminal')\n",
    "    print('By default, figures will appear one by one')\n",
    "    print('Close the visible figure in order to see the next one')\n",
    "\n",
    "# Import the plot-figure library matplotlib\n",
    "\n",
    "import matplotlib.pyplot as plt\n",
    "\n",
    "# In order to use LaTeX to manage all text layout in our figures, we import rc settings from matplotlib.\n",
    "from matplotlib import rc\n",
    "plt.rc('font', family='serif')\n",
    "\n",
    "# LaTeX is huge and takes forever to install on mybinder\n",
    "# so if it is not installed then do not use it \n",
    "from distutils.spawn import find_executable\n",
    "iflatexExists=False\n",
    "if find_executable('latex'):\n",
    "    iflatexExists=True\n",
    "    \n",
    "plt.rc('font', family='serif')\n",
    "plt.rc('text', usetex=iflatexExists)\n",
    "\n",
    "# The warnings package allows us to ignore some harmless but alarming warning messages\n",
    "import warnings\n",
    "warnings.filterwarnings(\"ignore\")\n",
    "\n",
    "# The tools for navigating the filesystem\n",
    "import sys\n",
    "import os\n",
    "\n",
    "sys.path.insert(0, os.path.abspath('../../lib')) # REMARKs directory is two down from root \n",
    "\n",
    "from HARK.utilities import plotFuncsDer, plotFuncs\n",
    "from copy import copy, deepcopy\n",
    "\n",
    "# Define (and create, if necessary) the figures directory \"Figures\"\n",
    "if Generator:\n",
    "    my_file_path = os.path.dirname(os.path.abspath(\"BufferStockTheory.ipynb\")) # Find pathname to this file:\n",
    "    Figures_HARK_dir = os.path.join(my_file_path,\"Figures/\") # LaTeX document assumes figures will be here\n",
    "    Figures_HARK_dir = os.path.join(my_file_path,\"/tmp/Figures/\") # Uncomment to make figures outside of git path\n",
    "    if not os.path.exists(Figures_HARK_dir):\n",
    "        os.makedirs(Figures_HARK_dir)"
   ]
  },
  {
   "cell_type": "markdown",
   "metadata": {},
   "source": [
    "## [The Problem](http://econ.jhu.edu/people/ccarroll/papers/BufferStockTheory/#The-Problem) \n",
    "\n",
    "[This paper](http://econ.jhu.edu/people/ccarroll/papers/BufferStockTheory/#The-Problem) defines a buffer stock saving model and calibrates parameters:\n",
    "\n",
    "| Parameter | Description | Code | Value |\n",
    "| :---: | ---         | ---  | :---: |\n",
    "| $\\newcommand{\\PermGroFac}{\\Gamma}\\PermGroFac$ | Permanent Income Growth Factor | $\\texttt{PermGroFac}$ | 1.03 |\n",
    "| $\\newcommand{\\Rfree}{\\mathrm{\\mathsf{R}}}\\Rfree$ | Interest Factor | $\\texttt{Rfree}$ | 1.04 |\n",
    "| $\\newcommand{\\DiscFac}{\\beta}\\DiscFac$ | Time Preference Factor | $\\texttt{DiscFac}$ | 0.96 |\n",
    "| $\\newcommand{\\CRRA}{\\rho}\\CRRA$ | Coeﬃcient of Relative Risk Aversion| $\\texttt{CRRA}$ | 2 |\n",
    "| $\\newcommand{\\UnempPrb}{\\wp}\\UnempPrb$ | Probability of Unemployment | $\\texttt{UnempPrb}$ | 0.005 |\n",
    "| $\\newcommand{\\IncUnemp}{\\mu}\\IncUnemp$ | Income when Unemployed | $\\texttt{IncUnemp}$ | 0. |\n",
    "| $\\newcommand{\\PermShkStd}{\\sigma_\\psi}\\PermShkStd$ | Std Dev of Log Permanent Shock| $\\texttt{PermShkStd}$ | 0.1 |\n",
    "| $\\newcommand{\\TranShkStd}{\\sigma_\\theta}\\TranShkStd$ | Std Dev of Log Transitory Shock| $\\texttt{TranShkStd}$ | 0.1 |\n",
    "\n",
    "For a microeconomic consumer with 'Market Resources' (net worth plus current income) $M_{t}$, end-of-period assets $A_{t}$ will be the amount remaining after consumption of $C_{t}$.  <!-- Next period's 'Balances' $B_{t+1}$ reflect this period's $A_{t}$ augmented by return factor $R$:-->\n",
    "\\begin{eqnarray}\n",
    "A_{t}   &=&M_{t}-C_{t}  \\label{eq:DBCparts} \\\\\n",
    "%B_{t+1}   & = & A_{t} R \\notag \\\\\n",
    "\\end{eqnarray}\n",
    "\n",
    "The consumer's permanent noncapital income $P$ grows by a predictable factor $\\PermGroFac$ and is subject to an unpredictable lognormally distributed multiplicative shock $\\mathbb{E}_{t}[\\psi_{t+1}]=1$, \n",
    "\\begin{eqnarray}\n",
    "P_{t+1} & = & P_{t} \\PermGroFac \\psi_{t+1}\n",
    "\\end{eqnarray}\n",
    "\n",
    "and actual income is permanent income multiplied by a logormal multiplicative transitory shock, $\\mathbb{E}_{t}[\\theta_{t+1}]=1$, so that next period's market resources are\n",
    "\\begin{eqnarray}\n",
    "%M_{t+1} &=& B_{t+1} +P_{t+1}\\theta_{t+1},  \\notag\n",
    "M_{t+1} &=& A_{t}R +P_{t+1}\\theta_{t+1}.  \\notag\n",
    "\\end{eqnarray}\n",
    "\n",
    "When the consumer has a CRRA utility function $u(c)=\\frac{c^{1-\\rho}}{1-\\rho}$, the paper shows that the problem can be written in terms of ratios of money variables to permanent income, e.g. $m_{t} \\equiv M_{t}/P_{t}$, and the Bellman form of [the problem reduces to](http://econ.jhu.edu/people/ccarroll/papers/BufferStockTheory/#The-Related-Problem):\n",
    "\n",
    "\\begin{eqnarray*}\n",
    "v_t(m_t) &=& \\max_{c_t}~~ u(c_t) + \\beta~\\mathbb{E}_{t} [(\\Gamma\\psi_{t+1})^{1-\\rho} v_{t+1}(m_{t+1}) ] \\\\\n",
    "& s.t. & \\\\\n",
    "a_t &=& m_t - c_t \\\\\n",
    "m_{t+1} &=& R/(\\Gamma \\psi_{t+1}) a_t + \\theta_{t+1} \\\\\n",
    "\\end{eqnarray*}\n",
    "\n",
    "and the Euler equation for this model is \n",
    "\n",
    "\\begin{eqnarray*}\n",
    "c_{t}^{-\\rho} & = & R \\beta \\mathbb{E}_{t}[(\\Gamma \\psi c_{t+1})^{-\\rho})] \\\\\n",
    "0 & = & R \\beta \\mathbb{E}_{t}[(\\Gamma \\psi c_{t+1}/c_{t})^{-\\rho})]-1\n",
    "\\end{eqnarray*}\n",
    "\n",
    "\n",
    "For the purposes of this notebook, the paper's baseline parameterization is changed as follows:\n",
    "\n",
    "1. The unemployment (zero-income event) shocks are turned off\n",
    "2. An explicit liqudity constraint is added ($c_{t} \\leq m_{t}$)"
   ]
  },
  {
   "cell_type": "markdown",
   "metadata": {},
   "source": [
    "# Dolo\n",
    "\n",
    "[Installation instructions](https://github.com/EconForge/dolo/wiki/Installation) for dolo involve a number of dependencies, including the dolo language \"dolang.\"  This notebook assumes all these have been installed."
   ]
  },
  {
   "cell_type": "code",
   "execution_count": 19,
   "metadata": {},
   "outputs": [],
   "source": [
    "from dolo import *"
   ]
  },
  {
   "cell_type": "markdown",
   "metadata": {},
   "source": [
    "Dolo defines models using \"model files\" whose syntax is specified in the documentation"
   ]
  },
  {
   "cell_type": "code",
   "execution_count": 30,
   "metadata": {
    "collapsed": true
   },
   "outputs": [
    {
     "name": "stdout",
     "output_type": "stream",
     "text": [
      "\n",
      "        Model:\n",
      "        ------\n",
      "        name: \"anonymous\"\n",
      "        type: \"dtcc\"\n",
      "        file: \"../models/bufferstock-with-expectations.yaml\n",
      "\n",
      "Equations:\n",
      "----------\n",
      "\n",
      "transition\n",
      " 1  : \u001b[31m1.7554\u001b[0m : m(0) == exp(tran(0)) + ((m(-(1))) - (c(-(1)))) * ((R) / ((Γ) * (exp(perm(0)))))\n",
      "\n",
      "arbitrage\n",
      " 1  : \u001b[31m-0.8726\u001b[0m : (((R) * (β)) * (((((c(1)) * (exp(perm(0)))) * (Γ)) / (c(0))) ** (-(ρ)))) - (1)\n",
      "\n",
      "definitions\n",
      "\n",
      "\n"
     ]
    }
   ],
   "source": [
    "model_dolo = yaml_import(\"../models/bufferstock-with-expectations.yaml\")\n",
    "print( model_dolo )"
   ]
  },
  {
   "cell_type": "code",
   "execution_count": 11,
   "metadata": {},
   "outputs": [
    {
     "name": "stdout",
     "output_type": "stream",
     "text": [
      "Solving WITH complementarities.\n",
      "------------------------------------------------\n",
      "| N   |  Error     | Gain     | Time     | nit |\n",
      "------------------------------------------------\n",
      "|   1 |  9.000e-01 |      nan |    0.331 |   5 |\n",
      "|   2 |  3.623e-02 |    0.040 |    0.397 |   5 |\n",
      "|   3 |  2.992e-02 |    0.826 |    0.429 |   6 |\n",
      "|   4 |  3.283e-02 |    1.097 |    0.308 |   3 |\n",
      "|   5 |  3.785e-02 |    1.153 |    0.656 |   3 |\n",
      "|   6 |  4.201e-02 |    1.110 |    0.487 |   3 |\n",
      "|   7 |  4.443e-02 |    1.058 |    0.376 |   3 |\n",
      "|   8 |  4.380e-02 |    0.986 |    0.331 |   3 |\n",
      "|   9 |  4.049e-02 |    0.924 |    0.274 |   3 |\n",
      "|  10 |  4.491e-02 |    1.109 |    0.465 |   3 |\n",
      "|  11 |  4.733e-02 |    1.054 |    0.270 |   3 |\n",
      "|  12 |  4.531e-02 |    0.957 |    0.250 |   3 |\n",
      "|  13 |  4.804e-02 |    1.060 |    0.227 |   3 |\n",
      "|  14 |  4.940e-02 |    1.028 |    0.222 |   3 |\n",
      "|  15 |  4.900e-02 |    0.992 |    0.237 |   3 |\n",
      "|  16 |  5.082e-02 |    1.037 |    0.227 |   3 |\n",
      "|  17 |  5.086e-02 |    1.001 |    0.159 |   2 |\n",
      "|  18 |  5.097e-02 |    1.002 |    0.274 |   2 |\n",
      "|  19 |  5.227e-02 |    1.025 |    0.157 |   2 |\n",
      "|  20 |  5.277e-02 |    1.009 |    0.159 |   2 |\n",
      "|  21 |  5.342e-02 |    1.012 |    0.152 |   2 |\n",
      "|  22 |  5.430e-02 |    1.016 |    0.167 |   2 |\n",
      "|  23 |  5.529e-02 |    1.018 |    0.176 |   2 |\n",
      "|  24 |  5.657e-02 |    1.023 |    0.180 |   2 |\n",
      "|  25 |  5.797e-02 |    1.025 |    0.167 |   2 |\n",
      "|  26 |  5.956e-02 |    1.027 |    0.179 |   2 |\n",
      "|  27 |  6.127e-02 |    1.029 |    0.162 |   2 |\n",
      "|  28 |  6.307e-02 |    1.029 |    0.167 |   2 |\n",
      "|  29 |  6.496e-02 |    1.030 |    0.157 |   2 |\n",
      "|  30 |  6.694e-02 |    1.030 |    0.328 |   2 |\n",
      "|  31 |  6.899e-02 |    1.031 |    0.156 |   2 |\n",
      "|  32 |  7.111e-02 |    1.031 |    0.151 |   2 |\n",
      "|  33 |  7.330e-02 |    1.031 |    0.163 |   2 |\n",
      "|  34 |  7.555e-02 |    1.031 |    0.165 |   2 |\n",
      "|  35 |  7.788e-02 |    1.031 |    0.166 |   2 |\n",
      "|  36 |  8.028e-02 |    1.031 |    0.203 |   2 |\n",
      "|  37 |  8.276e-02 |    1.031 |    0.193 |   2 |\n",
      "|  38 |  8.531e-02 |    1.031 |    0.216 |   2 |\n",
      "|  39 |  8.794e-02 |    1.031 |    0.188 |   2 |\n",
      "|  40 |  9.065e-02 |    1.031 |    0.416 |   3 |\n",
      "|  41 |  9.344e-02 |    1.031 |    0.218 |   3 |\n",
      "|  42 |  9.632e-02 |    1.031 |    0.272 |   3 |\n",
      "|  43 |  9.929e-02 |    1.031 |    0.234 |   3 |\n",
      "|  44 |  1.024e-01 |    1.031 |    0.240 |   3 |\n",
      "|  45 |  1.055e-01 |    1.031 |    0.236 |   3 |\n",
      "|  46 |  1.088e-01 |    1.031 |    0.245 |   3 |\n",
      "|  47 |  1.121e-01 |    1.031 |    0.247 |   3 |\n",
      "|  48 |  1.156e-01 |    1.031 |    0.452 |   3 |\n",
      "|  49 |  1.191e-01 |    1.031 |    0.317 |   3 |\n",
      "|  50 |  1.228e-01 |    1.031 |    0.255 |   3 |\n",
      "|  51 |  1.266e-01 |    1.031 |    0.261 |   3 |\n",
      "|  52 |  1.305e-01 |    1.031 |    0.255 |   3 |\n",
      "|  53 |  1.345e-01 |    1.031 |    0.240 |   3 |\n",
      "|  54 |  1.387e-01 |    1.031 |    0.233 |   3 |\n",
      "|  55 |  1.429e-01 |    1.031 |    0.252 |   3 |\n",
      "|  56 |  1.473e-01 |    1.031 |    0.404 |   3 |\n",
      "|  57 |  1.519e-01 |    1.031 |    0.244 |   3 |\n",
      "|  58 |  1.566e-01 |    1.031 |    0.277 |   3 |\n",
      "|  59 |  1.614e-01 |    1.031 |    0.276 |   3 |\n",
      "|  60 |  1.664e-01 |    1.031 |    0.304 |   3 |\n",
      "|  61 |  1.715e-01 |    1.031 |    0.254 |   3 |\n",
      "|  62 |  1.768e-01 |    1.031 |    0.285 |   3 |\n",
      "|  63 |  1.822e-01 |    1.031 |    0.522 |   3 |\n",
      "|  64 |  1.878e-01 |    1.031 |    0.509 |   3 |\n",
      "|  65 |  1.936e-01 |    1.031 |    0.412 |   3 |\n",
      "|  66 |  1.996e-01 |    1.031 |    0.473 |   3 |\n",
      "|  67 |  2.058e-01 |    1.031 |    0.580 |   3 |\n",
      "|  68 |  2.121e-01 |    1.031 |    0.332 |   3 |\n",
      "|  69 |  2.186e-01 |    1.031 |    0.299 |   3 |\n",
      "|  70 |  2.254e-01 |    1.031 |    0.276 |   3 |\n",
      "|  71 |  2.323e-01 |    1.031 |    0.235 |   3 |\n",
      "|  72 |  2.395e-01 |    1.031 |    0.235 |   3 |\n",
      "|  73 |  2.469e-01 |    1.031 |    0.272 |   3 |\n",
      "|  74 |  2.545e-01 |    1.031 |    0.434 |   3 |\n",
      "|  75 |  2.623e-01 |    1.031 |    0.216 |   3 |\n",
      "|  76 |  2.704e-01 |    1.031 |    0.241 |   3 |\n",
      "|  77 |  2.787e-01 |    1.031 |    0.232 |   3 |\n",
      "|  78 |  2.873e-01 |    1.031 |    0.234 |   3 |\n",
      "|  79 |  2.962e-01 |    1.031 |    0.238 |   3 |\n",
      "|  80 |  3.053e-01 |    1.031 |    0.229 |   3 |\n",
      "|  81 |  3.147e-01 |    1.031 |    0.237 |   3 |\n",
      "|  82 |  3.244e-01 |    1.031 |    0.419 |   3 |\n",
      "|  83 |  3.344e-01 |    1.031 |    0.222 |   3 |\n",
      "|  84 |  3.447e-01 |    1.031 |    0.230 |   3 |\n",
      "|  85 |  3.553e-01 |    1.031 |    0.241 |   3 |\n",
      "|  86 |  3.663e-01 |    1.031 |    0.233 |   3 |\n",
      "|  87 |  3.775e-01 |    1.031 |    0.245 |   3 |\n",
      "|  88 |  3.891e-01 |    1.031 |    0.231 |   3 |\n",
      "|  89 |  4.011e-01 |    1.031 |    0.237 |   3 |\n",
      "|  90 |  4.134e-01 |    1.031 |    0.392 |   3 |\n",
      "|  91 |  4.260e-01 |    1.031 |    0.225 |   3 |\n",
      "|  92 |  4.390e-01 |    1.030 |    0.227 |   3 |\n",
      "|  93 |  4.523e-01 |    1.030 |    0.243 |   3 |\n",
      "|  94 |  4.660e-01 |    1.030 |    0.233 |   3 |\n",
      "|  95 |  4.800e-01 |    1.030 |    0.240 |   3 |\n",
      "|  96 |  4.943e-01 |    1.030 |    0.236 |   3 |\n",
      "|  97 |  5.088e-01 |    1.029 |    0.243 |   3 |\n",
      "|  98 |  5.236e-01 |    1.029 |    0.410 |   3 |\n",
      "|  99 |  5.385e-01 |    1.028 |    0.310 |   3 |\n",
      "| 100 |  5.535e-01 |    1.028 |    0.308 |   3 |\n",
      "| 101 |  5.685e-01 |    1.027 |    0.284 |   3 |\n",
      "| 102 |  5.833e-01 |    1.026 |    0.252 |   3 |\n",
      "| 103 |  5.978e-01 |    1.025 |    0.229 |   3 |\n",
      "| 104 |  6.119e-01 |    1.024 |    0.264 |   3 |\n",
      "| 105 |  6.252e-01 |    1.022 |    0.486 |   3 |\n",
      "| 106 |  6.376e-01 |    1.020 |    0.242 |   3 |\n",
      "| 107 |  6.486e-01 |    1.017 |    0.218 |   3 |\n",
      "| 108 |  6.581e-01 |    1.015 |    0.222 |   3 |\n",
      "| 109 |  6.655e-01 |    1.011 |    0.331 |   3 |\n",
      "| 110 |  6.705e-01 |    1.007 |    0.395 |   3 |\n",
      "| 111 |  6.726e-01 |    1.003 |    0.622 |   3 |\n",
      "| 112 |  6.716e-01 |    0.998 |    0.370 |   3 |\n",
      "| 113 |  6.669e-01 |    0.993 |    0.662 |   3 |\n",
      "| 114 |  6.584e-01 |    0.987 |    1.364 |   3 |\n",
      "| 115 |  6.459e-01 |    0.981 |    0.935 |   3 |\n",
      "| 116 |  6.293e-01 |    0.974 |    0.800 |   3 |\n",
      "| 117 |  6.087e-01 |    0.967 |    0.522 |   3 |\n",
      "| 118 |  5.845e-01 |    0.960 |    0.263 |   3 |\n",
      "| 119 |  5.569e-01 |    0.953 |    0.266 |   3 |\n",
      "| 120 |  5.267e-01 |    0.946 |    0.321 |   3 |\n",
      "| 121 |  4.943e-01 |    0.939 |    0.291 |   3 |\n",
      "| 122 |  4.605e-01 |    0.932 |    0.454 |   3 |\n",
      "| 123 |  4.260e-01 |    0.925 |    0.267 |   2 |\n",
      "| 124 |  3.914e-01 |    0.919 |    0.268 |   2 |\n",
      "| 125 |  3.574e-01 |    0.913 |    0.255 |   2 |\n",
      "| 126 |  3.244e-01 |    0.908 |    0.245 |   2 |\n",
      "| 127 |  2.928e-01 |    0.903 |    0.197 |   2 |\n",
      "| 128 |  2.630e-01 |    0.898 |    0.211 |   2 |\n",
      "| 129 |  2.352e-01 |    0.894 |    0.183 |   2 |\n",
      "| 130 |  2.095e-01 |    0.891 |    0.190 |   2 |\n",
      "| 131 |  1.859e-01 |    0.887 |    0.375 |   2 |\n",
      "| 132 |  1.645e-01 |    0.885 |    0.176 |   2 |\n",
      "| 133 |  1.451e-01 |    0.882 |    0.203 |   2 |\n",
      "| 134 |  1.277e-01 |    0.880 |    0.178 |   2 |\n",
      "| 135 |  1.121e-01 |    0.878 |    0.195 |   2 |\n",
      "| 136 |  9.826e-02 |    0.876 |    0.187 |   2 |\n",
      "| 137 |  8.598e-02 |    0.875 |    0.183 |   2 |\n",
      "| 138 |  7.513e-02 |    0.874 |    0.181 |   2 |\n",
      "| 139 |  6.556e-02 |    0.873 |    0.185 |   2 |\n",
      "| 140 |  5.715e-02 |    0.872 |    0.177 |   2 |\n",
      "| 141 |  4.978e-02 |    0.871 |    0.346 |   2 |\n",
      "| 142 |  4.332e-02 |    0.870 |    0.168 |   2 |\n",
      "| 143 |  3.767e-02 |    0.870 |    0.195 |   2 |\n",
      "| 144 |  3.274e-02 |    0.869 |    0.175 |   2 |\n",
      "| 145 |  2.844e-02 |    0.869 |    0.180 |   2 |\n",
      "| 146 |  2.469e-02 |    0.868 |    0.174 |   2 |\n",
      "| 147 |  2.143e-02 |    0.868 |    0.185 |   2 |\n",
      "| 148 |  1.859e-02 |    0.868 |    0.171 |   2 |\n",
      "| 149 |  1.613e-02 |    0.867 |    0.181 |   2 |\n",
      "| 150 |  1.399e-02 |    0.867 |    0.171 |   2 |\n",
      "| 151 |  1.213e-02 |    0.867 |    0.189 |   2 |\n",
      "| 152 |  1.051e-02 |    0.867 |    0.273 |   2 |\n",
      "| 153 |  9.108e-03 |    0.867 |    0.164 |   2 |\n",
      "| 154 |  7.892e-03 |    0.866 |    0.156 |   2 |\n",
      "| 155 |  6.837e-03 |    0.866 |    0.153 |   2 |\n",
      "| 156 |  5.923e-03 |    0.866 |    0.160 |   2 |\n",
      "| 157 |  5.130e-03 |    0.866 |    0.149 |   2 |\n",
      "| 158 |  4.443e-03 |    0.866 |    0.169 |   2 |\n",
      "| 159 |  3.847e-03 |    0.866 |    0.145 |   2 |\n",
      "| 160 |  3.332e-03 |    0.866 |    0.098 |   1 |\n",
      "| 161 |  2.884e-03 |    0.866 |    0.088 |   1 |\n",
      "| 162 |  2.497e-03 |    0.866 |    0.086 |   1 |\n",
      "| 163 |  2.162e-03 |    0.866 |    0.101 |   1 |\n",
      "| 164 |  1.871e-03 |    0.866 |    0.094 |   1 |\n",
      "| 165 |  1.620e-03 |    0.866 |    0.084 |   1 |\n"
     ]
    },
    {
     "name": "stdout",
     "output_type": "stream",
     "text": [
      "| 166 |  1.402e-03 |    0.865 |    0.099 |   1 |\n",
      "| 167 |  1.214e-03 |    0.866 |    0.114 |   1 |\n",
      "| 168 |  1.050e-03 |    0.865 |    0.186 |   1 |\n",
      "| 169 |  9.089e-04 |    0.865 |    0.089 |   1 |\n",
      "| 170 |  7.863e-04 |    0.865 |    0.093 |   1 |\n",
      "| 171 |  6.805e-04 |    0.865 |    0.092 |   1 |\n",
      "| 172 |  5.888e-04 |    0.865 |    0.091 |   1 |\n",
      "| 173 |  5.094e-04 |    0.865 |    0.095 |   1 |\n",
      "| 174 |  4.407e-04 |    0.865 |    0.095 |   1 |\n",
      "| 175 |  3.813e-04 |    0.865 |    0.094 |   1 |\n",
      "| 176 |  3.299e-04 |    0.865 |    0.089 |   1 |\n",
      "| 177 |  2.853e-04 |    0.865 |    0.099 |   1 |\n",
      "| 178 |  2.468e-04 |    0.865 |    0.090 |   1 |\n",
      "| 179 |  2.135e-04 |    0.865 |    0.098 |   1 |\n",
      "| 180 |  1.846e-04 |    0.865 |    0.096 |   1 |\n",
      "| 181 |  1.597e-04 |    0.865 |    0.092 |   1 |\n",
      "| 182 |  1.381e-04 |    0.865 |    0.087 |   1 |\n",
      "| 183 |  1.194e-04 |    0.865 |    0.093 |   1 |\n",
      "| 184 |  1.033e-04 |    0.865 |    0.169 |   1 |\n",
      "| 185 |  8.931e-05 |    0.865 |    0.144 |   1 |\n",
      "| 186 |  7.724e-05 |    0.865 |    0.118 |   1 |\n",
      "| 187 |  6.677e-05 |    0.864 |    0.300 |   1 |\n",
      "| 188 |  5.774e-05 |    0.865 |    0.113 |   1 |\n",
      "| 189 |  4.991e-05 |    0.864 |    0.132 |   1 |\n",
      "| 190 |  4.317e-05 |    0.865 |    0.118 |   1 |\n",
      "| 191 |  3.732e-05 |    0.865 |    0.133 |   1 |\n",
      "| 192 |  3.226e-05 |    0.864 |    0.108 |   1 |\n",
      "| 193 |  2.788e-05 |    0.864 |    0.131 |   1 |\n",
      "| 194 |  2.411e-05 |    0.865 |    0.105 |   1 |\n",
      "| 195 |  2.083e-05 |    0.864 |    0.103 |   1 |\n",
      "| 196 |  1.801e-05 |    0.865 |    0.110 |   1 |\n",
      "| 197 |  1.557e-05 |    0.864 |    0.111 |   1 |\n",
      "| 198 |  1.345e-05 |    0.864 |    0.115 |   1 |\n",
      "| 199 |  1.163e-05 |    0.864 |    0.102 |   1 |\n",
      "| 200 |  1.005e-05 |    0.865 |    0.111 |   1 |\n",
      "| 201 |  8.687e-06 |    0.864 |    0.104 |   1 |\n",
      "| 202 |  7.510e-06 |    0.865 |    0.108 |   1 |\n",
      "| 203 |  6.488e-06 |    0.864 |    0.289 |   1 |\n",
      "| 204 |  5.606e-06 |    0.864 |    0.099 |   1 |\n",
      "| 205 |  4.844e-06 |    0.864 |    0.095 |   1 |\n",
      "| 206 |  4.186e-06 |    0.864 |    0.105 |   1 |\n",
      "| 207 |  3.617e-06 |    0.864 |    0.091 |   1 |\n",
      "| 208 |  3.126e-06 |    0.864 |    0.090 |   1 |\n",
      "| 209 |  2.701e-06 |    0.864 |    0.099 |   1 |\n",
      "| 210 |  2.334e-06 |    0.864 |    0.094 |   1 |\n",
      "| 211 |  2.016e-06 |    0.864 |    0.088 |   1 |\n",
      "| 212 |  1.742e-06 |    0.864 |    0.096 |   1 |\n",
      "| 213 |  1.505e-06 |    0.864 |    0.086 |   1 |\n",
      "| 214 |  1.300e-06 |    0.864 |    0.091 |   1 |\n",
      "| 215 |  1.123e-06 |    0.864 |    0.092 |   1 |\n",
      "| 216 |  9.705e-07 |    0.864 |    0.089 |   1 |\n",
      "| 217 |  8.386e-07 |    0.864 |    0.088 |   1 |\n",
      "| 218 |  7.243e-07 |    0.864 |    0.097 |   1 |\n",
      "| 219 |  6.256e-07 |    0.864 |    0.081 |   1 |\n",
      "| 220 |  5.405e-07 |    0.864 |    0.089 |   1 |\n",
      "| 221 |  4.668e-07 |    0.864 |    0.093 |   1 |\n",
      "| 222 |  4.033e-07 |    0.864 |    0.087 |   1 |\n",
      "| 223 |  3.482e-07 |    0.863 |    0.094 |   1 |\n",
      "| 224 |  3.009e-07 |    0.864 |    0.129 |   1 |\n",
      "| 225 |  2.599e-07 |    0.864 |    0.142 |   1 |\n",
      "| 226 |  2.244e-07 |    0.863 |    0.097 |   1 |\n",
      "| 227 |  1.939e-07 |    0.864 |    0.095 |   1 |\n",
      "| 228 |  0.000e+00 |    0.000 |    0.029 |   0 |\n",
      "------------------------------------------------\n",
      "Elapsed: 52.05662798881531 seconds.\n",
      "------------------------------------------------\n"
     ]
    }
   ],
   "source": [
    "# Set a maximum value of the market resources ratio m for use in both models\n",
    "max_m = 1000\n",
    "model_dolo.data['calibration']['max_m'] = max_m\n",
    "model_dolo.data['domain']['m'] = [0,'max_m']\n",
    "\n",
    "# Obtain the decision rule by time iteration\n",
    "dr = time_iteration(model_dolo,tol=1e-08,verbose=True)"
   ]
  },
  {
   "cell_type": "markdown",
   "metadata": {},
   "source": [
    "# HARK\n",
    "The HARK tool used here is $\\texttt{ConsIndShockModel.py}$.  For an introduction to this module, see the [ConsIndShockModel.ipynb](https://econ-ark.org/notebooks) notebook at the [Econ-ARK](https://econ-ark.org) website."
   ]
  },
  {
   "cell_type": "code",
   "execution_count": 15,
   "metadata": {
    "code_folding": [
     0
    ],
    "lines_to_next_cell": 0
   },
   "outputs": [],
   "source": [
    "# Define a parameter dictionary with baseline parameter values\n",
    "\n",
    "# Set the baseline parameter values \n",
    "PermGroFac = 1.03\n",
    "Rfree      = 1.04\n",
    "DiscFac    = 0.96\n",
    "CRRA       = 2.00\n",
    "UnempPrb   = 0.00\n",
    "IncUnemp   = 0.0\n",
    "PermShkStd = 0.1\n",
    "TranShkStd = 0.1\n",
    "# Import default parameter values\n",
    "import HARK.ConsumptionSaving.ConsumerParameters as Params \n",
    "\n",
    "# Make a dictionary containing all parameters needed to solve the model\n",
    "base_params = Params.init_idiosyncratic_shocks\n",
    "\n",
    "# Set the parameters for the baseline results in the paper\n",
    "# using the variable values defined in the cell above\n",
    "base_params['PermGroFac'] = [PermGroFac]   # Permanent income growth factor\n",
    "base_params['Rfree']      = Rfree          # Interest factor on assets\n",
    "base_params['DiscFac']    = DiscFac        # Time Preference Factor\n",
    "base_params['CRRA']       = CRRA           # Coefficient of relative risk aversion\n",
    "base_params['UnempPrb']   = UnempPrb       # Probability of unemployment (e.g. Probability of Zero Income in the paper)\n",
    "base_params['IncUnemp']   = IncUnemp       # Induces natural borrowing constraint\n",
    "base_params['PermShkStd'] = [PermShkStd]   # Standard deviation of log permanent income shocks\n",
    "base_params['TranShkStd'] = [TranShkStd]   # Standard deviation of log transitory income shocks\n",
    "\n",
    "# Some technical settings that are not interesting for our purposes\n",
    "base_params['LivPrb']       = [1.0]   # 100 percent probability of living to next period\n",
    "base_params['CubicBool']    = True    # Use cubic spline interpolation\n",
    "base_params['T_cycle']      = 1       # No 'seasonal' cycles\n",
    "base_params['BoroCnstArt']  = None    # No artificial borrowing constraint\n",
    "\n",
    "from HARK.utilities import plotFuncsDer, plotFuncs\n",
    "from HARK.ConsumptionSaving.ConsIndShockModel import IndShockConsumerType"
   ]
  },
  {
   "cell_type": "code",
   "execution_count": 16,
   "metadata": {},
   "outputs": [],
   "source": [
    "# Create a model identical to the dolo model\n",
    "# Start with the HARK baseline parameters and modify \n",
    "# to be like the dolo model \n",
    "base_params_dolo = dict(base_params)\n",
    "base_params_dolo['BoroCnstArt']  = 0.0    # Liquidity constraint at 0\n",
    "base_params_dolo['UnempPrb']     = 0      # No point-mass on unemployment state \n",
    "base_params_dolo['TranShkCount'] = 5      # Default number of nodes in dolo\n",
    "base_params_dolo['PermShkCount'] = 5\n",
    "base_params_dolo['aXtraMax']     = max_m  # Use same maximum\n",
    "base_params_dolo['aXtraCount']   = 100    # How dense to make the grid\n",
    "base_params_dolo['DiscFac']      = 0.96\n",
    "#base_params_dolo['CubicBool']    = False\n",
    "model_HARK = IndShockConsumerType(**base_params_dolo,cycles=0) # cycles=0 indicates infinite horizon"
   ]
  },
  {
   "cell_type": "code",
   "execution_count": 17,
   "metadata": {},
   "outputs": [],
   "source": [
    "# Solve the HARK model \n",
    "model_HARK.updateIncomeProcess()\n",
    "model_HARK.solve()\n",
    "model_HARK.unpackcFunc()"
   ]
  },
  {
   "cell_type": "code",
   "execution_count": 18,
   "metadata": {},
   "outputs": [
    {
     "data": {
      "text/plain": [
       "[<matplotlib.lines.Line2D at 0x1c2633b4a8>]"
      ]
     },
     "execution_count": 18,
     "metadata": {},
     "output_type": "execute_result"
    },
    {
     "data": {
      "image/png": "[encoded data removed]",
      "text/plain": [
       "<Figure size 432x288 with 1 Axes>"
      ]
     },
     "metadata": {
      "needs_background": "light"
     },
     "output_type": "display_data"
    }
   ],
   "source": [
    "# Plot the results: Green is perfect foresight, red is HARK, black is dolo\n",
    "tab = tabulate(model_dolo, dr, 'm')\n",
    "plt.plot(tab['m'],tab['c'])     # This is pretty cool syntax\n",
    "m = np.ndarray.tolist(np.array(tab.values.tolist())[:,2]) # Is there an easier way to get the points in m?\n",
    "c_m  = model_HARK.cFunc[0](m)   \n",
    "# cPF uses the analytical formula for the perfect foresight solution\n",
    "cPF = (np.array(m)-1+1/(1-PermGroFac/Rfree))*((Rfree-(Rfree * DiscFac)**(1/CRRA))/Rfree)\n",
    "plt.plot(tab['m'],c_m,color=\"red\")\n",
    "plt.plot(m,cPF,color=\"green\")"
   ]
  }
 ],
 "metadata": {
  "@webio": {
   "lastCommId": "a8ab2762cccf499696a7ef0a86be4d18",
   "lastKernelId": "261999dd-7ee7-4ad4-9a26-99a84a77979b"
  },
  "cite2c": {
   "citations": {
    "6202365/8AH9AXN2": {
     "URL": "http://econ.jhu.edu/people/ccarroll/papers/BufferStockTheory.pdf",
     "author": [
      {
       "family": "Carroll",
       "given": "Christopher"
      }
     ],
     "container-title": "Manuscript, Department of Economics, Johns Hopkins University",
     "id": "6202365/8AH9AXN2",
     "issued": {
      "month": 2,
      "year": 2019
     },
     "note": "Available at http://econ.jhu.edu/people/ccarroll/papers/BufferStockTheory \nCitation Key: carrollBufferStockTheory \nbibtex*[extra=bibtex:carrollBufferStockTheory]",
     "title": "Theoretical Foundations of Buffer Stock Saving",
     "type": "article-journal"
    },
    "6202365/TGG4U7J4": {
     "author": [
      {
       "family": "Clarida",
       "given": "Richard H."
      }
     ],
     "container-title": "International Economic Review",
     "issued": {
      "date-parts": [
       [
        1987
       ]
      ]
     },
     "page": "339–351",
     "title": "Consumption, Liquidity Constraints, and Asset Accumulation in the Face of Random Fluctuations in Income",
     "type": "article-journal",
     "volume": "XXVIII"
    },
    "undefined": {
     "URL": "http://econ.jhu.edu/people/ccarroll/papers/BufferStockTheory.pdf",
     "author": [
      {
       "family": "Carroll",
       "given": "Christopher"
      }
     ],
     "container-title": "Manuscript, Department of Economics, Johns Hopkins University",
     "issued": {
      "date-parts": [
       [
        "2019",
        2
       ]
      ]
     },
     "note": "Available at http://econ.jhu.edu/people/ccarroll/papers/BufferStockTheory \nCitation Key: carrollBufferStockTheory \nbibtex*[extra=bibtex:carrollBufferStockTheory]",
     "title": "Theoretical Foundations of Buffer Stock Saving",
     "type": "article-journal"
    }
   }
  },
  "jupytext": {
   "formats": "ipynb,py:percent",
   "text_representation": {
    "extension": ".py",
    "format_name": "percent",
    "format_version": "1.1",
    "jupytext_version": "0.8.3"
   }
  },
  "kernelspec": {
   "display_name": "Python 3",
   "language": "python",
   "name": "python3"
  },
  "language_info": {
   "codemirror_mode": {
    "name": "ipython",
    "version": 3
   },
   "file_extension": ".py",
   "mimetype": "text/x-python",
   "name": "python",
   "nbconvert_exporter": "python",
   "pygments_lexer": "ipython3",
   "version": "3.6.7"
  },
  "varInspector": {
   "cols": {
    "lenName": 16,
    "lenType": 16,
    "lenVar": 40
   },
   "kernels_config": {
    "python": {
     "delete_cmd_postfix": "",
     "delete_cmd_prefix": "del ",
     "library": "var_list.py",
     "varRefreshCmd": "print(var_dic_list())"
    },
    "r": {
     "delete_cmd_postfix": ") ",
     "delete_cmd_prefix": "rm(",
     "library": "var_list.r",
     "varRefreshCmd": "cat(var_dic_list()) "
    }
   },
   "types_to_exclude": [
    "module",
    "function",
    "builtin_function_or_method",
    "instance",
    "_Feature"
   ],
   "window_display": false
  }
 },
 "nbformat": 4,
 "nbformat_minor": 2
}
