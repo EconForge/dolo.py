{
 "cells": [
  {
   "cell_type": "markdown",
   "metadata": {},
   "source": [
    "# Buffer Stock Saving in HARK and dolo\n",
    "<!-- <p style=\"text-align: center;\"><small><small>Generator: BufferStockTheory-make/notebooks_byname</small></small></p>\n",
    "-->"
   ]
  },
  {
   "cell_type": "markdown",
   "metadata": {},
   "source": [
    "This notebook compares the solutions to a standard buffer stock saving model obtained by the [Econ-ARK/HARK](https://github.com/econ-ark/HARK) toolkit and the [dolo](https://github.com/EconForge/dolo) modeling system."
   ]
  },
  {
   "cell_type": "code",
   "execution_count": 1,
   "metadata": {
    "code_folding": [
     0
    ]
   },
   "outputs": [],
   "source": [
    "# This cell does some setup and imports generic tools \n",
    "\n",
    "Generator=True # Is this notebook the master or is it generated?\n",
    "# Import related generic python packages\n",
    "import numpy as np\n",
    "from time import clock\n",
    "mystr = lambda number : \"{:.4f}\".format(number)\n",
    "\n",
    "# This is a jupytext paired notebook that autogenerates BufferStockTheory.py\n",
    "# which can be executed from a terminal command line via \"ipython BufferStockTheory.py\"\n",
    "# But a terminal does not permit inline figures, so we need to test jupyter vs terminal\n",
    "# Google \"how can I check if code is executed in the ipython notebook\"\n",
    "\n",
    "from IPython import get_ipython # In case it was run from python instead of ipython\n",
    "def in_ipynb():\n",
    "    try:\n",
    "        if str(type(get_ipython())) == \"<class 'ipykernel.zmqshell.ZMQInteractiveShell'>\":\n",
    "            return True\n",
    "        else:\n",
    "            return False\n",
    "    except NameError:\n",
    "        return False\n",
    "\n",
    "# Determine whether to make the figures inline (for spyder or jupyter)\n",
    "# vs whatever is the automatic setting that will apply if run from the terminal\n",
    "if in_ipynb():\n",
    "    # %matplotlib inline generates a syntax error when run from the shell\n",
    "    # so do this instead\n",
    "    get_ipython().run_line_magic('matplotlib', 'inline')\n",
    "else:\n",
    "    get_ipython().run_line_magic('matplotlib', 'auto')\n",
    "    print('You appear to be running from a terminal')\n",
    "    print('By default, figures will appear one by one')\n",
    "    print('Close the visible figure in order to see the next one')\n",
    "\n",
    "# Import the plot-figure library matplotlib\n",
    "\n",
    "import matplotlib.pyplot as plt\n",
    "\n",
    "# In order to use LaTeX to manage all text layout in our figures, we import rc settings from matplotlib.\n",
    "from matplotlib import rc\n",
    "plt.rc('font', family='serif')\n",
    "\n",
    "# LaTeX is huge and takes forever to install on mybinder\n",
    "# so if it is not installed then do not use it \n",
    "from distutils.spawn import find_executable\n",
    "iflatexExists=False\n",
    "if find_executable('latex'):\n",
    "    iflatexExists=True\n",
    "    \n",
    "plt.rc('font', family='serif')\n",
    "plt.rc('text', usetex=iflatexExists)\n",
    "\n",
    "# The warnings package allows us to ignore some harmless but alarming warning messages\n",
    "import warnings\n",
    "warnings.filterwarnings(\"ignore\")\n",
    "\n",
    "# The tools for navigating the filesystem\n",
    "import sys\n",
    "import os\n",
    "\n",
    "sys.path.insert(0, os.path.abspath('../../lib')) # REMARKs directory is two down from root \n",
    "\n",
    "from HARK.utilities import plotFuncsDer, plotFuncs\n",
    "from copy import copy, deepcopy\n",
    "\n",
    "# Define (and create, if necessary) the figures directory \"Figures\"\n",
    "if Generator:\n",
    "    my_file_path = os.path.dirname(os.path.abspath(\"BufferStockTheory.ipynb\")) # Find pathname to this file:\n",
    "    Figures_HARK_dir = os.path.join(my_file_path,\"Figures/\") # LaTeX document assumes figures will be here\n",
    "    Figures_HARK_dir = os.path.join(my_file_path,\"/tmp/Figures/\") # Uncomment to make figures outside of git path\n",
    "    if not os.path.exists(Figures_HARK_dir):\n",
    "        os.makedirs(Figures_HARK_dir)"
   ]
  },
  {
   "cell_type": "markdown",
   "metadata": {},
   "source": [
    "## [The Problem](http://econ.jhu.edu/people/ccarroll/papers/BufferStockTheory/#The-Problem) \n",
    "\n",
    "[This paper](http://econ.jhu.edu/people/ccarroll/papers/BufferStockTheory/#The-Problem) defines a buffer stock saving model and calibrates parameters:\n",
    "\n",
    "| Parameter | Description | Code | Value |\n",
    "| :---: | ---         | ---  | :---: |\n",
    "| $\\newcommand{\\PermGroFac}{\\Gamma}\\PermGroFac$ | Permanent Income Growth Factor | $\\texttt{PermGroFac}$ | 1.03 |\n",
    "| $\\newcommand{\\Rfree}{\\mathrm{\\mathsf{R}}}\\Rfree$ | Interest Factor | $\\texttt{Rfree}$ | 1.04 |\n",
    "| $\\newcommand{\\DiscFac}{\\beta}\\DiscFac$ | Time Preference Factor | $\\texttt{DiscFac}$ | 0.96 |\n",
    "| $\\newcommand{\\CRRA}{\\rho}\\CRRA$ | Coeﬃcient of Relative Risk Aversion| $\\texttt{CRRA}$ | 2 |\n",
    "| $\\newcommand{\\UnempPrb}{\\wp}\\UnempPrb$ | Probability of Unemployment | $\\texttt{UnempPrb}$ | 0.005 |\n",
    "| $\\newcommand{\\IncUnemp}{\\mu}\\IncUnemp$ | Income when Unemployed | $\\texttt{IncUnemp}$ | 0. |\n",
    "| $\\newcommand{\\PermShkStd}{\\sigma_\\psi}\\PermShkStd$ | Std Dev of Log Permanent Shock| $\\texttt{PermShkStd}$ | 0.1 |\n",
    "| $\\newcommand{\\TranShkStd}{\\sigma_\\theta}\\TranShkStd$ | Std Dev of Log Transitory Shock| $\\texttt{TranShkStd}$ | 0.1 |\n",
    "\n",
    "For a microeconomic consumer with 'Market Resources' (net worth plus current income) $M_{t}$, end-of-period assets $A_{t}$ will be the amount remaining after consumption of $C_{t}$.  <!-- Next period's 'Balances' $B_{t+1}$ reflect this period's $A_{t}$ augmented by return factor $R$:-->\n",
    "\\begin{eqnarray}\n",
    "A_{t}   &=&M_{t}-C_{t}  \\label{eq:DBCparts} \\\\\n",
    "%B_{t+1}   & = & A_{t} R \\notag \\\\\n",
    "\\end{eqnarray}\n",
    "\n",
    "The consumer's permanent noncapital income $P$ grows by a predictable factor $\\PermGroFac$ and is subject to an unpredictable lognormally distributed multiplicative shock $\\mathbb{E}_{t}[\\psi_{t+1}]=1$, \n",
    "\\begin{eqnarray}\n",
    "P_{t+1} & = & P_{t} \\PermGroFac \\psi_{t+1}\n",
    "\\end{eqnarray}\n",
    "\n",
    "and actual income is permanent income multiplied by a logormal multiplicative transitory shock, $\\mathbb{E}_{t}[\\theta_{t+1}]=1$, so that next period's market resources are\n",
    "\\begin{eqnarray}\n",
    "%M_{t+1} &=& B_{t+1} +P_{t+1}\\theta_{t+1},  \\notag\n",
    "M_{t+1} &=& A_{t}R +P_{t+1}\\theta_{t+1}.  \\notag\n",
    "\\end{eqnarray}\n",
    "\n",
    "When the consumer has a CRRA utility function $u(c)=\\frac{c^{1-\\rho}}{1-\\rho}$, the paper shows that the problem can be written in terms of ratios of money variables to permanent income, e.g. $m_{t} \\equiv M_{t}/P_{t}$, and the Bellman form of [the problem reduces to](http://econ.jhu.edu/people/ccarroll/papers/BufferStockTheory/#The-Related-Problem):\n",
    "\n",
    "\\begin{eqnarray*}\n",
    "v_t(m_t) &=& \\max_{c_t}~~ u(c_t) + \\beta~\\mathbb{E}_{t} [(\\Gamma\\psi_{t+1})^{1-\\rho} v_{t+1}(m_{t+1}) ] \\\\\n",
    "& s.t. & \\\\\n",
    "a_t &=& m_t - c_t \\\\\n",
    "m_{t+1} &=& R/(\\Gamma \\psi_{t+1}) a_t + \\theta_{t+1} \\\\\n",
    "\\end{eqnarray*}\n",
    "\n",
    "and the Euler equation for this model is \n",
    "\n",
    "\\begin{eqnarray*}\n",
    "c_{t}^{-\\rho} & = & R \\beta \\mathbb{E}_{t}[(\\Gamma \\psi c_{t+1})^{-\\rho})] \\\\\n",
    "0 & = & R \\beta \\mathbb{E}_{t}[(\\Gamma \\psi c_{t+1}/c_{t})^{-\\rho})]-1\n",
    "\\end{eqnarray*}\n",
    "\n",
    "\n",
    "For the purposes of this notebook, the paper's baseline parameterization is changed as follows:\n",
    "\n",
    "1. The unemployment (zero-income event) shocks are turned off\n",
    "2. An explicit liqudity constraint is added ($c_{t} \\leq m_{t}$)"
   ]
  },
  {
   "cell_type": "markdown",
   "metadata": {},
   "source": [
    "# Dolo\n",
    "\n",
    "[Installation instructions](https://github.com/EconForge/dolo/wiki/Installation) for dolo involve a number of dependencies, including the dolo language \"dolang.\"  This notebook assumes all these have been installed."
   ]
  },
  {
   "cell_type": "code",
   "execution_count": 2,
   "metadata": {},
   "outputs": [],
   "source": [
    "from dolo import *"
   ]
  },
  {
   "cell_type": "markdown",
   "metadata": {},
   "source": [
    "Dolo defines models using \"model files\" whose syntax is specified in the documentation"
   ]
  },
  {
   "cell_type": "code",
   "execution_count": 3,
   "metadata": {},
   "outputs": [
    {
     "name": "stdout",
     "output_type": "stream",
     "text": [
      "\n",
      "        Model:\n",
      "        ------\n",
      "        name: \"anonymous\"\n",
      "        type: \"dtcc\"\n",
      "        file: \"../models/bufferstock.yaml\n",
      "\n",
      "Equations:\n",
      "----------\n",
      "\n",
      "transition\n",
      " 1  : \u001b[31m1.7554\u001b[0m : m(0) == exp(tran(0)) + ((m(-(1))) - (c(-(1)))) * ((R) / ((Γ) * (exp(perm(0)))))\n",
      "\n",
      "arbitrage\n",
      " 1  : \u001b[31m-0.8726\u001b[0m : (((R) * (β)) * (((((c(1)) * (exp(perm(1)))) * (Γ)) / (c(0))) ** (-(ρ)))) - (1)\n",
      "\n",
      "definitions\n",
      "\n",
      "\n"
     ]
    }
   ],
   "source": [
    "model_dolo = yaml_import(\"../models/bufferstock.yaml\")\n",
    "print( model_dolo )"
   ]
  },
  {
   "cell_type": "code",
   "execution_count": 4,
   "metadata": {},
   "outputs": [
    {
     "name": "stdout",
     "output_type": "stream",
     "text": [
      "Solving WITH complementarities.\n",
      "------------------------------------------------\n",
      "| N   |  Error     | Gain     | Time     | nit |\n",
      "------------------------------------------------\n",
      "|   1 |  9.000e-01 |      nan |    0.380 |   5 |\n",
      "|   2 |  2.622e-02 |    0.029 |    0.354 |   5 |\n",
      "|   3 |  1.962e-02 |    0.748 |    0.485 |   5 |\n",
      "|   4 |  1.979e-02 |    1.009 |    0.517 |   5 |\n",
      "|   5 |  2.098e-02 |    1.060 |    0.508 |   5 |\n",
      "|   6 |  2.335e-02 |    1.113 |    0.425 |   5 |\n",
      "|   7 |  2.546e-02 |    1.090 |    0.402 |   5 |\n",
      "|   8 |  2.664e-02 |    1.046 |    0.272 |   3 |\n",
      "|   9 |  2.575e-02 |    0.966 |    0.277 |   3 |\n",
      "|  10 |  2.378e-02 |    0.924 |    0.250 |   3 |\n",
      "|  11 |  2.534e-02 |    1.066 |    0.268 |   3 |\n",
      "|  12 |  2.549e-02 |    1.006 |    0.296 |   3 |\n",
      "|  13 |  2.491e-02 |    0.977 |    0.298 |   3 |\n",
      "|  14 |  2.588e-02 |    1.039 |    0.264 |   3 |\n",
      "|  15 |  2.537e-02 |    0.980 |    0.231 |   3 |\n",
      "|  16 |  2.618e-02 |    1.032 |    0.263 |   3 |\n",
      "|  17 |  2.620e-02 |    1.001 |    0.261 |   3 |\n",
      "|  18 |  2.637e-02 |    1.007 |    0.156 |   2 |\n",
      "|  19 |  2.687e-02 |    1.019 |    0.193 |   2 |\n",
      "|  20 |  2.729e-02 |    1.016 |    0.162 |   2 |\n",
      "|  21 |  2.783e-02 |    1.020 |    0.189 |   2 |\n",
      "|  22 |  2.839e-02 |    1.020 |    0.162 |   2 |\n",
      "|  23 |  2.897e-02 |    1.021 |    0.178 |   2 |\n",
      "|  24 |  2.957e-02 |    1.021 |    0.159 |   2 |\n",
      "|  25 |  3.017e-02 |    1.021 |    0.185 |   2 |\n",
      "|  26 |  3.080e-02 |    1.021 |    0.162 |   2 |\n",
      "|  27 |  3.143e-02 |    1.021 |    0.179 |   2 |\n",
      "|  28 |  3.208e-02 |    1.021 |    0.176 |   2 |\n",
      "|  29 |  3.274e-02 |    1.021 |    0.209 |   2 |\n",
      "|  30 |  3.341e-02 |    1.021 |    0.203 |   2 |\n",
      "|  31 |  3.410e-02 |    1.021 |    0.164 |   2 |\n",
      "|  32 |  3.480e-02 |    1.021 |    0.215 |   2 |\n",
      "|  33 |  3.551e-02 |    1.021 |    0.257 |   2 |\n",
      "|  34 |  3.624e-02 |    1.021 |    0.278 |   2 |\n",
      "|  35 |  3.699e-02 |    1.021 |    0.256 |   2 |\n",
      "|  36 |  3.775e-02 |    1.021 |    0.207 |   2 |\n",
      "|  37 |  3.853e-02 |    1.021 |    0.174 |   2 |\n",
      "|  38 |  3.932e-02 |    1.021 |    0.203 |   2 |\n",
      "|  39 |  4.013e-02 |    1.021 |    0.176 |   2 |\n",
      "|  40 |  4.095e-02 |    1.021 |    0.228 |   2 |\n",
      "|  41 |  4.179e-02 |    1.021 |    0.167 |   2 |\n",
      "|  42 |  4.265e-02 |    1.021 |    0.185 |   2 |\n",
      "|  43 |  4.353e-02 |    1.021 |    0.167 |   2 |\n",
      "|  44 |  4.443e-02 |    1.021 |    0.199 |   2 |\n",
      "|  45 |  4.534e-02 |    1.021 |    0.165 |   2 |\n",
      "|  46 |  4.627e-02 |    1.021 |    0.218 |   2 |\n",
      "|  47 |  4.722e-02 |    1.021 |    0.205 |   2 |\n",
      "|  48 |  4.820e-02 |    1.021 |    0.167 |   2 |\n",
      "|  49 |  4.919e-02 |    1.021 |    0.211 |   2 |\n",
      "|  50 |  5.020e-02 |    1.021 |    0.206 |   2 |\n",
      "|  51 |  5.123e-02 |    1.021 |    0.276 |   2 |\n",
      "|  52 |  5.229e-02 |    1.021 |    0.266 |   2 |\n",
      "|  53 |  5.336e-02 |    1.021 |    0.266 |   2 |\n",
      "|  54 |  5.446e-02 |    1.021 |    0.186 |   2 |\n",
      "|  55 |  5.558e-02 |    1.021 |    0.207 |   2 |\n",
      "|  56 |  5.672e-02 |    1.021 |    0.181 |   2 |\n",
      "|  57 |  5.789e-02 |    1.021 |    0.214 |   2 |\n",
      "|  58 |  5.908e-02 |    1.021 |    0.212 |   2 |\n",
      "|  59 |  6.029e-02 |    1.021 |    0.173 |   2 |\n",
      "|  60 |  6.153e-02 |    1.021 |    0.181 |   2 |\n",
      "|  61 |  6.280e-02 |    1.021 |    0.162 |   2 |\n",
      "|  62 |  6.409e-02 |    1.021 |    0.184 |   2 |\n",
      "|  63 |  6.541e-02 |    1.021 |    0.169 |   2 |\n",
      "|  64 |  6.675e-02 |    1.021 |    0.198 |   2 |\n",
      "|  65 |  6.813e-02 |    1.021 |    0.163 |   2 |\n",
      "|  66 |  6.953e-02 |    1.021 |    0.207 |   2 |\n",
      "|  67 |  7.096e-02 |    1.021 |    0.163 |   2 |\n",
      "|  68 |  7.242e-02 |    1.021 |    0.221 |   2 |\n",
      "|  69 |  7.391e-02 |    1.021 |    0.211 |   2 |\n",
      "|  70 |  7.543e-02 |    1.021 |    0.186 |   2 |\n",
      "|  71 |  7.698e-02 |    1.021 |    0.235 |   2 |\n",
      "|  72 |  7.856e-02 |    1.021 |    0.262 |   2 |\n",
      "|  73 |  8.018e-02 |    1.021 |    0.300 |   2 |\n",
      "|  74 |  8.183e-02 |    1.021 |    0.302 |   2 |\n",
      "|  75 |  8.351e-02 |    1.021 |    0.216 |   2 |\n",
      "|  76 |  8.523e-02 |    1.021 |    0.166 |   2 |\n",
      "|  77 |  8.698e-02 |    1.021 |    0.219 |   2 |\n",
      "|  78 |  8.877e-02 |    1.021 |    0.214 |   2 |\n",
      "|  79 |  9.060e-02 |    1.021 |    0.183 |   2 |\n",
      "|  80 |  9.246e-02 |    1.021 |    0.211 |   2 |\n",
      "|  81 |  9.436e-02 |    1.021 |    0.165 |   2 |\n",
      "|  82 |  9.630e-02 |    1.021 |    0.187 |   2 |\n",
      "|  83 |  9.828e-02 |    1.021 |    0.161 |   2 |\n",
      "|  84 |  1.003e-01 |    1.021 |    0.190 |   2 |\n",
      "|  85 |  1.024e-01 |    1.021 |    0.172 |   2 |\n",
      "|  86 |  1.045e-01 |    1.021 |    0.263 |   3 |\n",
      "|  87 |  1.066e-01 |    1.021 |    0.248 |   3 |\n",
      "|  88 |  1.088e-01 |    1.021 |    0.282 |   3 |\n",
      "|  89 |  1.111e-01 |    1.021 |    0.334 |   3 |\n",
      "|  90 |  1.133e-01 |    1.021 |    0.224 |   3 |\n",
      "|  91 |  1.157e-01 |    1.021 |    0.243 |   3 |\n",
      "|  92 |  1.180e-01 |    1.021 |    0.271 |   3 |\n",
      "|  93 |  1.205e-01 |    1.021 |    0.270 |   3 |\n",
      "|  94 |  1.230e-01 |    1.021 |    0.241 |   3 |\n",
      "|  95 |  1.255e-01 |    1.021 |    0.266 |   3 |\n",
      "|  96 |  1.281e-01 |    1.021 |    0.283 |   3 |\n",
      "|  97 |  1.307e-01 |    1.021 |    0.435 |   3 |\n",
      "|  98 |  1.334e-01 |    1.021 |    0.342 |   3 |\n",
      "|  99 |  1.361e-01 |    1.021 |    0.269 |   3 |\n",
      "| 100 |  1.389e-01 |    1.021 |    0.250 |   3 |\n",
      "| 101 |  1.418e-01 |    1.021 |    0.235 |   3 |\n",
      "| 102 |  1.447e-01 |    1.021 |    0.269 |   3 |\n",
      "| 103 |  1.477e-01 |    1.021 |    0.252 |   3 |\n",
      "| 104 |  1.507e-01 |    1.021 |    0.265 |   3 |\n",
      "| 105 |  1.538e-01 |    1.021 |    0.251 |   3 |\n",
      "| 106 |  1.570e-01 |    1.021 |    0.267 |   3 |\n",
      "| 107 |  1.602e-01 |    1.021 |    0.259 |   3 |\n",
      "| 108 |  1.635e-01 |    1.021 |    0.257 |   3 |\n",
      "| 109 |  1.669e-01 |    1.021 |    0.449 |   3 |\n",
      "| 110 |  1.703e-01 |    1.021 |    0.342 |   3 |\n",
      "| 111 |  1.738e-01 |    1.021 |    0.695 |   3 |\n",
      "| 112 |  1.774e-01 |    1.021 |    0.574 |   3 |\n",
      "| 113 |  1.811e-01 |    1.021 |    0.334 |   3 |\n",
      "| 114 |  1.848e-01 |    1.021 |    0.328 |   3 |\n",
      "| 115 |  1.886e-01 |    1.021 |    0.397 |   3 |\n",
      "| 116 |  1.925e-01 |    1.021 |    0.333 |   3 |\n",
      "| 117 |  1.965e-01 |    1.021 |    0.300 |   3 |\n",
      "| 118 |  2.006e-01 |    1.021 |    0.264 |   3 |\n",
      "| 119 |  2.048e-01 |    1.021 |    0.269 |   3 |\n",
      "| 120 |  2.090e-01 |    1.021 |    0.277 |   3 |\n",
      "| 121 |  2.134e-01 |    1.021 |    0.331 |   3 |\n",
      "| 122 |  2.178e-01 |    1.021 |    0.259 |   3 |\n",
      "| 123 |  2.224e-01 |    1.021 |    0.239 |   3 |\n",
      "| 124 |  2.270e-01 |    1.021 |    0.259 |   3 |\n",
      "| 125 |  2.318e-01 |    1.021 |    0.256 |   3 |\n",
      "| 126 |  2.366e-01 |    1.021 |    0.246 |   3 |\n",
      "| 127 |  2.416e-01 |    1.021 |    0.218 |   3 |\n",
      "| 128 |  2.466e-01 |    1.021 |    0.288 |   3 |\n",
      "| 129 |  2.517e-01 |    1.021 |    0.307 |   3 |\n",
      "| 130 |  2.569e-01 |    1.021 |    0.255 |   3 |\n",
      "| 131 |  2.622e-01 |    1.020 |    0.240 |   3 |\n",
      "| 132 |  2.674e-01 |    1.020 |    0.306 |   3 |\n",
      "| 133 |  2.727e-01 |    1.020 |    0.277 |   3 |\n",
      "| 134 |  2.779e-01 |    1.019 |    0.278 |   3 |\n",
      "| 135 |  2.831e-01 |    1.018 |    0.265 |   3 |\n",
      "| 136 |  2.880e-01 |    1.018 |    0.311 |   3 |\n",
      "| 137 |  2.928e-01 |    1.016 |    0.241 |   3 |\n",
      "| 138 |  2.972e-01 |    1.015 |    0.277 |   3 |\n",
      "| 139 |  3.012e-01 |    1.013 |    0.279 |   3 |\n",
      "| 140 |  3.047e-01 |    1.012 |    0.278 |   3 |\n",
      "| 141 |  3.075e-01 |    1.009 |    0.252 |   3 |\n",
      "| 142 |  3.096e-01 |    1.007 |    0.272 |   3 |\n",
      "| 143 |  3.108e-01 |    1.004 |    0.284 |   3 |\n",
      "| 144 |  3.109e-01 |    1.000 |    0.262 |   3 |\n",
      "| 145 |  3.100e-01 |    0.997 |    0.283 |   3 |\n",
      "| 146 |  3.078e-01 |    0.993 |    0.342 |   3 |\n",
      "| 147 |  3.043e-01 |    0.989 |    0.252 |   3 |\n",
      "| 148 |  2.995e-01 |    0.984 |    0.303 |   3 |\n",
      "| 149 |  2.934e-01 |    0.980 |    0.293 |   3 |\n",
      "| 150 |  2.859e-01 |    0.975 |    0.271 |   3 |\n",
      "| 151 |  2.773e-01 |    0.970 |    0.314 |   3 |\n",
      "| 152 |  2.675e-01 |    0.965 |    0.165 |   2 |\n",
      "| 153 |  2.567e-01 |    0.960 |    0.188 |   2 |\n",
      "| 154 |  2.451e-01 |    0.955 |    0.176 |   2 |\n",
      "| 155 |  2.329e-01 |    0.950 |    0.192 |   2 |\n",
      "| 156 |  2.202e-01 |    0.945 |    0.146 |   2 |\n",
      "| 157 |  2.071e-01 |    0.941 |    0.225 |   2 |\n",
      "| 158 |  1.940e-01 |    0.937 |    0.204 |   2 |\n",
      "| 159 |  1.810e-01 |    0.933 |    0.183 |   2 |\n",
      "| 160 |  1.681e-01 |    0.929 |    0.179 |   2 |\n",
      "| 161 |  1.556e-01 |    0.925 |    0.188 |   2 |\n",
      "| 162 |  1.435e-01 |    0.922 |    0.246 |   2 |\n",
      "| 163 |  1.319e-01 |    0.919 |    0.212 |   2 |\n",
      "| 164 |  1.209e-01 |    0.917 |    0.244 |   2 |\n",
      "| 165 |  1.105e-01 |    0.914 |    0.195 |   2 |\n"
     ]
    },
    {
     "name": "stdout",
     "output_type": "stream",
     "text": [
      "| 166 |  1.008e-01 |    0.912 |    0.195 |   2 |\n",
      "| 167 |  9.170e-02 |    0.910 |    0.205 |   2 |\n",
      "| 168 |  8.328e-02 |    0.908 |    0.199 |   2 |\n",
      "| 169 |  7.549e-02 |    0.907 |    0.369 |   2 |\n",
      "| 170 |  6.833e-02 |    0.905 |    0.260 |   2 |\n",
      "| 171 |  6.176e-02 |    0.904 |    0.324 |   2 |\n",
      "| 172 |  5.576e-02 |    0.903 |    0.268 |   2 |\n",
      "| 173 |  5.028e-02 |    0.902 |    0.254 |   2 |\n",
      "| 174 |  4.530e-02 |    0.901 |    0.231 |   2 |\n",
      "| 175 |  4.078e-02 |    0.900 |    0.182 |   2 |\n",
      "| 176 |  3.668e-02 |    0.900 |    0.203 |   2 |\n",
      "| 177 |  3.297e-02 |    0.899 |    0.183 |   2 |\n",
      "| 178 |  2.963e-02 |    0.898 |    0.292 |   2 |\n",
      "| 179 |  2.661e-02 |    0.898 |    0.219 |   2 |\n",
      "| 180 |  2.388e-02 |    0.898 |    0.222 |   2 |\n",
      "| 181 |  2.143e-02 |    0.897 |    0.205 |   2 |\n",
      "| 182 |  1.923e-02 |    0.897 |    0.224 |   2 |\n",
      "| 183 |  1.724e-02 |    0.897 |    0.155 |   2 |\n",
      "| 184 |  1.546e-02 |    0.897 |    0.192 |   2 |\n",
      "| 185 |  1.386e-02 |    0.897 |    0.158 |   2 |\n",
      "| 186 |  1.243e-02 |    0.896 |    0.202 |   2 |\n",
      "| 187 |  1.114e-02 |    0.896 |    0.154 |   2 |\n",
      "| 188 |  9.982e-03 |    0.896 |    0.202 |   2 |\n",
      "| 189 |  8.945e-03 |    0.896 |    0.218 |   2 |\n",
      "| 190 |  8.016e-03 |    0.896 |    0.238 |   2 |\n",
      "| 191 |  7.183e-03 |    0.896 |    0.217 |   2 |\n",
      "| 192 |  6.437e-03 |    0.896 |    0.166 |   2 |\n",
      "| 193 |  5.768e-03 |    0.896 |    0.229 |   2 |\n",
      "| 194 |  5.168e-03 |    0.896 |    0.193 |   2 |\n",
      "| 195 |  4.631e-03 |    0.896 |    0.204 |   2 |\n",
      "| 196 |  4.150e-03 |    0.896 |    0.164 |   2 |\n",
      "| 197 |  3.719e-03 |    0.896 |    0.222 |   2 |\n",
      "| 198 |  3.333e-03 |    0.896 |    0.191 |   2 |\n",
      "| 199 |  2.987e-03 |    0.896 |    0.162 |   2 |\n",
      "| 200 |  2.677e-03 |    0.896 |    0.182 |   2 |\n",
      "| 201 |  2.399e-03 |    0.896 |    0.209 |   2 |\n",
      "| 202 |  2.151e-03 |    0.896 |    0.208 |   2 |\n",
      "| 203 |  1.928e-03 |    0.896 |    0.114 |   1 |\n",
      "| 204 |  1.728e-03 |    0.896 |    0.139 |   1 |\n",
      "| 205 |  1.549e-03 |    0.896 |    0.129 |   1 |\n",
      "| 206 |  1.389e-03 |    0.897 |    0.120 |   1 |\n",
      "| 207 |  1.245e-03 |    0.896 |    0.110 |   1 |\n",
      "| 208 |  1.116e-03 |    0.897 |    0.098 |   1 |\n",
      "| 209 |  1.001e-03 |    0.897 |    0.102 |   1 |\n",
      "| 210 |  8.975e-04 |    0.897 |    0.132 |   1 |\n",
      "| 211 |  8.049e-04 |    0.897 |    0.099 |   1 |\n",
      "| 212 |  7.218e-04 |    0.897 |    0.119 |   1 |\n",
      "| 213 |  6.473e-04 |    0.897 |    0.138 |   1 |\n",
      "| 214 |  5.806e-04 |    0.897 |    0.112 |   1 |\n",
      "| 215 |  5.207e-04 |    0.897 |    0.115 |   1 |\n",
      "| 216 |  4.670e-04 |    0.897 |    0.136 |   1 |\n",
      "| 217 |  4.189e-04 |    0.897 |    0.114 |   1 |\n",
      "| 218 |  3.757e-04 |    0.897 |    0.126 |   1 |\n",
      "| 219 |  3.371e-04 |    0.897 |    0.129 |   1 |\n",
      "| 220 |  3.024e-04 |    0.897 |    0.100 |   1 |\n",
      "| 221 |  2.714e-04 |    0.897 |    0.112 |   1 |\n",
      "| 222 |  2.435e-04 |    0.897 |    0.163 |   1 |\n",
      "| 223 |  2.184e-04 |    0.897 |    0.106 |   1 |\n",
      "| 224 |  1.960e-04 |    0.897 |    0.141 |   1 |\n",
      "| 225 |  1.759e-04 |    0.897 |    0.120 |   1 |\n",
      "| 226 |  1.578e-04 |    0.897 |    0.127 |   1 |\n",
      "| 227 |  1.416e-04 |    0.897 |    0.112 |   1 |\n",
      "| 228 |  1.271e-04 |    0.897 |    0.100 |   1 |\n",
      "| 229 |  1.140e-04 |    0.897 |    0.097 |   1 |\n",
      "| 230 |  1.024e-04 |    0.898 |    0.140 |   1 |\n",
      "| 231 |  9.187e-05 |    0.897 |    0.107 |   1 |\n",
      "| 232 |  8.246e-05 |    0.898 |    0.143 |   1 |\n",
      "| 233 |  7.403e-05 |    0.898 |    0.158 |   1 |\n",
      "| 234 |  6.643e-05 |    0.897 |    0.116 |   1 |\n",
      "| 235 |  5.963e-05 |    0.898 |    0.138 |   1 |\n",
      "| 236 |  5.353e-05 |    0.898 |    0.116 |   1 |\n",
      "| 237 |  4.805e-05 |    0.898 |    0.122 |   1 |\n",
      "| 238 |  4.314e-05 |    0.898 |    0.135 |   1 |\n",
      "| 239 |  3.872e-05 |    0.897 |    0.095 |   1 |\n",
      "| 240 |  3.477e-05 |    0.898 |    0.110 |   1 |\n",
      "| 241 |  3.121e-05 |    0.898 |    0.138 |   1 |\n",
      "| 242 |  2.802e-05 |    0.898 |    0.123 |   1 |\n",
      "| 243 |  2.516e-05 |    0.898 |    0.104 |   1 |\n",
      "| 244 |  2.258e-05 |    0.898 |    0.129 |   1 |\n",
      "| 245 |  2.028e-05 |    0.898 |    0.115 |   1 |\n",
      "| 246 |  1.821e-05 |    0.898 |    0.102 |   1 |\n",
      "| 247 |  1.635e-05 |    0.898 |    0.131 |   1 |\n",
      "| 248 |  1.468e-05 |    0.898 |    0.107 |   1 |\n",
      "| 249 |  1.318e-05 |    0.898 |    0.092 |   1 |\n",
      "| 250 |  1.184e-05 |    0.898 |    0.127 |   1 |\n",
      "| 251 |  1.063e-05 |    0.898 |    0.095 |   1 |\n",
      "| 252 |  9.546e-06 |    0.898 |    0.096 |   1 |\n",
      "| 253 |  8.574e-06 |    0.898 |    0.159 |   1 |\n",
      "| 254 |  7.699e-06 |    0.898 |    0.112 |   1 |\n",
      "| 255 |  6.913e-06 |    0.898 |    0.103 |   1 |\n",
      "| 256 |  6.208e-06 |    0.898 |    0.146 |   1 |\n",
      "| 257 |  5.576e-06 |    0.898 |    0.101 |   1 |\n",
      "| 258 |  5.006e-06 |    0.898 |    0.115 |   1 |\n",
      "| 259 |  4.497e-06 |    0.898 |    0.149 |   1 |\n",
      "| 260 |  4.039e-06 |    0.898 |    0.094 |   1 |\n",
      "| 261 |  3.628e-06 |    0.898 |    0.093 |   1 |\n",
      "| 262 |  3.258e-06 |    0.898 |    0.133 |   1 |\n",
      "| 263 |  2.926e-06 |    0.898 |    0.125 |   1 |\n",
      "| 264 |  2.628e-06 |    0.898 |    0.113 |   1 |\n",
      "| 265 |  2.361e-06 |    0.898 |    0.188 |   1 |\n",
      "| 266 |  2.121e-06 |    0.898 |    0.235 |   1 |\n",
      "| 267 |  1.904e-06 |    0.898 |    0.155 |   1 |\n",
      "| 268 |  1.711e-06 |    0.898 |    0.194 |   1 |\n",
      "| 269 |  1.536e-06 |    0.898 |    0.136 |   1 |\n",
      "| 270 |  1.380e-06 |    0.898 |    0.176 |   1 |\n",
      "| 271 |  1.240e-06 |    0.899 |    0.134 |   1 |\n",
      "| 272 |  1.114e-06 |    0.898 |    0.137 |   1 |\n",
      "| 273 |  1.001e-06 |    0.899 |    0.181 |   1 |\n",
      "| 274 |  8.986e-07 |    0.898 |    0.255 |   1 |\n",
      "| 275 |  8.070e-07 |    0.898 |    0.142 |   1 |\n",
      "| 276 |  7.251e-07 |    0.899 |    0.172 |   1 |\n",
      "| 277 |  6.512e-07 |    0.898 |    0.149 |   1 |\n",
      "| 278 |  5.851e-07 |    0.898 |    0.186 |   1 |\n",
      "| 279 |  5.256e-07 |    0.898 |    0.110 |   1 |\n",
      "| 280 |  4.722e-07 |    0.898 |    0.135 |   1 |\n",
      "| 281 |  4.242e-07 |    0.898 |    0.141 |   1 |\n",
      "| 282 |  3.810e-07 |    0.898 |    0.132 |   1 |\n",
      "| 283 |  3.423e-07 |    0.898 |    0.172 |   1 |\n",
      "| 284 |  3.075e-07 |    0.898 |    0.109 |   1 |\n",
      "| 285 |  2.763e-07 |    0.898 |    0.098 |   1 |\n",
      "| 286 |  2.482e-07 |    0.898 |    0.141 |   1 |\n",
      "| 287 |  2.230e-07 |    0.898 |    0.116 |   1 |\n",
      "| 288 |  2.003e-07 |    0.898 |    0.114 |   1 |\n",
      "| 289 |  1.800e-07 |    0.898 |    0.132 |   1 |\n",
      "| 290 |  1.617e-07 |    0.898 |    0.100 |   1 |\n",
      "| 291 |  1.453e-07 |    0.899 |    0.115 |   1 |\n",
      "| 292 |  1.305e-07 |    0.898 |    0.146 |   1 |\n",
      "| 293 |  1.172e-07 |    0.898 |    0.104 |   1 |\n",
      "| 294 |  0.000e+00 |    0.000 |    0.032 |   0 |\n",
      "------------------------------------------------\n",
      "Elapsed: 61.1863579750061 seconds.\n",
      "------------------------------------------------\n"
     ]
    }
   ],
   "source": [
    "# Set a maximum value of the market resources ratio m for use in both models\n",
    "max_m = 500\n",
    "model_dolo.data['calibration']['max_m'] = max_m\n",
    "model_dolo.data['domain']['m'] = [0,'max_m']\n",
    "\n",
    "# Obtain the decision rule by time iteration\n",
    "dr = time_iteration(model_dolo,tol=1e-08,verbose=True)"
   ]
  },
  {
   "cell_type": "markdown",
   "metadata": {},
   "source": [
    "# HARK\n",
    "The HARK tool used here is $\\texttt{ConsIndShockModel.py}$.  For an introduction to this module, see the [ConsIndShockModel.ipynb](https://econ-ark.org/notebooks) notebook at the [Econ-ARK](https://econ-ark.org) website."
   ]
  },
  {
   "cell_type": "code",
   "execution_count": 5,
   "metadata": {
    "code_folding": [
     0
    ],
    "lines_to_next_cell": 0
   },
   "outputs": [],
   "source": [
    "# Define a parameter dictionary with baseline parameter values\n",
    "\n",
    "# Set the baseline parameter values \n",
    "PermGroFac = 1.03\n",
    "Rfree      = 1.04\n",
    "DiscFac    = 0.96\n",
    "CRRA       = 2.00\n",
    "UnempPrb   = 0.00\n",
    "IncUnemp   = 0.0\n",
    "PermShkStd = 0.1\n",
    "TranShkStd = 0.1\n",
    "# Import default parameter values\n",
    "import HARK.ConsumptionSaving.ConsumerParameters as Params \n",
    "\n",
    "# Make a dictionary containing all parameters needed to solve the model\n",
    "base_params = Params.init_idiosyncratic_shocks\n",
    "\n",
    "# Set the parameters for the baseline results in the paper\n",
    "# using the variable values defined in the cell above\n",
    "base_params['PermGroFac'] = [PermGroFac]   # Permanent income growth factor\n",
    "base_params['Rfree']      = Rfree          # Interest factor on assets\n",
    "base_params['DiscFac']    = DiscFac        # Time Preference Factor\n",
    "base_params['CRRA']       = CRRA           # Coefficient of relative risk aversion\n",
    "base_params['UnempPrb']   = UnempPrb       # Probability of unemployment (e.g. Probability of Zero Income in the paper)\n",
    "base_params['IncUnemp']   = IncUnemp       # Induces natural borrowing constraint\n",
    "base_params['PermShkStd'] = [PermShkStd]   # Standard deviation of log permanent income shocks\n",
    "base_params['TranShkStd'] = [TranShkStd]   # Standard deviation of log transitory income shocks\n",
    "\n",
    "# Some technical settings that are not interesting for our purposes\n",
    "base_params['LivPrb']       = [1.0]   # 100 percent probability of living to next period\n",
    "base_params['CubicBool']    = True    # Use cubic spline interpolation\n",
    "base_params['T_cycle']      = 1       # No 'seasonal' cycles\n",
    "base_params['BoroCnstArt']  = None    # No artificial borrowing constraint\n",
    "\n",
    "from HARK.utilities import plotFuncsDer, plotFuncs\n",
    "from HARK.ConsumptionSaving.ConsIndShockModel import IndShockConsumerType"
   ]
  },
  {
   "cell_type": "code",
   "execution_count": 6,
   "metadata": {},
   "outputs": [],
   "source": [
    "# Create a model identical to the dolo model\n",
    "# Start with the HARK baseline parameters and modify \n",
    "# to be like the dolo model \n",
    "base_params_dolo = dict(base_params)\n",
    "base_params_dolo['BoroCnstArt']  = 0.0    # Liquidity constraint at 0\n",
    "base_params_dolo['UnempPrb']     = 0      # No point-mass on unemployment state \n",
    "base_params_dolo['TranShkCount'] = 5      # Default number of nodes in dolo\n",
    "base_params_dolo['PermShkCount'] = 5\n",
    "base_params_dolo['aXtraMax']     = max_m  # Use same maximum\n",
    "base_params_dolo['aXtraCount']   = 100    # How dense to make the grid\n",
    "base_params_dolo['DiscFac']      = 0.96\n",
    "#base_params_dolo['CubicBool']    = False\n",
    "model_HARK = IndShockConsumerType(**base_params_dolo,cycles=0) # cycles=0 indicates infinite horizon"
   ]
  },
  {
   "cell_type": "code",
   "execution_count": 7,
   "metadata": {},
   "outputs": [],
   "source": [
    "# Solve the HARK model \n",
    "model_HARK.updateIncomeProcess()\n",
    "model_HARK.solve()\n",
    "model_HARK.UnempPrb = 0.05\n",
    "model_HARK.unpackcFunc()"
   ]
  },
  {
   "cell_type": "code",
   "execution_count": 8,
   "metadata": {},
   "outputs": [
    {
     "data": {
      "text/plain": [
       "[<matplotlib.lines.Line2D at 0x1c24714400>]"
      ]
     },
     "execution_count": 8,
     "metadata": {},
     "output_type": "execute_result"
    },
    {
     "data": {
      "image/png": "[encoded data removed]",
      "text/plain": [
       "<Figure size 432x288 with 1 Axes>"
      ]
     },
     "metadata": {
      "needs_background": "light"
     },
     "output_type": "display_data"
    }
   ],
   "source": [
    "\n",
    "# Plot the results: Green is perfect foresight, red is HARK, black is dolo\n",
    "tab = tabulate(model_dolo, dr, 'm')\n",
    "plt.plot(tab['m'],tab['c'])     # This is pretty cool syntax\n",
    "m = tab.iloc[:,2]\n",
    "c_m  = model_HARK.cFunc[0](m)   \n",
    "# cPF uses the analytical formula for the perfect foresight solution\n",
    "cPF = (np.array(m)-1+1/(1-PermGroFac/Rfree))*((Rfree-(Rfree * DiscFac)**(1/CRRA))/Rfree)\n",
    "plt.plot(tab['m'],c_m,color=\"red\")\n",
    "plt.plot(m,cPF,color=\"green\")"
   ]
  }
 ],
 "metadata": {
  "@webio": {
   "lastCommId": "a8ab2762cccf499696a7ef0a86be4d18",
   "lastKernelId": "261999dd-7ee7-4ad4-9a26-99a84a77979b"
  },
  "cite2c": {
   "citations": {
    "6202365/8AH9AXN2": {
     "URL": "http://econ.jhu.edu/people/ccarroll/papers/BufferStockTheory.pdf",
     "author": [
      {
       "family": "Carroll",
       "given": "Christopher"
      }
     ],
     "container-title": "Manuscript, Department of Economics, Johns Hopkins University",
     "id": "6202365/8AH9AXN2",
     "issued": {
      "month": 2,
      "year": 2019
     },
     "note": "Available at http://econ.jhu.edu/people/ccarroll/papers/BufferStockTheory \nCitation Key: carrollBufferStockTheory \nbibtex*[extra=bibtex:carrollBufferStockTheory]",
     "title": "Theoretical Foundations of Buffer Stock Saving",
     "type": "article-journal"
    },
    "6202365/TGG4U7J4": {
     "author": [
      {
       "family": "Clarida",
       "given": "Richard H."
      }
     ],
     "container-title": "International Economic Review",
     "issued": {
      "date-parts": [
       [
        1987
       ]
      ]
     },
     "page": "339–351",
     "title": "Consumption, Liquidity Constraints, and Asset Accumulation in the Face of Random Fluctuations in Income",
     "type": "article-journal",
     "volume": "XXVIII"
    },
    "undefined": {
     "URL": "http://econ.jhu.edu/people/ccarroll/papers/BufferStockTheory.pdf",
     "author": [
      {
       "family": "Carroll",
       "given": "Christopher"
      }
     ],
     "container-title": "Manuscript, Department of Economics, Johns Hopkins University",
     "issued": {
      "date-parts": [
       [
        "2019",
        2
       ]
      ]
     },
     "note": "Available at http://econ.jhu.edu/people/ccarroll/papers/BufferStockTheory \nCitation Key: carrollBufferStockTheory \nbibtex*[extra=bibtex:carrollBufferStockTheory]",
     "title": "Theoretical Foundations of Buffer Stock Saving",
     "type": "article-journal"
    }
   }
  },
  "jupytext": {
   "formats": "ipynb,py:percent",
   "text_representation": {
    "extension": ".py",
    "format_name": "percent",
    "format_version": "1.1",
    "jupytext_version": "0.8.3"
   }
  },
  "kernelspec": {
   "display_name": "Python 3",
   "language": "python",
   "name": "python3"
  },
  "language_info": {
   "codemirror_mode": {
    "name": "ipython",
    "version": 3
   },
   "file_extension": ".py",
   "mimetype": "text/x-python",
   "name": "python",
   "nbconvert_exporter": "python",
   "pygments_lexer": "ipython3",
   "version": "3.6.7"
  },
  "varInspector": {
   "cols": {
    "lenName": 16,
    "lenType": 16,
    "lenVar": 40
   },
   "kernels_config": {
    "python": {
     "delete_cmd_postfix": "",
     "delete_cmd_prefix": "del ",
     "library": "var_list.py",
     "varRefreshCmd": "print(var_dic_list())"
    },
    "r": {
     "delete_cmd_postfix": ") ",
     "delete_cmd_prefix": "rm(",
     "library": "var_list.r",
     "varRefreshCmd": "cat(var_dic_list()) "
    }
   },
   "types_to_exclude": [
    "module",
    "function",
    "builtin_function_or_method",
    "instance",
    "_Feature"
   ],
   "window_display": false
  }
 },
 "nbformat": 4,
 "nbformat_minor": 2
}
