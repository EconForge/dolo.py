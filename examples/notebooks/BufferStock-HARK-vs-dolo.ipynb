{
 "cells": [
  {
   "cell_type": "markdown",
   "metadata": {},
   "source": [
    "# Buffer Stock Saving in HARK and dolo\n",
    "<!-- <p style=\"text-align: center;\"><small><small>Generator: BufferStockTheory-make/notebooks_byname</small></small></p>\n",
    "-->"
   ]
  },
  {
   "cell_type": "markdown",
   "metadata": {},
   "source": [
    "This notebook compares the solutions to a standard buffer stock saving model obtained by the [Econ-ARK/HARK](https://github.com/econ-ark/HARK) toolkit and the [dolo](https://github.com/EconForge/dolo) modeling system."
   ]
  },
  {
   "cell_type": "code",
   "execution_count": 14,
   "metadata": {
    "code_folding": [
     0
    ]
   },
   "outputs": [],
   "source": [
    "# This cell does some setup and imports generic tools \n",
    "\n",
    "Generator=True # Is this notebook the master or is it generated?\n",
    "# Import related generic python packages\n",
    "import numpy as np\n",
    "from time import clock\n",
    "mystr = lambda number : \"{:.4f}\".format(number)\n",
    "\n",
    "# This is a jupytext paired notebook that autogenerates BufferStockTheory.py\n",
    "# which can be executed from a terminal command line via \"ipython BufferStockTheory.py\"\n",
    "# But a terminal does not permit inline figures, so we need to test jupyter vs terminal\n",
    "# Google \"how can I check if code is executed in the ipython notebook\"\n",
    "\n",
    "from IPython import get_ipython # In case it was run from python instead of ipython\n",
    "def in_ipynb():\n",
    "    try:\n",
    "        if str(type(get_ipython())) == \"<class 'ipykernel.zmqshell.ZMQInteractiveShell'>\":\n",
    "            return True\n",
    "        else:\n",
    "            return False\n",
    "    except NameError:\n",
    "        return False\n",
    "\n",
    "# Determine whether to make the figures inline (for spyder or jupyter)\n",
    "# vs whatever is the automatic setting that will apply if run from the terminal\n",
    "if in_ipynb():\n",
    "    # %matplotlib inline generates a syntax error when run from the shell\n",
    "    # so do this instead\n",
    "    get_ipython().run_line_magic('matplotlib', 'inline')\n",
    "else:\n",
    "    get_ipython().run_line_magic('matplotlib', 'auto')\n",
    "    print('You appear to be running from a terminal')\n",
    "    print('By default, figures will appear one by one')\n",
    "    print('Close the visible figure in order to see the next one')\n",
    "\n",
    "# Import the plot-figure library matplotlib\n",
    "\n",
    "import matplotlib.pyplot as plt\n",
    "\n",
    "# In order to use LaTeX to manage all text layout in our figures, we import rc settings from matplotlib.\n",
    "from matplotlib import rc\n",
    "plt.rc('font', family='serif')\n",
    "\n",
    "# LaTeX is huge and takes forever to install on mybinder\n",
    "# so if it is not installed then do not use it \n",
    "from distutils.spawn import find_executable\n",
    "iflatexExists=False\n",
    "if find_executable('latex'):\n",
    "    iflatexExists=True\n",
    "    \n",
    "plt.rc('font', family='serif')\n",
    "plt.rc('text', usetex=iflatexExists)\n",
    "\n",
    "# The warnings package allows us to ignore some harmless but alarming warning messages\n",
    "import warnings\n",
    "warnings.filterwarnings(\"ignore\")\n",
    "\n",
    "# The tools for navigating the filesystem\n",
    "import sys\n",
    "import os\n",
    "\n",
    "sys.path.insert(0, os.path.abspath('../../lib')) # REMARKs directory is two down from root \n",
    "\n",
    "from HARK.utilities import plotFuncsDer, plotFuncs\n",
    "from copy import copy, deepcopy\n",
    "\n",
    "# Define (and create, if necessary) the figures directory \"Figures\"\n",
    "if Generator:\n",
    "    my_file_path = os.path.dirname(os.path.abspath(\"BufferStockTheory.ipynb\")) # Find pathname to this file:\n",
    "    Figures_HARK_dir = os.path.join(my_file_path,\"Figures/\") # LaTeX document assumes figures will be here\n",
    "    Figures_HARK_dir = os.path.join(my_file_path,\"/tmp/Figures/\") # Uncomment to make figures outside of git path\n",
    "    if not os.path.exists(Figures_HARK_dir):\n",
    "        os.makedirs(Figures_HARK_dir)"
   ]
  },
  {
   "cell_type": "markdown",
   "metadata": {},
   "source": [
    "## [The Problem](http://econ.jhu.edu/people/ccarroll/papers/BufferStockTheory/#The-Problem) \n",
    "\n",
    "[This paper](http://econ.jhu.edu/people/ccarroll/papers/BufferStockTheory/#The-Problem) defines a buffer stock saving model and calibrates parameters:\n",
    "\n",
    "| Parameter | Description | Code | Value |\n",
    "| :---: | ---         | ---  | :---: |\n",
    "| $\\newcommand{\\PermGroFac}{\\Gamma}\\PermGroFac$ | Permanent Income Growth Factor | $\\texttt{PermGroFac}$ | 1.03 |\n",
    "| $\\newcommand{\\Rfree}{\\mathrm{\\mathsf{R}}}\\Rfree$ | Interest Factor | $\\texttt{Rfree}$ | 1.04 |\n",
    "| $\\newcommand{\\DiscFac}{\\beta}\\DiscFac$ | Time Preference Factor | $\\texttt{DiscFac}$ | 0.96 |\n",
    "| $\\newcommand{\\CRRA}{\\rho}\\CRRA$ | Coeﬃcient of Relative Risk Aversion| $\\texttt{CRRA}$ | 2 |\n",
    "| $\\newcommand{\\UnempPrb}{\\wp}\\UnempPrb$ | Probability of Unemployment | $\\texttt{UnempPrb}$ | 0.005 |\n",
    "| $\\newcommand{\\IncUnemp}{\\mu}\\IncUnemp$ | Income when Unemployed | $\\texttt{IncUnemp}$ | 0. |\n",
    "| $\\newcommand{\\PermShkStd}{\\sigma_\\psi}\\PermShkStd$ | Std Dev of Log Permanent Shock| $\\texttt{PermShkStd}$ | 0.1 |\n",
    "| $\\newcommand{\\TranShkStd}{\\sigma_\\theta}\\TranShkStd$ | Std Dev of Log Transitory Shock| $\\texttt{TranShkStd}$ | 0.1 |\n",
    "\n",
    "For a microeconomic consumer with 'Market Resources' (net worth plus current income) $M_{t}$, end-of-period assets $A_{t}$ will be the amount remaining after consumption of $C_{t}$.  <!-- Next period's 'Balances' $B_{t+1}$ reflect this period's $A_{t}$ augmented by return factor $R$:-->\n",
    "\\begin{eqnarray}\n",
    "A_{t}   &=&M_{t}-C_{t}  \\label{eq:DBCparts} \\\\\n",
    "%B_{t+1}   & = & A_{t} R \\notag \\\\\n",
    "\\end{eqnarray}\n",
    "\n",
    "The consumer's permanent noncapital income $P$ grows by a predictable factor $\\PermGroFac$ and is subject to an unpredictable lognormally distributed multiplicative shock $\\mathbb{E}_{t}[\\psi_{t+1}]=1$, \n",
    "\\begin{eqnarray}\n",
    "P_{t+1} & = & P_{t} \\PermGroFac \\psi_{t+1}\n",
    "\\end{eqnarray}\n",
    "\n",
    "and actual income is permanent income multiplied by a logormal multiplicative transitory shock, $\\mathbb{E}_{t}[\\theta_{t+1}]=1$, so that next period's market resources are\n",
    "\\begin{eqnarray}\n",
    "%M_{t+1} &=& B_{t+1} +P_{t+1}\\theta_{t+1},  \\notag\n",
    "M_{t+1} &=& A_{t}R +P_{t+1}\\theta_{t+1}.  \\notag\n",
    "\\end{eqnarray}\n",
    "\n",
    "When the consumer has a CRRA utility function $u(c)=\\frac{c^{1-\\rho}}{1-\\rho}$, the paper shows that the problem can be written in terms of ratios of money variables to permanent income, e.g. $m_{t} \\equiv M_{t}/P_{t}$, and the Bellman form of [the problem reduces to](http://econ.jhu.edu/people/ccarroll/papers/BufferStockTheory/#The-Related-Problem):\n",
    "\n",
    "\\begin{eqnarray*}\n",
    "v_t(m_t) &=& \\max_{c_t}~~ u(c_t) + \\beta~\\mathbb{E}_{t} [(\\Gamma\\psi_{t+1})^{1-\\rho} v_{t+1}(m_{t+1}) ] \\\\\n",
    "& s.t. & \\\\\n",
    "a_t &=& m_t - c_t \\\\\n",
    "m_{t+1} &=& R/(\\Gamma \\psi_{t+1}) a_t + \\theta_{t+1} \\\\\n",
    "\\end{eqnarray*}\n",
    "\n",
    "and the Euler equation for this model is \n",
    "\n",
    "\\begin{eqnarray*}\n",
    "c_{t}^{-\\rho} & = & R \\beta \\mathbb{E}_{t}[(\\Gamma \\psi c_{t+1})^{-\\rho})] \\\\\n",
    "0 & = & R \\beta \\mathbb{E}_{t}[(\\Gamma \\psi c_{t+1}/c_{t})^{-\\rho})]-1\n",
    "\\end{eqnarray*}\n",
    "\n",
    "\n",
    "For the purposes of this notebook, the paper's baseline parameterization is changed as follows:\n",
    "\n",
    "1. The unemployment (zero-income event) shocks are turned off\n",
    "2. An explicit liqudity constraint is added ($c_{t} \\leq m_{t}$)"
   ]
  },
  {
   "cell_type": "markdown",
   "metadata": {},
   "source": [
    "# Dolo\n",
    "\n",
    "[Installation instructions](https://github.com/EconForge/dolo/wiki/Installation) for dolo involve a number of dependencies, including the dolo language \"dolang.\"  This notebook assumes all these have been installed."
   ]
  },
  {
   "cell_type": "code",
   "execution_count": 7,
   "metadata": {},
   "outputs": [],
   "source": [
    "from dolo import *"
   ]
  },
  {
   "cell_type": "markdown",
   "metadata": {},
   "source": [
    "Dolo defines models using \"model files\" whose syntax is specified in the documentation"
   ]
  },
  {
   "cell_type": "code",
   "execution_count": 8,
   "metadata": {},
   "outputs": [
    {
     "name": "stdout",
     "output_type": "stream",
     "text": [
      "\n",
      "        Model:\n",
      "        ------\n",
      "        name: \"anonymous\"\n",
      "        type: \"dtcc\"\n",
      "        file: \"bufferstock.yaml\n",
      "\n",
      "Equations:\n",
      "----------\n",
      "\n",
      "transition\n",
      " 1  : \u001b[31m1.7554\u001b[0m : m(0) == exp(tran(0)) + ((m(-(1))) - (c(-(1)))) * ((R) / ((Γ) * (exp(perm(0)))))\n",
      "\n",
      "arbitrage\n",
      " 1  : \u001b[31m-0.8726\u001b[0m : (((R) * (β)) * (((((c(1)) * (exp(perm(0)))) * (Γ)) / (c(0))) ** (-(ρ)))) - (1)\n",
      "\n",
      "definitions\n",
      "\n",
      "\n"
     ]
    }
   ],
   "source": [
    "model_dolo = yaml_import(\"../models/bufferstock.yaml\")\n",
    "print( model_dolo )"
   ]
  },
  {
   "cell_type": "code",
   "execution_count": 22,
   "metadata": {},
   "outputs": [
    {
     "name": "stdout",
     "output_type": "stream",
     "text": [
      "Solving WITH complementarities.\n",
      "------------------------------------------------\n",
      "| N   |  Error     | Gain     | Time     | nit |\n",
      "------------------------------------------------\n",
      "|   1 |  9.000e-01 |      nan |    0.116 |   5 |\n",
      "|   2 |  3.016e-02 |    0.034 |    0.058 |   3 |\n",
      "|   3 |  3.118e-02 |    1.034 |    0.078 |   3 |\n",
      "|   4 |  3.228e-02 |    1.035 |    0.065 |   3 |\n",
      "|   5 |  3.343e-02 |    1.036 |    0.096 |   3 |\n",
      "|   6 |  3.463e-02 |    1.036 |    0.099 |   3 |\n",
      "|   7 |  3.586e-02 |    1.036 |    0.081 |   3 |\n",
      "|   8 |  3.711e-02 |    1.035 |    0.065 |   3 |\n",
      "|   9 |  3.836e-02 |    1.034 |    0.064 |   3 |\n",
      "|  10 |  3.959e-02 |    1.032 |    0.073 |   3 |\n",
      "|  11 |  4.079e-02 |    1.030 |    0.067 |   3 |\n",
      "|  12 |  4.193e-02 |    1.028 |    0.077 |   3 |\n",
      "|  13 |  4.298e-02 |    1.025 |    0.072 |   3 |\n",
      "|  14 |  4.391e-02 |    1.022 |    0.079 |   3 |\n",
      "|  15 |  4.469e-02 |    1.018 |    0.107 |   3 |\n",
      "|  16 |  4.562e-02 |    1.021 |    0.082 |   2 |\n",
      "|  17 |  4.731e-02 |    1.037 |    0.086 |   2 |\n",
      "|  18 |  4.901e-02 |    1.036 |    0.080 |   2 |\n",
      "|  19 |  5.070e-02 |    1.035 |    0.076 |   2 |\n",
      "|  20 |  5.236e-02 |    1.033 |    0.074 |   2 |\n",
      "|  21 |  5.394e-02 |    1.030 |    0.077 |   2 |\n",
      "|  22 |  5.539e-02 |    1.027 |    0.079 |   2 |\n",
      "|  23 |  5.668e-02 |    1.023 |    0.077 |   2 |\n",
      "|  24 |  5.773e-02 |    1.019 |    0.079 |   2 |\n",
      "|  25 |  5.920e-02 |    1.025 |    0.078 |   2 |\n",
      "|  26 |  6.116e-02 |    1.033 |    0.078 |   2 |\n",
      "|  27 |  6.306e-02 |    1.031 |    0.083 |   2 |\n",
      "|  28 |  6.485e-02 |    1.028 |    0.079 |   2 |\n",
      "|  29 |  6.644e-02 |    1.025 |    0.075 |   2 |\n",
      "|  30 |  6.802e-02 |    1.024 |    0.074 |   2 |\n",
      "|  31 |  7.014e-02 |    1.031 |    0.063 |   2 |\n",
      "|  32 |  7.218e-02 |    1.029 |    0.075 |   2 |\n",
      "|  33 |  7.408e-02 |    1.026 |    0.061 |   2 |\n",
      "|  34 |  7.623e-02 |    1.029 |    0.092 |   2 |\n",
      "|  35 |  7.848e-02 |    1.029 |    0.061 |   2 |\n",
      "|  36 |  8.070e-02 |    1.028 |    0.066 |   2 |\n",
      "|  37 |  8.314e-02 |    1.030 |    0.062 |   2 |\n",
      "|  38 |  8.558e-02 |    1.029 |    0.070 |   2 |\n",
      "|  39 |  8.816e-02 |    1.030 |    0.065 |   2 |\n",
      "|  40 |  9.082e-02 |    1.030 |    0.103 |   3 |\n",
      "|  41 |  9.356e-02 |    1.030 |    0.096 |   3 |\n",
      "|  42 |  9.641e-02 |    1.031 |    0.084 |   3 |\n",
      "|  43 |  9.936e-02 |    1.031 |    0.078 |   3 |\n",
      "|  44 |  1.024e-01 |    1.031 |    0.090 |   3 |\n",
      "|  45 |  1.055e-01 |    1.031 |    0.074 |   3 |\n",
      "|  46 |  1.088e-01 |    1.031 |    0.084 |   3 |\n",
      "|  47 |  1.121e-01 |    1.031 |    0.085 |   3 |\n",
      "|  48 |  1.156e-01 |    1.031 |    0.077 |   3 |\n",
      "|  49 |  1.191e-01 |    1.031 |    0.075 |   3 |\n",
      "|  50 |  1.228e-01 |    1.031 |    0.086 |   3 |\n",
      "|  51 |  1.266e-01 |    1.031 |    0.067 |   3 |\n",
      "|  52 |  1.305e-01 |    1.031 |    0.070 |   3 |\n",
      "|  53 |  1.345e-01 |    1.031 |    0.081 |   3 |\n",
      "|  54 |  1.387e-01 |    1.031 |    0.082 |   3 |\n",
      "|  55 |  1.429e-01 |    1.031 |    0.070 |   3 |\n",
      "|  56 |  1.473e-01 |    1.031 |    0.077 |   3 |\n",
      "|  57 |  1.519e-01 |    1.031 |    0.072 |   3 |\n",
      "|  58 |  1.566e-01 |    1.031 |    0.076 |   3 |\n",
      "|  59 |  1.614e-01 |    1.031 |    0.255 |   3 |\n",
      "|  60 |  1.664e-01 |    1.031 |    0.113 |   3 |\n",
      "|  61 |  1.715e-01 |    1.031 |    0.107 |   3 |\n",
      "|  62 |  1.768e-01 |    1.031 |    0.112 |   3 |\n",
      "|  63 |  1.822e-01 |    1.031 |    0.114 |   3 |\n",
      "|  64 |  1.878e-01 |    1.031 |    0.108 |   3 |\n",
      "|  65 |  1.936e-01 |    1.031 |    0.109 |   3 |\n",
      "|  66 |  1.996e-01 |    1.031 |    0.097 |   3 |\n",
      "|  67 |  2.058e-01 |    1.031 |    0.079 |   3 |\n",
      "|  68 |  2.121e-01 |    1.031 |    0.081 |   3 |\n",
      "|  69 |  2.186e-01 |    1.031 |    0.079 |   3 |\n",
      "|  70 |  2.254e-01 |    1.031 |    0.072 |   3 |\n",
      "|  71 |  2.323e-01 |    1.031 |    0.083 |   3 |\n",
      "|  72 |  2.395e-01 |    1.031 |    0.072 |   3 |\n",
      "|  73 |  2.469e-01 |    1.031 |    0.068 |   3 |\n",
      "|  74 |  2.545e-01 |    1.031 |    0.079 |   3 |\n",
      "|  75 |  2.623e-01 |    1.031 |    0.086 |   3 |\n",
      "|  76 |  2.704e-01 |    1.031 |    0.087 |   3 |\n",
      "|  77 |  2.787e-01 |    1.031 |    0.119 |   3 |\n",
      "|  78 |  2.873e-01 |    1.031 |    0.117 |   3 |\n",
      "|  79 |  2.962e-01 |    1.031 |    0.301 |   3 |\n",
      "|  80 |  3.053e-01 |    1.031 |    0.115 |   3 |\n",
      "|  81 |  3.147e-01 |    1.031 |    0.119 |   3 |\n",
      "|  82 |  3.244e-01 |    1.031 |    0.115 |   3 |\n",
      "|  83 |  3.344e-01 |    1.031 |    0.133 |   3 |\n",
      "|  84 |  3.447e-01 |    1.031 |    0.124 |   3 |\n",
      "|  85 |  3.553e-01 |    1.031 |    0.108 |   3 |\n",
      "|  86 |  3.662e-01 |    1.031 |    0.087 |   3 |\n",
      "|  87 |  3.775e-01 |    1.031 |    0.095 |   3 |\n",
      "|  88 |  3.891e-01 |    1.031 |    0.100 |   3 |\n",
      "|  89 |  4.010e-01 |    1.031 |    0.085 |   3 |\n",
      "|  90 |  4.133e-01 |    1.031 |    0.082 |   3 |\n",
      "|  91 |  4.259e-01 |    1.030 |    0.093 |   3 |\n",
      "|  92 |  4.388e-01 |    1.030 |    0.093 |   3 |\n",
      "|  93 |  4.521e-01 |    1.030 |    0.081 |   3 |\n",
      "|  94 |  4.656e-01 |    1.030 |    0.100 |   3 |\n",
      "|  95 |  4.795e-01 |    1.030 |    0.086 |   3 |\n",
      "|  96 |  4.937e-01 |    1.030 |    0.076 |   3 |\n",
      "|  97 |  5.081e-01 |    1.029 |    0.094 |   3 |\n",
      "|  98 |  5.227e-01 |    1.029 |    0.115 |   3 |\n",
      "|  99 |  5.374e-01 |    1.028 |    0.102 |   3 |\n",
      "| 100 |  5.521e-01 |    1.027 |    0.086 |   3 |\n",
      "| 101 |  5.668e-01 |    1.027 |    0.086 |   3 |\n",
      "| 102 |  5.812e-01 |    1.026 |    0.085 |   3 |\n",
      "| 103 |  5.953e-01 |    1.024 |    0.084 |   3 |\n",
      "| 104 |  6.088e-01 |    1.023 |    0.074 |   3 |\n",
      "| 105 |  6.215e-01 |    1.021 |    0.094 |   3 |\n",
      "| 106 |  6.331e-01 |    1.019 |    0.087 |   3 |\n",
      "| 107 |  6.433e-01 |    1.016 |    0.074 |   3 |\n",
      "| 108 |  6.518e-01 |    1.013 |    0.081 |   3 |\n",
      "| 109 |  6.581e-01 |    1.010 |    0.074 |   3 |\n",
      "| 110 |  6.619e-01 |    1.006 |    0.079 |   3 |\n",
      "| 111 |  6.628e-01 |    1.001 |    0.081 |   3 |\n",
      "| 112 |  6.604e-01 |    0.996 |    0.084 |   3 |\n",
      "| 113 |  6.544e-01 |    0.991 |    0.075 |   3 |\n",
      "| 114 |  6.445e-01 |    0.985 |    0.076 |   3 |\n",
      "| 115 |  6.308e-01 |    0.979 |    0.075 |   3 |\n",
      "| 116 |  6.131e-01 |    0.972 |    0.073 |   3 |\n",
      "| 117 |  5.916e-01 |    0.965 |    0.078 |   3 |\n",
      "| 118 |  5.668e-01 |    0.958 |    0.072 |   3 |\n",
      "| 119 |  5.389e-01 |    0.951 |    0.077 |   3 |\n",
      "| 120 |  5.086e-01 |    0.944 |    0.085 |   3 |\n",
      "| 121 |  4.765e-01 |    0.937 |    0.082 |   3 |\n",
      "| 122 |  4.433e-01 |    0.930 |    0.067 |   2 |\n",
      "| 123 |  4.096e-01 |    0.924 |    0.090 |   2 |\n",
      "| 124 |  3.760e-01 |    0.918 |    0.119 |   2 |\n",
      "| 125 |  3.431e-01 |    0.912 |    0.077 |   2 |\n",
      "| 126 |  3.113e-01 |    0.907 |    0.070 |   2 |\n",
      "| 127 |  2.810e-01 |    0.903 |    0.066 |   2 |\n",
      "| 128 |  2.525e-01 |    0.899 |    0.064 |   2 |\n",
      "| 129 |  2.259e-01 |    0.895 |    0.059 |   2 |\n",
      "| 130 |  2.014e-01 |    0.891 |    0.068 |   2 |\n",
      "| 131 |  1.789e-01 |    0.888 |    0.059 |   2 |\n",
      "| 132 |  1.584e-01 |    0.886 |    0.062 |   2 |\n",
      "| 133 |  1.400e-01 |    0.883 |    0.058 |   2 |\n",
      "| 134 |  1.234e-01 |    0.881 |    0.066 |   2 |\n",
      "| 135 |  1.085e-01 |    0.880 |    0.058 |   2 |\n",
      "| 136 |  9.525e-02 |    0.878 |    0.058 |   2 |\n",
      "| 137 |  8.350e-02 |    0.877 |    0.092 |   2 |\n",
      "| 138 |  7.309e-02 |    0.875 |    0.101 |   2 |\n",
      "| 139 |  6.391e-02 |    0.874 |    0.095 |   2 |\n",
      "| 140 |  5.583e-02 |    0.874 |    0.089 |   2 |\n",
      "| 141 |  4.873e-02 |    0.873 |    0.091 |   2 |\n",
      "| 142 |  4.250e-02 |    0.872 |    0.086 |   2 |\n",
      "| 143 |  3.704e-02 |    0.872 |    0.087 |   2 |\n",
      "| 144 |  3.226e-02 |    0.871 |    0.102 |   2 |\n",
      "| 145 |  2.809e-02 |    0.871 |    0.088 |   2 |\n",
      "| 146 |  2.444e-02 |    0.870 |    0.070 |   2 |\n",
      "| 147 |  2.126e-02 |    0.870 |    0.067 |   2 |\n",
      "| 148 |  1.849e-02 |    0.870 |    0.056 |   2 |\n",
      "| 149 |  1.608e-02 |    0.869 |    0.072 |   2 |\n",
      "| 150 |  1.397e-02 |    0.869 |    0.218 |   2 |\n",
      "| 151 |  1.214e-02 |    0.869 |    0.060 |   2 |\n",
      "| 152 |  1.055e-02 |    0.869 |    0.056 |   2 |\n",
      "| 153 |  9.166e-03 |    0.869 |    0.069 |   2 |\n",
      "| 154 |  7.962e-03 |    0.869 |    0.062 |   2 |\n",
      "| 155 |  6.915e-03 |    0.868 |    0.052 |   2 |\n",
      "| 156 |  6.005e-03 |    0.868 |    0.051 |   2 |\n",
      "| 157 |  5.214e-03 |    0.868 |    0.062 |   2 |\n",
      "| 158 |  4.527e-03 |    0.868 |    0.067 |   2 |\n",
      "| 159 |  3.930e-03 |    0.868 |    0.072 |   2 |\n",
      "| 160 |  3.412e-03 |    0.868 |    0.046 |   1 |\n",
      "| 161 |  2.961e-03 |    0.868 |    0.041 |   1 |\n",
      "| 162 |  2.570e-03 |    0.868 |    0.042 |   1 |\n",
      "| 163 |  2.231e-03 |    0.868 |    0.046 |   1 |\n",
      "| 164 |  1.936e-03 |    0.868 |    0.042 |   1 |\n",
      "| 165 |  1.680e-03 |    0.868 |    0.041 |   1 |\n",
      "| 166 |  1.458e-03 |    0.868 |    0.037 |   1 |\n",
      "| 167 |  1.265e-03 |    0.868 |    0.041 |   1 |\n"
     ]
    },
    {
     "name": "stdout",
     "output_type": "stream",
     "text": [
      "| 168 |  1.097e-03 |    0.868 |    0.044 |   1 |\n",
      "| 169 |  9.520e-04 |    0.868 |    0.045 |   1 |\n",
      "| 170 |  8.259e-04 |    0.868 |    0.045 |   1 |\n",
      "| 171 |  7.164e-04 |    0.867 |    0.034 |   1 |\n",
      "| 172 |  6.215e-04 |    0.867 |    0.036 |   1 |\n",
      "| 173 |  5.391e-04 |    0.867 |    0.037 |   1 |\n",
      "| 174 |  4.676e-04 |    0.867 |    0.040 |   1 |\n",
      "| 175 |  4.056e-04 |    0.867 |    0.033 |   1 |\n",
      "| 176 |  3.517e-04 |    0.867 |    0.031 |   1 |\n",
      "| 177 |  3.050e-04 |    0.867 |    0.035 |   1 |\n",
      "| 178 |  2.645e-04 |    0.867 |    0.032 |   1 |\n",
      "| 179 |  2.294e-04 |    0.867 |    0.032 |   1 |\n",
      "| 180 |  1.989e-04 |    0.867 |    0.036 |   1 |\n",
      "| 181 |  1.725e-04 |    0.867 |    0.042 |   1 |\n",
      "| 182 |  1.496e-04 |    0.867 |    0.058 |   1 |\n",
      "| 183 |  1.297e-04 |    0.867 |    0.083 |   1 |\n",
      "| 184 |  1.124e-04 |    0.867 |    0.068 |   1 |\n",
      "| 185 |  9.746e-05 |    0.867 |    0.073 |   1 |\n",
      "| 186 |  8.449e-05 |    0.867 |    0.058 |   1 |\n",
      "| 187 |  7.325e-05 |    0.867 |    0.052 |   1 |\n",
      "| 188 |  6.349e-05 |    0.867 |    0.057 |   1 |\n",
      "| 189 |  5.504e-05 |    0.867 |    0.195 |   1 |\n",
      "| 190 |  4.770e-05 |    0.867 |    0.098 |   1 |\n",
      "| 191 |  4.135e-05 |    0.867 |    0.055 |   1 |\n",
      "| 192 |  3.584e-05 |    0.867 |    0.053 |   1 |\n",
      "| 193 |  3.106e-05 |    0.867 |    0.054 |   1 |\n",
      "| 194 |  2.692e-05 |    0.867 |    0.059 |   1 |\n",
      "| 195 |  2.333e-05 |    0.867 |    0.053 |   1 |\n",
      "| 196 |  2.021e-05 |    0.867 |    0.053 |   1 |\n",
      "| 197 |  1.752e-05 |    0.867 |    0.054 |   1 |\n",
      "| 198 |  1.518e-05 |    0.867 |    0.059 |   1 |\n",
      "| 199 |  1.315e-05 |    0.866 |    0.054 |   1 |\n",
      "| 200 |  1.139e-05 |    0.866 |    0.057 |   1 |\n",
      "| 201 |  9.872e-06 |    0.866 |    0.080 |   1 |\n",
      "| 202 |  8.553e-06 |    0.866 |    0.045 |   1 |\n",
      "| 203 |  7.410e-06 |    0.866 |    0.051 |   1 |\n",
      "| 204 |  6.420e-06 |    0.866 |    0.048 |   1 |\n",
      "| 205 |  5.561e-06 |    0.866 |    0.050 |   1 |\n",
      "| 206 |  4.818e-06 |    0.866 |    0.048 |   1 |\n",
      "| 207 |  4.173e-06 |    0.866 |    0.052 |   1 |\n",
      "| 208 |  3.615e-06 |    0.866 |    0.049 |   1 |\n",
      "| 209 |  3.131e-06 |    0.866 |    0.050 |   1 |\n",
      "| 210 |  2.712e-06 |    0.866 |    0.049 |   1 |\n",
      "| 211 |  2.349e-06 |    0.866 |    0.050 |   1 |\n",
      "| 212 |  2.035e-06 |    0.866 |    0.052 |   1 |\n",
      "| 213 |  1.762e-06 |    0.866 |    0.050 |   1 |\n",
      "| 214 |  1.526e-06 |    0.866 |    0.050 |   1 |\n",
      "| 215 |  1.322e-06 |    0.866 |    0.050 |   1 |\n",
      "| 216 |  1.145e-06 |    0.866 |    0.049 |   1 |\n",
      "| 217 |  9.913e-07 |    0.866 |    0.058 |   1 |\n",
      "| 218 |  8.584e-07 |    0.866 |    0.056 |   1 |\n",
      "| 219 |  7.433e-07 |    0.866 |    0.051 |   1 |\n",
      "| 220 |  6.437e-07 |    0.866 |    0.049 |   1 |\n",
      "| 221 |  5.574e-07 |    0.866 |    0.050 |   1 |\n",
      "| 222 |  4.826e-07 |    0.866 |    0.052 |   1 |\n",
      "| 223 |  4.179e-07 |    0.866 |    0.048 |   1 |\n",
      "| 224 |  3.618e-07 |    0.866 |    0.041 |   1 |\n",
      "| 225 |  3.133e-07 |    0.866 |    0.037 |   1 |\n",
      "| 226 |  2.712e-07 |    0.866 |    0.056 |   1 |\n",
      "| 227 |  2.348e-07 |    0.866 |    0.063 |   1 |\n",
      "| 228 |  2.033e-07 |    0.866 |    0.040 |   1 |\n",
      "| 229 |  1.760e-07 |    0.866 |    0.043 |   1 |\n",
      "| 230 |  0.000e+00 |    0.000 |    0.013 |   0 |\n",
      "------------------------------------------------\n",
      "Elapsed: 17.21499729156494 seconds.\n",
      "------------------------------------------------\n"
     ]
    }
   ],
   "source": [
    "# Set a maximum value of the market resources ratio m for use in both models\n",
    "max_m = 1000\n",
    "model_dolo.data['calibration']['max_m'] = max_m\n",
    "model_dolo.data['domain']['m'] = [0,'max_m']\n",
    "\n",
    "# Obtain the decision rule by time iteration\n",
    "dr = time_iteration(model_dolo,tol=1e-08,verbose=True)"
   ]
  },
  {
   "cell_type": "markdown",
   "metadata": {},
   "source": [
    "# HARK\n",
    "The HARK tool used here is $\\texttt{ConsIndShockModel.py}$.  For an introduction to this module, see the [ConsIndShockModel.ipynb](https://econ-ark.org/notebooks) notebook at the [Econ-ARK](https://econ-ark.org) website."
   ]
  },
  {
   "cell_type": "code",
   "execution_count": 27,
   "metadata": {
    "code_folding": [
     0
    ],
    "lines_to_next_cell": 0
   },
   "outputs": [],
   "source": [
    "# Define a parameter dictionary with baseline parameter values\n",
    "\n",
    "# Set the baseline parameter values \n",
    "PermGroFac = 1.03\n",
    "Rfree      = 1.04\n",
    "DiscFac    = 0.96\n",
    "CRRA       = 2.00\n",
    "UnempPrb   = 0.00\n",
    "IncUnemp   = 0.0\n",
    "PermShkStd = 0.1\n",
    "TranShkStd = 0.1\n",
    "# Import default parameter values\n",
    "import HARK.ConsumptionSaving.ConsumerParameters as Params \n",
    "\n",
    "# Make a dictionary containing all parameters needed to solve the model\n",
    "base_params = Params.init_idiosyncratic_shocks\n",
    "\n",
    "# Set the parameters for the baseline results in the paper\n",
    "# using the variable values defined in the cell above\n",
    "base_params['PermGroFac'] = [PermGroFac]   # Permanent income growth factor\n",
    "base_params['Rfree']      = Rfree          # Interest factor on assets\n",
    "base_params['DiscFac']    = DiscFac        # Time Preference Factor\n",
    "base_params['CRRA']       = CRRA           # Coefficient of relative risk aversion\n",
    "base_params['UnempPrb']   = UnempPrb       # Probability of unemployment (e.g. Probability of Zero Income in the paper)\n",
    "base_params['IncUnemp']   = IncUnemp       # Induces natural borrowing constraint\n",
    "base_params['PermShkStd'] = [PermShkStd]   # Standard deviation of log permanent income shocks\n",
    "base_params['TranShkStd'] = [TranShkStd]   # Standard deviation of log transitory income shocks\n",
    "\n",
    "# Some technical settings that are not interesting for our purposes\n",
    "base_params['LivPrb']       = [1.0]   # 100 percent probability of living to next period\n",
    "base_params['CubicBool']    = True    # Use cubic spline interpolation\n",
    "base_params['T_cycle']      = 1       # No 'seasonal' cycles\n",
    "base_params['BoroCnstArt']  = None    # No artificial borrowing constraint\n",
    "\n",
    "from HARK.utilities import plotFuncsDer, plotFuncs\n",
    "from HARK.ConsumptionSaving.ConsIndShockModel import IndShockConsumerType"
   ]
  },
  {
   "cell_type": "code",
   "execution_count": 28,
   "metadata": {},
   "outputs": [],
   "source": [
    "# Create a model identical to the dolo model\n",
    "# Start with the HARK baseline parameters and modify \n",
    "# to be like the dolo model \n",
    "base_params_dolo = dict(base_params)\n",
    "base_params_dolo['BoroCnstArt']  = 0.0    # Liquidity constraint at 0\n",
    "base_params_dolo['UnempPrb']     = 0      # No point-mass on unemployment state \n",
    "base_params_dolo['TranShkCount'] = 5      # Default number of nodes in dolo\n",
    "base_params_dolo['PermShkCount'] = 5\n",
    "base_params_dolo['aXtraMax']     = max_m  # Use same maximum\n",
    "base_params_dolo['aXtraCount']   = 100    # How dense to make the grid\n",
    "base_params_dolo['DiscFac']      = 0.96\n",
    "#base_params_dolo['CubicBool']    = False\n",
    "model_HARK = IndShockConsumerType(**base_params_dolo,cycles=0) # cycles=0 indicates infinite horizon"
   ]
  },
  {
   "cell_type": "code",
   "execution_count": 29,
   "metadata": {},
   "outputs": [],
   "source": [
    "# Solve the HARK model \n",
    "model_HARK.solve()\n",
    "model_HARK.unpackcFunc()"
   ]
  },
  {
   "cell_type": "code",
   "execution_count": 30,
   "metadata": {},
   "outputs": [
    {
     "data": {
      "text/plain": [
       "[<matplotlib.lines.Line2D at 0x1c1bc7ed30>]"
      ]
     },
     "execution_count": 30,
     "metadata": {},
     "output_type": "execute_result"
    },
    {
     "data": {
      "image/png": "[encoded data removed]",
      "text/plain": [
       "<Figure size 432x288 with 1 Axes>"
      ]
     },
     "metadata": {
      "needs_background": "light"
     },
     "output_type": "display_data"
    }
   ],
   "source": [
    "# Plot the results: Green is perfect foresight, red is HARK, black is dolo\n",
    "tab = tabulate(model_dolo, dr, 'm')\n",
    "plt.plot(tab['m'],tab['c'])     # This is pretty cool syntax\n",
    "m = np.ndarray.tolist(np.array(tab.values.tolist())[:,2]) # Is there an easier way to get the points in m?\n",
    "c_m  = model_HARK.cFunc[0](m)   \n",
    "# cPF uses the analytical formula for the perfect foresight solution\n",
    "cPF = (np.array(m)-1+1/(1-PermGroFac/Rfree))*((Rfree-(Rfree * DiscFac)**(1/CRRA))/Rfree)\n",
    "plt.plot(tab['m'],c_m,color=\"red\")\n",
    "plt.plot(m,cPF,color=\"green\")"
   ]
  }
 ],
 "metadata": {
  "@webio": {
   "lastCommId": "a8ab2762cccf499696a7ef0a86be4d18",
   "lastKernelId": "261999dd-7ee7-4ad4-9a26-99a84a77979b"
  },
  "cite2c": {
   "citations": {
    "6202365/8AH9AXN2": {
     "URL": "http://econ.jhu.edu/people/ccarroll/papers/BufferStockTheory.pdf",
     "author": [
      {
       "family": "Carroll",
       "given": "Christopher"
      }
     ],
     "container-title": "Manuscript, Department of Economics, Johns Hopkins University",
     "id": "6202365/8AH9AXN2",
     "issued": {
      "month": 2,
      "year": 2019
     },
     "note": "Available at http://econ.jhu.edu/people/ccarroll/papers/BufferStockTheory \nCitation Key: carrollBufferStockTheory \nbibtex*[extra=bibtex:carrollBufferStockTheory]",
     "title": "Theoretical Foundations of Buffer Stock Saving",
     "type": "article-journal"
    },
    "6202365/TGG4U7J4": {
     "author": [
      {
       "family": "Clarida",
       "given": "Richard H."
      }
     ],
     "container-title": "International Economic Review",
     "issued": {
      "date-parts": [
       [
        1987
       ]
      ]
     },
     "page": "339–351",
     "title": "Consumption, Liquidity Constraints, and Asset Accumulation in the Face of Random Fluctuations in Income",
     "type": "article-journal",
     "volume": "XXVIII"
    },
    "undefined": {
     "URL": "http://econ.jhu.edu/people/ccarroll/papers/BufferStockTheory.pdf",
     "author": [
      {
       "family": "Carroll",
       "given": "Christopher"
      }
     ],
     "container-title": "Manuscript, Department of Economics, Johns Hopkins University",
     "issued": {
      "date-parts": [
       [
        "2019",
        2
       ]
      ]
     },
     "note": "Available at http://econ.jhu.edu/people/ccarroll/papers/BufferStockTheory \nCitation Key: carrollBufferStockTheory \nbibtex*[extra=bibtex:carrollBufferStockTheory]",
     "title": "Theoretical Foundations of Buffer Stock Saving",
     "type": "article-journal"
    }
   }
  },
  "jupytext": {
   "formats": "ipynb,py:percent",
   "text_representation": {
    "extension": ".py",
    "format_name": "percent",
    "format_version": "1.1",
    "jupytext_version": "0.8.3"
   }
  },
  "kernelspec": {
   "display_name": "Python 3",
   "language": "python",
   "name": "python3"
  },
  "language_info": {
   "codemirror_mode": {
    "name": "ipython",
    "version": 3
   },
   "file_extension": ".py",
   "mimetype": "text/x-python",
   "name": "python",
   "nbconvert_exporter": "python",
   "pygments_lexer": "ipython3",
   "version": "3.6.7"
  },
  "varInspector": {
   "cols": {
    "lenName": 16,
    "lenType": 16,
    "lenVar": 40
   },
   "kernels_config": {
    "python": {
     "delete_cmd_postfix": "",
     "delete_cmd_prefix": "del ",
     "library": "var_list.py",
     "varRefreshCmd": "print(var_dic_list())"
    },
    "r": {
     "delete_cmd_postfix": ") ",
     "delete_cmd_prefix": "rm(",
     "library": "var_list.r",
     "varRefreshCmd": "cat(var_dic_list()) "
    }
   },
   "types_to_exclude": [
    "module",
    "function",
    "builtin_function_or_method",
    "instance",
    "_Feature"
   ],
   "window_display": false
  }
 },
 "nbformat": 4,
 "nbformat_minor": 2
}
