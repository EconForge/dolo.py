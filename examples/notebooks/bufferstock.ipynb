{
 "cells": [
  {
   "cell_type": "markdown",
   "metadata": {},
   "source": [
    "# Buffer Stock Saving \n",
    "\n",
    "In a model where impatient consumers face both transitory and permanent shocks _a la_ Friedman (1957), \"buffer stock\" saving arises: Consumers have a target wealth-to-permanent-income ratio, and actual wealth will be distributed around the target.\n",
    "\n",
    "[This paper](http://econ.jhu.edu/people/ccarroll/papers/BufferStockTheory/#The-Problem) defines a buffer stock saving model and calibrates parameters:\n",
    "\n",
    "| Parameter | Description | Code | Value |\n",
    "| :---: | ---         | ---  | :---: |\n",
    "| $\\newcommand{\\PermGroFac}{\\Gamma}\\PermGroFac$ | Permanent Income Growth Factor | $\\texttt{PermGroFac}$ | 1.03 |\n",
    "| $\\newcommand{\\Rfree}{\\mathrm{\\mathsf{R}}}\\Rfree$ | Interest Factor | $\\texttt{Rfree}$ | 1.04 |\n",
    "| $\\newcommand{\\DiscFac}{\\beta}\\DiscFac$ | Time Preference Factor | $\\texttt{DiscFac}$ | 0.96 |\n",
    "| $\\newcommand{\\CRRA}{\\rho}\\CRRA$ | Coeﬃcient of Relative Risk Aversion| $\\texttt{CRRA}$ | 2 |\n",
    "| $\\newcommand{\\UnempPrb}{\\wp}\\UnempPrb$ | Probability of Unemployment | $\\texttt{UnempPrb}$ | 0.005 |\n",
    "| $\\newcommand{\\IncUnemp}{\\mu}\\IncUnemp$ | Income when Unemployed | $\\texttt{IncUnemp}$ | 0. |\n",
    "| $\\newcommand{\\PermShkStd}{\\sigma_\\psi}\\PermShkStd$ | Std Dev of Log Permanent Shock| $\\texttt{PermShkStd}$ | 0.1 |\n",
    "| $\\newcommand{\\TranShkStd}{\\sigma_\\theta}\\TranShkStd$ | Std Dev of Log Transitory Shock| $\\texttt{TranShkStd}$ | 0.1 |\n",
    "\n",
    "For a microeconomic consumer with 'Market Resources' (net worth plus current income) $M_{t}$, end-of-period assets $A_{t}$ will be the amount remaining after consumption of $C_{t}$.  <!-- Next period's 'Balances' $B_{t+1}$ reflect this period's $A_{t}$ augmented by return factor $R$:-->\n",
    "\\begin{eqnarray}\n",
    "A_{t}   &=&M_{t}-C_{t}  \\label{eq:DBCparts} \\\\\n",
    "%B_{t+1}   & = & A_{t} R \\notag \\\\\n",
    "\\end{eqnarray}\n",
    "\n",
    "The consumer's permanent noncapital income $P$ grows by a predictable factor $\\PermGroFac$ and is subject to an unpredictable lognormally distributed multiplicative shock $\\mathbb{E}_{t}[\\psi_{t+1}]=1$, \n",
    "\\begin{eqnarray}\n",
    "P_{t+1} & = & P_{t} \\PermGroFac \\psi_{t+1}\n",
    "\\end{eqnarray}\n",
    "\n",
    "and actual income is permanent income multiplied by a logormal multiplicative transitory shock, $\\mathbb{E}_{t}[\\theta_{t+1}]=1$, so that next period's market resources are\n",
    "\\begin{eqnarray}\n",
    "%M_{t+1} &=& B_{t+1} +P_{t+1}\\theta_{t+1},  \\notag\n",
    "M_{t+1} &=& A_{t}R +P_{t+1}\\theta_{t+1}.  \\notag\n",
    "\\end{eqnarray}\n",
    "\n",
    "When the consumer has a CRRA utility function $u(c)=\\frac{c^{1-\\rho}}{1-\\rho}$, the paper shows that the problem can be written in terms of ratios of money variables to permanent income, e.g. $m_{t} \\equiv M_{t}/P_{t}$, and the Bellman form of [the problem reduces to](http://econ.jhu.edu/people/ccarroll/papers/BufferStockTheory/#The-Related-Problem):\n",
    "\n",
    "\\begin{eqnarray*}\n",
    "v_t(m_t) &=& \\max_{c_t}~~ u(c_t) + \\beta~\\mathbb{E}_{t} [(\\Gamma\\psi_{t+1})^{1-\\rho} v_{t+1}(m_{t+1}) ] \\\\\n",
    "& s.t. & \\\\\n",
    "a_t &=& m_t - c_t \\\\\n",
    "m_{t+1} &=& R/(\\Gamma \\psi_{t+1}) a_t + \\theta_{t+1} \\\\\n",
    "\\end{eqnarray*}\n",
    "\n",
    "and the Euler equation for this model is \n",
    "\n",
    "\\begin{eqnarray*}\n",
    "c_{t}^{-\\rho} & = & R \\beta \\mathbb{E}_{t}[(\\Gamma \\psi c_{t+1})^{-\\rho})] \\\\\n",
    "0 & = & R \\beta \\mathbb{E}_{t}[(\\Gamma \\psi c_{t+1}/c_{t})^{-\\rho})]-1\n",
    "\\end{eqnarray*}\n",
    "\n",
    "\n",
    "For the purposes of this notebook, the paper's baseline parameterization is changed as follows:\n",
    "\n",
    "1. The unemployment (zero-income event) shocks are turned off\n",
    "2. An explicit liqudity constraint is added ($c_{t} \\leq m_{t}$)"
   ]
  },
  {
   "cell_type": "code",
   "execution_count": 3,
   "metadata": {},
   "outputs": [],
   "source": [
    "from dolo import *\n",
    "from matplotlib import pyplot as plt "
   ]
  },
  {
   "cell_type": "code",
   "execution_count": 4,
   "metadata": {},
   "outputs": [],
   "source": [
    "model = yaml_import(\"../models/bufferstock.yaml\")"
   ]
  },
  {
   "cell_type": "code",
   "execution_count": 5,
   "metadata": {},
   "outputs": [
    {
     "name": "stdout",
     "output_type": "stream",
     "text": [
      "\n",
      "        Model:\n",
      "        ------\n",
      "        name: \"anonymous\"\n",
      "        type: \"dtcc\"\n",
      "        file: \"../models/bufferstock.yaml\n",
      "\n",
      "Equations:\n",
      "----------\n",
      "\n",
      "transition\n",
      " 1  : \u001b[31m1.7554\u001b[0m : m(0) == exp(tran(0)) + ((m(-(1))) - (c(-(1)))) * ((R) / ((Γ) * (exp(perm(0)))))\n",
      "\n",
      "arbitrage\n",
      " 1  : \u001b[31m-0.8726\u001b[0m : (((R) * (β)) * (((((c(1)) * (exp(perm(0)))) * (Γ)) / (c(0))) ** (-(ρ)))) - (1)\n",
      "\n",
      "definitions\n",
      "\n",
      "\n"
     ]
    }
   ],
   "source": [
    "print ( model )"
   ]
  },
  {
   "cell_type": "code",
   "execution_count": 6,
   "metadata": {},
   "outputs": [
    {
     "name": "stdout",
     "output_type": "stream",
     "text": [
      "Solving WITH complementarities.\n",
      "------------------------------------------------\n",
      "| N   |  Error     | Gain     | Time     | nit |\n",
      "------------------------------------------------\n",
      "|   1 |  9.000e-01 |      nan |    0.128 |   5 |\n",
      "|   2 |  2.860e-02 |    0.032 |    0.106 |   5 |\n",
      "|   3 |  2.948e-02 |    1.031 |    0.114 |   5 |\n",
      "|   4 |  3.039e-02 |    1.031 |    0.097 |   5 |\n",
      "|   5 |  3.132e-02 |    1.031 |    0.108 |   5 |\n",
      "|   6 |  3.229e-02 |    1.031 |    0.131 |   5 |\n",
      "|   7 |  3.329e-02 |    1.031 |    0.127 |   5 |\n",
      "|   8 |  3.431e-02 |    1.031 |    0.151 |   5 |\n",
      "|   9 |  3.537e-02 |    1.031 |    0.154 |   4 |\n",
      "|  10 |  3.646e-02 |    1.031 |    0.145 |   4 |\n",
      "|  11 |  3.758e-02 |    1.031 |    0.300 |   3 |\n",
      "|  12 |  3.874e-02 |    1.031 |    0.100 |   3 |\n",
      "|  13 |  3.994e-02 |    1.031 |    0.096 |   3 |\n",
      "|  14 |  4.117e-02 |    1.031 |    0.140 |   3 |\n",
      "|  15 |  4.244e-02 |    1.031 |    0.128 |   3 |\n",
      "|  16 |  4.374e-02 |    1.031 |    0.093 |   2 |\n",
      "|  17 |  4.509e-02 |    1.031 |    0.092 |   2 |\n",
      "|  18 |  4.648e-02 |    1.031 |    0.078 |   2 |\n",
      "|  19 |  4.791e-02 |    1.031 |    0.077 |   2 |\n",
      "|  20 |  4.931e-02 |    1.029 |    0.063 |   2 |\n",
      "|  21 |  5.042e-02 |    1.022 |    0.063 |   2 |\n",
      "|  22 |  5.041e-02 |    1.000 |    0.065 |   2 |\n",
      "|  23 |  4.789e-02 |    0.950 |    0.070 |   2 |\n",
      "|  24 |  4.186e-02 |    0.874 |    0.062 |   2 |\n",
      "|  25 |  3.302e-02 |    0.789 |    0.063 |   2 |\n",
      "|  26 |  2.350e-02 |    0.712 |    0.063 |   2 |\n",
      "|  27 |  1.532e-02 |    0.652 |    0.066 |   2 |\n",
      "|  28 |  9.333e-03 |    0.609 |    0.058 |   2 |\n",
      "|  29 |  5.406e-03 |    0.579 |    0.085 |   2 |\n",
      "|  30 |  3.020e-03 |    0.559 |    0.091 |   2 |\n",
      "|  31 |  1.642e-03 |    0.544 |    0.081 |   2 |\n",
      "|  32 |  8.756e-04 |    0.533 |    0.075 |   2 |\n",
      "|  33 |  4.598e-04 |    0.525 |    0.076 |   2 |\n",
      "|  34 |  2.385e-04 |    0.519 |    0.102 |   1 |\n",
      "|  35 |  1.226e-04 |    0.514 |    0.042 |   1 |\n",
      "|  36 |  6.250e-05 |    0.510 |    0.041 |   1 |\n",
      "|  37 |  3.168e-05 |    0.507 |    0.066 |   1 |\n",
      "|  38 |  1.598e-05 |    0.504 |    0.029 |   1 |\n",
      "|  39 |  8.027e-06 |    0.502 |    0.034 |   1 |\n",
      "|  40 |  4.021e-06 |    0.501 |    0.030 |   1 |\n",
      "|  41 |  2.009e-06 |    0.500 |    0.031 |   1 |\n",
      "|  42 |  1.002e-06 |    0.499 |    0.032 |   1 |\n",
      "|  43 |  4.993e-07 |    0.498 |    0.035 |   1 |\n",
      "------------------------------------------------\n",
      "Elapsed: 3.797628879547119 seconds.\n",
      "------------------------------------------------\n"
     ]
    }
   ],
   "source": [
    "# Set a maximum range for market resources and solve for the model's decision rule\n",
    "model.data['calibration']['max_m'] = 10.0\n",
    "model.data['domain']['m'] = [0,'max_m']\n",
    "\n",
    "dr = time_iteration(model)"
   ]
  },
  {
   "cell_type": "markdown",
   "metadata": {},
   "source": [
    "## The Ergodic distribution is roughly centered around the target"
   ]
  },
  {
   "cell_type": "code",
   "execution_count": 7,
   "metadata": {},
   "outputs": [],
   "source": [
    "sim_long = simulate(model, dr, i0=1, N=1000, T=200)"
   ]
  },
  {
   "cell_type": "code",
   "execution_count": 8,
   "metadata": {},
   "outputs": [
    {
     "name": "stderr",
     "output_type": "stream",
     "text": [
      "\u001b[33mMatplotlibDeprecationWarning\u001b[0m:/Volumes/Sync/Sys/OSX/linked/root/usr/local/bin/anaconda/lib/python3.6/site-packages/matplotlib/axes/_axes.py:6510\n",
      "    \n",
      "The 'normed' kwarg was deprecated in Matplotlib 2.1 and will be removed in 3.1. Use 'density' instead.\n"
     ]
    },
    {
     "data": {
      "text/plain": [
       "Text(0.5, 0, '$m$')"
      ]
     },
     "execution_count": 8,
     "metadata": {},
     "output_type": "execute_result"
    },
    {
     "data": {
      "image/png": "[encoded data removed]",
      "text/plain": [
       "<Figure size 432x288 with 1 Axes>"
      ]
     },
     "metadata": {
      "needs_background": "light"
     },
     "output_type": "display_data"
    }
   ],
   "source": [
    "import seaborn\n",
    "seaborn.distplot(sim_long.sel(T=199, V='m'))\n",
    "plt.xlabel(\"$m$\")"
   ]
  },
  {
   "cell_type": "markdown",
   "metadata": {},
   "source": [
    "## Plotting the Decision Rule"
   ]
  },
  {
   "cell_type": "code",
   "execution_count": 11,
   "metadata": {},
   "outputs": [],
   "source": [
    "tab = tabulate(model, dr,'m')"
   ]
  },
  {
   "cell_type": "code",
   "execution_count": 121,
   "metadata": {},
   "outputs": [],
   "source": [
    "from matplotlib import pyplot as plt"
   ]
  },
  {
   "cell_type": "code",
   "execution_count": 14,
   "metadata": {},
   "outputs": [
    {
     "data": {
      "image/png": "[encoded data removed]",
      "text/plain": [
       "<Figure size 432x288 with 1 Axes>"
      ]
     },
     "metadata": {
      "needs_background": "light"
     },
     "output_type": "display_data"
    }
   ],
   "source": [
    "stable_wealth = model.eval_formula('1/R+(1-1/R)*m(0)', tab)\n",
    "plt.plot(tab['m'], tab['m'],color='black', linestyle='--')\n",
    "plt.plot(tab['m'], stable_wealth,color='black', linestyle='--')\n",
    "plt.plot(tab['m'], tab['c'])\n",
    "plt.xlabel(\"$m_t$\")\n",
    "plt.ylabel(\"$c_t$\")\n",
    "plt.grid()"
   ]
  }
 ],
 "metadata": {
  "jupytext": {
   "formats": "ipynb,py:light",
   "text_representation": {
    "extension": ".py",
    "format_name": "light",
    "format_version": "1.3",
    "jupytext_version": "0.8.3"
   }
  },
  "kernelspec": {
   "display_name": "Python 3",
   "language": "python",
   "name": "python3"
  },
  "language_info": {
   "codemirror_mode": {
    "name": "ipython",
    "version": 3
   },
   "file_extension": ".py",
   "mimetype": "text/x-python",
   "name": "python",
   "nbconvert_exporter": "python",
   "pygments_lexer": "ipython3",
   "version": "3.6.7"
  },
  "varInspector": {
   "cols": {
    "lenName": 16,
    "lenType": 16,
    "lenVar": 40
   },
   "kernels_config": {
    "python": {
     "delete_cmd_postfix": "",
     "delete_cmd_prefix": "del ",
     "library": "var_list.py",
     "varRefreshCmd": "print(var_dic_list())"
    },
    "r": {
     "delete_cmd_postfix": ") ",
     "delete_cmd_prefix": "rm(",
     "library": "var_list.r",
     "varRefreshCmd": "cat(var_dic_list()) "
    }
   },
   "types_to_exclude": [
    "module",
    "function",
    "builtin_function_or_method",
    "instance",
    "_Feature"
   ],
   "window_display": false
  }
 },
 "nbformat": 4,
 "nbformat_minor": 2
}
