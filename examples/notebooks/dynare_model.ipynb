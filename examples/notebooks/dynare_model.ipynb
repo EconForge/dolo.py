{
 "metadata": {
  "name": "Solving a Dynare model"
 },
 "nbformat": 3,
 "nbformat_minor": 0,
 "worksheets": [
  {
   "cells": [
    {
     "cell_type": "heading",
     "level": 1,
     "metadata": {},
     "source": [
      "Writing the model"
     ]
    },
    {
     "cell_type": "markdown",
     "metadata": {},
     "source": [
      "Dolo uses the open YAML format (http://www.yaml.org/) to store informations about the model.\n",
      "\n",
      "The model definition is supposed to be edited using an external text editor. For windows users, it is adviced to download one, for instance `notepad++`.\n",
      "\n",
      "A model consists in three parts.\n",
      "\n",
      "- a `declarations` section. All symbols used in the model equations or in the calibration must be defined here. For statefree models, three types of symbols are recognized:\n",
      "    - `variables`: any endogeneous variables to be defined by the model. These are symbols have a time subscripts in the model.\n",
      "    - `shocks`: the random innovations. They are assumed to be normally distributed with covariance matrix specified in the calibration section\n",
      "    - `parameters`: scalar values. Parameters can depend upon each other.\n",
      "\n",
      "- an `equations` section. This part contains a list of equations written in a naive way with the following timing convention (the same as Dynare):\n",
      "    - $v_t$ is written `v`, $v_{t-1}$ is written `v(-1)` and $v_{t+1}$ is written v(1)\n",
      "    - all equations are implicitly surrounded by $E_t \\left( \\right)$.\n",
      "\n",
      "- a `calibration` section with:\n",
      "    - values for parameters\n",
      "    - values for steady_state\n",
      "    - the covariance matrix of random shocks\n",
      "\n",
      "The example below is contained in the `dolo/examples/yaml_files` subdirectory. We need to make it the current directory.\n"
     ]
    },
    {
     "cell_type": "code",
     "collapsed": false,
     "input": [
      "ls .."
     ],
     "language": "python",
     "metadata": {},
     "outputs": [
      {
       "output_type": "stream",
       "stream": "stdout",
       "text": [
        "\u001b[0m\u001b[01;34mdynare_modfiles\u001b[0m/  \u001b[01;34mglobal_models\u001b[0m/  \u001b[01;34mnotebooks\u001b[0m/  \u001b[01;34mrecipes\u001b[0m/  \u001b[01;34myaml_files\u001b[0m/\r\n"
       ]
      }
     ],
     "prompt_number": 17
    },
    {
     "cell_type": "code",
     "collapsed": false,
     "input": [
      "cd ../yaml_files/"
     ],
     "language": "python",
     "metadata": {},
     "outputs": [
      {
       "output_type": "stream",
       "stream": "stdout",
       "text": [
        "/home/pablo/Programmation/bigeco/dolo/examples/yaml_files\n"
       ]
      }
     ],
     "prompt_number": 18
    },
    {
     "cell_type": "code",
     "collapsed": false,
     "input": [
      "!cat rbc_statefree.yaml"
     ],
     "language": "python",
     "metadata": {},
     "outputs": [
      {
       "output_type": "stream",
       "stream": "stdout",
       "text": [
        "model_type: fga\r\n",
        "\r\n",
        "declarations:\r\n",
        "\r\n",
        "   variables:  [z, k, i, n, c, rk, w]\r\n",
        "\r\n",
        "   shocks: [e_z]\r\n",
        "\r\n",
        "   parameters: [beta, sigma, eta, chi, delta, alpha, rho, zbar ]\r\n",
        "\r\n",
        "\r\n",
        "equations:\r\n",
        "\r\n",
        "   - 1 = beta*(c/c(1))^(sigma)*(1-delta+rk(1))\r\n",
        "   - w - chi*n^eta*c^sigma                  \r\n",
        "   - z = (1-rho)*zbar + rho*z(-1) + e_z\r\n",
        "   - k = (1-delta)*k(-1) + i\r\n",
        "   - c = z*k(-1)^alpha*n^(1-alpha) - i\r\n",
        "   - rk = alpha*z*(n/k(-1))^(1-alpha)\r\n",
        "   - w = (1-alpha)*z*(k(-1)/n)^(alpha)\r\n",
        "      \r\n",
        "calibration:\r\n",
        "\r\n",
        "   parameters:\r\n",
        "\r\n",
        "      beta : 0.99\r\n",
        "      phi: 1\r\n",
        "      chi : w/c^sigma/n^eta\r\n",
        "      delta : 0.025      \r\n",
        "      alpha : 0.33      \r\n",
        "      rho : 0.8\r\n",
        "      sigma: 1\r\n",
        "      eta: 1\r\n",
        "      zbar: 1\r\n",
        "         \r\n",
        "   steady_state:\r\n",
        "      z: zbar\r\n",
        "      rk: 1/beta-1+delta    \r\n",
        "      w: (1-alpha)*z*(k/n)^(alpha)\r\n",
        "      n: 0.33\r\n",
        "      k: n/(rk/alpha)^(1/(1-alpha))\r\n",
        "      i: delta*k\r\n",
        "      c: z*k^alpha*n^(1-alpha) - i\r\n",
        "\r\n",
        "\r\n",
        "   covariances: |\r\n",
        "      [ [ 0.0015 ] ]\r\n"
       ]
      }
     ],
     "prompt_number": 19
    },
    {
     "cell_type": "markdown",
     "metadata": {},
     "source": [
      "A comment about the calibration: here we use the fact that parameters values can be defined as a function of the steady-state (and vice-versa). It is very practical for the RBC model since we can calibrate the steady-state amount of labour instead of a preference parameter, that doesn't affect the solution anyway."
     ]
    },
    {
     "cell_type": "heading",
     "level": 1,
     "metadata": {},
     "source": [
      "Importing the model"
     ]
    },
    {
     "cell_type": "markdown",
     "metadata": {},
     "source": [
      "We now use dolo to import the model and check whether it is well specifie. Usually, there are several iterations at this stage, since we all make a lot of mistakes when writing the model file."
     ]
    },
    {
     "cell_type": "markdown",
     "metadata": {},
     "source": [
      "First we import all relevant dolo functions"
     ]
    },
    {
     "cell_type": "code",
     "collapsed": false,
     "input": [
      "from dolo import *\n",
      "from dolo.misc.commands_statefree import *"
     ],
     "language": "python",
     "metadata": {},
     "outputs": [],
     "prompt_number": 20
    },
    {
     "cell_type": "markdown",
     "metadata": {},
     "source": [
      "Then we import the model in a `model` variable and display it"
     ]
    },
    {
     "cell_type": "code",
     "collapsed": false,
     "input": [
      "model = yaml_import('rbc_statefree.yaml')\n",
      "display( model )"
     ],
     "language": "python",
     "metadata": {},
     "outputs": [
      {
       "html": [
        "<table>\t<tr>\n",
        "\t\t<td> </td>\n",
        "\t\t<td>Equations </td>\n",
        "\t\t<td>Residuals </td>\n",
        "</tr>\n",
        "\t<tr>\n",
        "\t\t<td>dynare_block </td>\n",
        "\t\t<td> </td>\n",
        "</tr>\n",
        "\t<tr>\n",
        "\t\t<td> </td>\n",
        "\t\t<td>$1 = \\beta \\left(\\frac{c_{t}}{c_{t+1}}\\right)^{\\sigma} \\left(- \\delta + rk_{t+1} + 1\\right)$ </td>\n",
        "\t\t<td>-6.93889390391e-18 </td>\n",
        "</tr>\n",
        "\t<tr>\n",
        "\t\t<td> </td>\n",
        "\t\t<td>$- \\chi c_{t}^{\\sigma} n_{t}^{\\eta} + w_{t} = 0$ </td>\n",
        "\t\t<td>0.0 </td>\n",
        "</tr>\n",
        "\t<tr>\n",
        "\t\t<td> </td>\n",
        "\t\t<td>$z_{t} = \\rho z_{t-1} + zbar \\left(- \\rho + 1\\right) + e_{z,t}$ </td>\n",
        "\t\t<td>0.0 </td>\n",
        "</tr>\n",
        "\t<tr>\n",
        "\t\t<td> </td>\n",
        "\t\t<td>$k_{t} = i_{t} + k_{t-1} \\left(- \\delta + 1\\right)$ </td>\n",
        "\t\t<td>0.0 </td>\n",
        "</tr>\n",
        "\t<tr>\n",
        "\t\t<td> </td>\n",
        "\t\t<td>$c_{t} = - i_{t} + k_{t-1}^{\\alpha} n_{t}^{- \\alpha + 1} z_{t}$ </td>\n",
        "\t\t<td>0.0 </td>\n",
        "</tr>\n",
        "\t<tr>\n",
        "\t\t<td> </td>\n",
        "\t\t<td>$rk_{t} = \\alpha z_{t} \\left(\\frac{n_{t}}{k_{t-1}}\\right)^{- \\alpha + 1}$ </td>\n",
        "\t\t<td>0.0 </td>\n",
        "</tr>\n",
        "\t<tr>\n",
        "\t\t<td> </td>\n",
        "\t\t<td>$w_{t} = z_{t} \\left(\\frac{k_{t-1}}{n_{t}}\\right)^{\\alpha} \\left(- \\alpha + 1\\right)$ </td>\n",
        "\t\t<td>0.0 </td>\n",
        "</tr>\n",
        "</table>"
       ],
       "output_type": "display_data",
       "text": [
        "\n",
        "Symbolic model\n",
        "--------------\n",
        "\n",
        "Equation blocks:\n",
        "\n",
        "\tdynare_block:\n",
        "\n",
        "\t-  0.00000\t:\t1 == beta*(c/c(1))**sigma*(-delta + rk(1) + 1)\n",
        "\t   0.00000\t:\t-chi*c**sigma*n**eta + w == 0\n",
        "\t   0.00000\t:\tz == rho*z(-1) + zbar*(-rho + 1) + e_z\n",
        "\t   0.00000\t:\tk == i + k(-1)*(-delta + 1)\n",
        "\t   0.00000\t:\tc == -i + k(-1)**alpha*n**(-alpha + 1)*z\n",
        "\t   0.00000\t:\trk == alpha*z*(n/k(-1))**(-alpha + 1)\n",
        "\t   0.00000\t:\tw == z*(k(-1)/n)**alpha*(-alpha + 1)\n"
       ]
      }
     ],
     "prompt_number": 22
    },
    {
     "cell_type": "markdown",
     "metadata": {},
     "source": [
      "In IPython, `display` produces a pretty representation. A text representation with the same information can be printed with the print function"
     ]
    },
    {
     "cell_type": "code",
     "collapsed": false,
     "input": [
      "print(model)"
     ],
     "language": "python",
     "metadata": {},
     "outputs": [
      {
       "output_type": "stream",
       "stream": "stdout",
       "text": [
        "\n",
        "Symbolic model\n",
        "--------------\n",
        "\n",
        "Equation blocks:\n",
        "\n",
        "\tdynare_block:\n",
        "\n",
        "\t-  0.00000\t:\t1 == beta*(c/c(1))**sigma*(-delta + rk(1) + 1)\n",
        "\t   0.00000\t:\t-chi*c**sigma*n**eta + w == 0\n",
        "\t   0.00000\t:\tz == rho*z(-1) + zbar*(-rho + 1) + e_z\n",
        "\t   0.00000\t:\tk == i + k(-1)*(-delta + 1)\n",
        "\t   0.00000\t:\tc == -i + k(-1)**alpha*n**(-alpha + 1)*z\n",
        "\t   0.00000\t:\trk == alpha*z*(n/k(-1))**(-alpha + 1)\n",
        "\t   0.00000\t:\tw == z*(k(-1)/n)**alpha*(-alpha + 1)\n",
        "\n"
       ]
      }
     ],
     "prompt_number": 24
    },
    {
     "cell_type": "markdown",
     "metadata": {},
     "source": [
      "Note that each equation is associated with residuals. If the steady-state values are consistent with the calibration, these residuals should be 0.\n",
      "When, it is impossible to find a closed form solution for the steady-state, approximate values can be entered, but in general it is adviced to enter the exact values."
     ]
    },
    {
     "cell_type": "heading",
     "level": 1,
     "metadata": {},
     "source": [
      "Solving the model"
     ]
    },
    {
     "cell_type": "markdown",
     "metadata": {},
     "source": [
      "An Taylor expansion for the endogenous variables at the steady-state can be obtained with:"
     ]
    },
    {
     "cell_type": "code",
     "collapsed": false,
     "input": [
      "dr = solve_decision_rule( model, order=1 )"
     ],
     "language": "python",
     "metadata": {},
     "outputs": [],
     "prompt_number": 27
    },
    {
     "cell_type": "markdown",
     "metadata": {},
     "source": [
      "The approximated first order decision rule is an AR1 process:\n",
      "\n",
      "$$ \\hat{Y_t} = G_a \\hat{Y_{t-1}} + G_e \\epsilon_t$$\n",
      "\n",
      "where $\\hat{Y_t} = Y_t - \\overline{Y}$.\n",
      "\n",
      "- $Y_t$ is a vector of all endogenous variables, in the declaration order.\n",
      "- $\\epsilon_t$ is the vector of shocks, in the declaration order. They are distributed after $\\Sigma$, the covariance matrix\n",
      "- $G_a$ and $G_e$ are the first order coefficients.\n"
     ]
    },
    {
     "cell_type": "markdown",
     "metadata": {},
     "source": [
      "Let inspect object dr. It contains the following keys:"
     ]
    },
    {
     "cell_type": "code",
     "collapsed": false,
     "input": [
      "dr.keys()"
     ],
     "language": "python",
     "metadata": {},
     "outputs": [
      {
       "output_type": "pyout",
       "prompt_number": 35,
       "text": [
        "['g_e', 'Sigma', 'ys', 'ev', 'g_a']"
       ]
      }
     ],
     "prompt_number": 35
    },
    {
     "cell_type": "code",
     "collapsed": false,
     "input": [
      "display('variables order')\n",
      "display(model.variables)\n",
      "display('Covariance matrix')\n",
      "display(dr['Sigma'])  # covariance matrix\n",
      "display('Steady-state values (ybar):')  # covariance matrix\n",
      "display(dr['ys'])  # covariance matrix\n",
      "display('First order coefficients')\n",
      "display('g_a :')\n",
      "display(dr['g_a'])  # covariance matrix\n",
      "display('g_e :')\n",
      "display(dr['g_e'])  # covariance matrix\n"
     ],
     "language": "python",
     "metadata": {},
     "outputs": [
      {
       "output_type": "display_data",
       "text": [
        "'variables order'"
       ]
      },
      {
       "output_type": "display_data",
       "text": [
        "[z, k, i, n, c, rk, w]"
       ]
      },
      {
       "output_type": "display_data",
       "text": [
        "'Covariance matrix'"
       ]
      },
      {
       "html": [
        "<table>\t<tr>\n",
        "\t\t<td>0.0015 </td>\n",
        "</tr>\n",
        "</table>"
       ],
       "output_type": "display_data",
       "text": [
        "array([[ 0.0015]])"
       ]
      },
      {
       "output_type": "display_data",
       "text": [
        "'Steady-state values (ybar):'"
       ]
      },
      {
       "html": [
        "<table>\t<tr>\n",
        "\t\t<td>1.0000 </td>\n",
        "\t\t<td>9.3550 </td>\n",
        "\t\t<td>0.2339 </td>\n",
        "\t\t<td>0.3300 </td>\n",
        "\t\t<td>0.7612 </td>\n",
        "\t\t<td>0.0351 </td>\n",
        "\t\t<td>2.0203 </td>\n",
        "</tr>\n",
        "</table>"
       ],
       "output_type": "display_data",
       "text": [
        "array([1, 9.35497829014598, 0.233874457253650, 0.33, 0.761183686555881,\n",
        "       0.0351010101010102, 2.02026956470420], dtype=object)"
       ]
      },
      {
       "output_type": "display_data",
       "text": [
        "'First order coefficients'"
       ]
      },
      {
       "output_type": "display_data",
       "text": [
        "'g_a :'"
       ]
      },
      {
       "html": [
        "<table>\t<tr>\n",
        "\t\t<td>0.8000 </td>\n",
        "\t\t<td>0.0000 </td>\n",
        "\t\t<td>0.0000 </td>\n",
        "\t\t<td>0.0000 </td>\n",
        "\t\t<td>0.0000 </td>\n",
        "\t\t<td>0.0000 </td>\n",
        "\t\t<td>0.0000 </td>\n",
        "</tr>\n",
        "\t<tr>\n",
        "\t\t<td>1.0021 </td>\n",
        "\t\t<td>0.9531 </td>\n",
        "\t\t<td>0.0000 </td>\n",
        "\t\t<td>0.0000 </td>\n",
        "\t\t<td>0.0000 </td>\n",
        "\t\t<td>0.0000 </td>\n",
        "\t\t<td>0.0000 </td>\n",
        "</tr>\n",
        "\t<tr>\n",
        "\t\t<td>1.0021 </td>\n",
        "\t\t<td>-0.0219 </td>\n",
        "\t\t<td>-0.0000 </td>\n",
        "\t\t<td>-0.0000 </td>\n",
        "\t\t<td>-0.0000 </td>\n",
        "\t\t<td>-0.0000 </td>\n",
        "\t\t<td>-0.0000 </td>\n",
        "</tr>\n",
        "\t<tr>\n",
        "\t\t<td>0.1602 </td>\n",
        "\t\t<td>-0.0059 </td>\n",
        "\t\t<td>-0.0000 </td>\n",
        "\t\t<td>-0.0000 </td>\n",
        "\t\t<td>-0.0000 </td>\n",
        "\t\t<td>-0.0000 </td>\n",
        "\t\t<td>-0.0000 </td>\n",
        "</tr>\n",
        "\t<tr>\n",
        "\t\t<td>0.1175 </td>\n",
        "\t\t<td>0.0450 </td>\n",
        "\t\t<td>0.0000 </td>\n",
        "\t\t<td>0.0000 </td>\n",
        "\t\t<td>0.0000 </td>\n",
        "\t\t<td>0.0000 </td>\n",
        "\t\t<td>0.0000 </td>\n",
        "</tr>\n",
        "\t<tr>\n",
        "\t\t<td>0.0395 </td>\n",
        "\t\t<td>-0.0029 </td>\n",
        "\t\t<td>-0.0000 </td>\n",
        "\t\t<td>-0.0000 </td>\n",
        "\t\t<td>-0.0000 </td>\n",
        "\t\t<td>-0.0000 </td>\n",
        "\t\t<td>-0.0000 </td>\n",
        "</tr>\n",
        "\t<tr>\n",
        "\t\t<td>1.2926 </td>\n",
        "\t\t<td>0.0832 </td>\n",
        "\t\t<td>-0.0000 </td>\n",
        "\t\t<td>-0.0000 </td>\n",
        "\t\t<td>-0.0000 </td>\n",
        "\t\t<td>-0.0000 </td>\n",
        "\t\t<td>-0.0000 </td>\n",
        "</tr>\n",
        "</table>"
       ],
       "output_type": "display_data",
       "text": [
        "array([[  8.00000000e-01,   1.78224851e-17,   0.00000000e+00,\n",
        "          0.00000000e+00,   0.00000000e+00,   0.00000000e+00,\n",
        "          0.00000000e+00],\n",
        "       [  1.00214668e+00,   9.53146078e-01,   0.00000000e+00,\n",
        "          0.00000000e+00,   0.00000000e+00,   0.00000000e+00,\n",
        "          0.00000000e+00],\n",
        "       [  1.00214668e+00,  -2.18539224e-02,  -0.00000000e+00,\n",
        "         -0.00000000e+00,  -0.00000000e+00,  -0.00000000e+00,\n",
        "         -0.00000000e+00],\n",
        "       [  1.60187858e-01,  -5.91656944e-03,  -0.00000000e+00,\n",
        "         -0.00000000e+00,  -0.00000000e+00,  -0.00000000e+00,\n",
        "         -0.00000000e+00],\n",
        "       [  1.17522492e-01,   4.50018673e-02,   0.00000000e+00,\n",
        "          0.00000000e+00,   0.00000000e+00,   0.00000000e+00,\n",
        "          0.00000000e+00],\n",
        "       [  3.94967058e-02,  -2.93556943e-03,  -0.00000000e+00,\n",
        "         -0.00000000e+00,  -0.00000000e+00,  -0.00000000e+00,\n",
        "         -0.00000000e+00],\n",
        "       [  1.29259300e+00,   8.32187524e-02,  -0.00000000e+00,\n",
        "         -0.00000000e+00,  -0.00000000e+00,  -0.00000000e+00,\n",
        "         -0.00000000e+00]])"
       ]
      },
      {
       "output_type": "display_data",
       "text": [
        "'g_e :'"
       ]
      },
      {
       "html": [
        "<table>\t<tr>\n",
        "\t\t<td>1.0000 </td>\n",
        "</tr>\n",
        "\t<tr>\n",
        "\t\t<td>1.2527 </td>\n",
        "</tr>\n",
        "\t<tr>\n",
        "\t\t<td>1.2527 </td>\n",
        "</tr>\n",
        "\t<tr>\n",
        "\t\t<td>0.2002 </td>\n",
        "</tr>\n",
        "\t<tr>\n",
        "\t\t<td>0.1469 </td>\n",
        "</tr>\n",
        "\t<tr>\n",
        "\t\t<td>0.0494 </td>\n",
        "</tr>\n",
        "\t<tr>\n",
        "\t\t<td>1.6157 </td>\n",
        "</tr>\n",
        "</table>"
       ],
       "output_type": "display_data",
       "text": [
        "array([[ 1.        ],\n",
        "       [ 1.25268335],\n",
        "       [ 1.25268335],\n",
        "       [ 0.20023482],\n",
        "       [ 0.14690312],\n",
        "       [ 0.04937088],\n",
        "       [ 1.61574125]])"
       ]
      }
     ],
     "prompt_number": 48
    },
    {
     "cell_type": "heading",
     "level": 2,
     "metadata": {},
     "source": [
      "More information about the solution:"
     ]
    },
    {
     "cell_type": "markdown",
     "metadata": {},
     "source": [
      "The model can be represented in an abstract way as a function $f$, a vector of endogenous variables $y_t$ and shocks $\\epsilon_t$ satisfying:\n",
      "\n",
      "$$E_t \\left[ f \\left( a_{t+1}, a_t, a_{t-1}, \\epsilon_t \\right) \\right] = 0 $$\n",
      "\n",
      "The solution of this system is assumed to be in the form $a_t = g\\left( a_{t-1}, \\epsilon_t \\right)$\n",
      "\n",
      "The talyon expansion computes the derivatives of $g$ using a variant of the Implicit Function Theorem.\n",
      "\n",
      "It is easy to show that at the steady-state, $g_a$ is the solution of a second order matrix equation:\n",
      "\n",
      "$$A {X}^2 + B X + C = 0$$\n",
      "\n",
      "In general, such an equation admits several solutions (even in the scalar case). \n",
      "The Blanchard-Kahn conditions ensure that there one and only one converging solution, where the eigenvalues of X are all smaller than 1.\n",
      "\n"
     ]
    },
    {
     "cell_type": "code",
     "collapsed": false,
     "input": [
      "print(dr['ys']) # a vector of values at the steady-state"
     ],
     "language": "python",
     "metadata": {},
     "outputs": [
      {
       "output_type": "stream",
       "stream": "stdout",
       "text": [
        "[1 9.35497829014598 0.233874457253650 0.33 0.761183686555881\n",
        " 0.0351010101010102 2.02026956470420]\n"
       ]
      }
     ],
     "prompt_number": 34
    },
    {
     "cell_type": "code",
     "collapsed": false,
     "input": [],
     "language": "python",
     "metadata": {},
     "outputs": []
    },
    {
     "cell_type": "code",
     "collapsed": false,
     "input": [
      "stoch_simul( dr, variables='c' )"
     ],
     "language": "python",
     "metadata": {},
     "outputs": [
      {
       "output_type": "display_data",
       "png": "[encoded data removed]"
      },
      {
       "html": [
        "<table>\t<tr>\n",
        "\t\t<td>0.0000 </td>\n",
        "\t\t<td>-0.0060 </td>\n",
        "\t\t<td>-0.0107 </td>\n",
        "\t\t<td>-0.0185 </td>\n",
        "\t\t<td>-0.0128 </td>\n",
        "\t\t<td>-0.0099 </td>\n",
        "\t\t<td>-0.0054 </td>\n",
        "\t\t<td>-0.0069 </td>\n",
        "\t\t<td>-0.0057 </td>\n",
        "\t\t<td>-0.0088 </td>\n",
        "\t\t<td>-0.0103 </td>\n",
        "\t\t<td>-0.0183 </td>\n",
        "\t\t<td>-0.0166 </td>\n",
        "\t\t<td>-0.0125 </td>\n",
        "\t\t<td>-0.0194 </td>\n",
        "\t\t<td>-0.0195 </td>\n",
        "\t\t<td>-0.0211 </td>\n",
        "\t\t<td>-0.0181 </td>\n",
        "\t\t<td>-0.0157 </td>\n",
        "\t\t<td>-0.0075 </td>\n",
        "\t\t<td>-0.0110 </td>\n",
        "\t\t<td>-0.0246 </td>\n",
        "\t\t<td>-0.0357 </td>\n",
        "\t\t<td>-0.0320 </td>\n",
        "\t\t<td>-0.0430 </td>\n",
        "\t\t<td>-0.0336 </td>\n",
        "\t\t<td>-0.0310 </td>\n",
        "\t\t<td>-0.0245 </td>\n",
        "\t\t<td>-0.0175 </td>\n",
        "\t\t<td>-0.0270 </td>\n",
        "\t\t<td>-0.0222 </td>\n",
        "\t\t<td>-0.0269 </td>\n",
        "\t\t<td>-0.0214 </td>\n",
        "\t\t<td>-0.0152 </td>\n",
        "\t\t<td>-0.0186 </td>\n",
        "\t\t<td>-0.0199 </td>\n",
        "\t\t<td>-0.0212 </td>\n",
        "\t\t<td>-0.0198 </td>\n",
        "\t\t<td>-0.0196 </td>\n",
        "\t\t<td>-0.0239 </td>\n",
        "\t\t<td>-0.0182 </td>\n",
        "</tr>\n",
        "</table>"
       ],
       "output_type": "pyout",
       "prompt_number": 8,
       "text": [
        "array([[0, -0.00595765394410730, -0.0107393467955202, -0.0184939478681525,\n",
        "        -0.0128047239963578, -0.00987150397585945, -0.00536267879175467,\n",
        "        -0.00689249611592724, -0.00572190741884204, -0.00880035461625328,\n",
        "        -0.0103494287467932, -0.0183372668037892, -0.0165845638394728,\n",
        "        -0.0124595760727204, -0.0194022743997819, -0.0194526660021401,\n",
        "        -0.0210961535020484, -0.0181159849783399, -0.0157490692446218,\n",
        "        -0.00746787366845070, -0.0110488526474780, -0.0246412430628405,\n",
        "        -0.0356576223216377, -0.0320289687070053, -0.0430001160618027,\n",
        "        -0.0335532974552516, -0.0309644780598881, -0.0244526093997554,\n",
        "        -0.0175381224584463, -0.0270308361516785, -0.0222455080147047,\n",
        "        -0.0268849622821821, -0.0213647922645418, -0.0152368560551892,\n",
        "        -0.0185921840139917, -0.0199322017930065, -0.0211916168656536,\n",
        "        -0.0197590779652158, -0.0196273648733343, -0.0238854454530264,\n",
        "        -0.0182436406601976]], dtype=object)"
       ]
      }
     ],
     "prompt_number": 8
    },
    {
     "cell_type": "markdown",
     "metadata": {},
     "source": [
      "# Change parameters at runtime"
     ]
    },
    {
     "cell_type": "code",
     "collapsed": false,
     "input": [
      "model.set_calibration({'beta':0.9})\n",
      "drr = solve_decision_rule(model)"
     ],
     "language": "python",
     "metadata": {},
     "outputs": [],
     "prompt_number": 12
    },
    {
     "cell_type": "code",
     "collapsed": false,
     "input": [
      "drr"
     ],
     "language": "python",
     "metadata": {},
     "outputs": [
      {
       "output_type": "pyout",
       "prompt_number": 13,
       "text": [
        "{'Sigma': array([[ 0.0015]]),\n",
        " 'ev': array([ 0.       ,  0.       ,  0.       ,  0.       ,  0.       ,\n",
        "        0.8      ,  0.8519415]),\n",
        " 'g_a': array([[  8.00000000e-01,   1.79553728e-17,   0.00000000e+00,\n",
        "          0.00000000e+00,   0.00000000e+00,   0.00000000e+00,\n",
        "          0.00000000e+00],\n",
        "       [  3.35024192e-01,   8.51941498e-01,   0.00000000e+00,\n",
        "          0.00000000e+00,   0.00000000e+00,   0.00000000e+00,\n",
        "          0.00000000e+00],\n",
        "       [  3.35024192e-01,  -1.23058502e-01,  -0.00000000e+00,\n",
        "         -0.00000000e+00,  -0.00000000e+00,  -0.00000000e+00,\n",
        "         -0.00000000e+00],\n",
        "       [  1.04505995e-01,  -4.42273287e-02,   0.00000000e+00,\n",
        "          0.00000000e+00,   0.00000000e+00,   0.00000000e+00,\n",
        "          0.00000000e+00],\n",
        "       [  1.81643223e-01,   2.13333752e-01,  -0.00000000e+00,\n",
        "         -0.00000000e+00,  -0.00000000e+00,  -0.00000000e+00,\n",
        "         -0.00000000e+00],\n",
        "       [  1.37768786e-01,  -8.59096453e-02,  -0.00000000e+00,\n",
        "         -0.00000000e+00,  -0.00000000e+00,  -0.00000000e+00,\n",
        "         -0.00000000e+00],\n",
        "       [  7.20788871e-01,   3.22182662e-01,   0.00000000e+00,\n",
        "          0.00000000e+00,   0.00000000e+00,   0.00000000e+00,\n",
        "          0.00000000e+00]]),\n",
        " 'g_aa': array([[[  1.88299965e-18,   2.71522058e-17,   0.00000000e+00,\n",
        "           0.00000000e+00,   0.00000000e+00,   0.00000000e+00,\n",
        "           0.00000000e+00],\n",
        "        [  2.71522058e-17,  -4.18695465e-17,   0.00000000e+00,\n",
        "           0.00000000e+00,   0.00000000e+00,   0.00000000e+00,\n",
        "           0.00000000e+00],\n",
        "        [  0.00000000e+00,   0.00000000e+00,   0.00000000e+00,\n",
        "           0.00000000e+00,   0.00000000e+00,   0.00000000e+00,\n",
        "           0.00000000e+00],\n",
        "        [  0.00000000e+00,   0.00000000e+00,   0.00000000e+00,\n",
        "           0.00000000e+00,   0.00000000e+00,   0.00000000e+00,\n",
        "           0.00000000e+00],\n",
        "        [  0.00000000e+00,   0.00000000e+00,   0.00000000e+00,\n",
        "           0.00000000e+00,   0.00000000e+00,   0.00000000e+00,\n",
        "           0.00000000e+00],\n",
        "        [  0.00000000e+00,   0.00000000e+00,   0.00000000e+00,\n",
        "           0.00000000e+00,   0.00000000e+00,   0.00000000e+00,\n",
        "           0.00000000e+00],\n",
        "        [  0.00000000e+00,   0.00000000e+00,   0.00000000e+00,\n",
        "           0.00000000e+00,   0.00000000e+00,   0.00000000e+00,\n",
        "           0.00000000e+00]],\n",
        "\n",
        "       [[  4.50003969e-02,   8.20267503e-02,   0.00000000e+00,\n",
        "           0.00000000e+00,   0.00000000e+00,   0.00000000e+00,\n",
        "           0.00000000e+00],\n",
        "        [  8.20267503e-02,  -1.89098297e-02,   0.00000000e+00,\n",
        "           0.00000000e+00,   0.00000000e+00,   0.00000000e+00,\n",
        "           0.00000000e+00],\n",
        "        [  0.00000000e+00,   0.00000000e+00,   0.00000000e+00,\n",
        "           0.00000000e+00,   0.00000000e+00,   0.00000000e+00,\n",
        "           0.00000000e+00],\n",
        "        [  0.00000000e+00,   0.00000000e+00,   0.00000000e+00,\n",
        "           0.00000000e+00,   0.00000000e+00,   0.00000000e+00,\n",
        "           0.00000000e+00],\n",
        "        [  0.00000000e+00,   0.00000000e+00,   0.00000000e+00,\n",
        "           0.00000000e+00,   0.00000000e+00,   0.00000000e+00,\n",
        "           0.00000000e+00],\n",
        "        [  0.00000000e+00,   0.00000000e+00,   0.00000000e+00,\n",
        "           0.00000000e+00,   0.00000000e+00,   0.00000000e+00,\n",
        "           0.00000000e+00],\n",
        "        [  0.00000000e+00,   0.00000000e+00,   0.00000000e+00,\n",
        "           0.00000000e+00,   0.00000000e+00,   0.00000000e+00,\n",
        "           0.00000000e+00]],\n",
        "\n",
        "       [[  4.50003969e-02,   8.20267503e-02,   0.00000000e+00,\n",
        "           0.00000000e+00,   0.00000000e+00,   0.00000000e+00,\n",
        "           0.00000000e+00],\n",
        "        [  8.20267503e-02,  -1.89098297e-02,   0.00000000e+00,\n",
        "           0.00000000e+00,   0.00000000e+00,   0.00000000e+00,\n",
        "           0.00000000e+00],\n",
        "        [  0.00000000e+00,   0.00000000e+00,   0.00000000e+00,\n",
        "           0.00000000e+00,   0.00000000e+00,   0.00000000e+00,\n",
        "           0.00000000e+00],\n",
        "        [  0.00000000e+00,   0.00000000e+00,   0.00000000e+00,\n",
        "           0.00000000e+00,   0.00000000e+00,   0.00000000e+00,\n",
        "           0.00000000e+00],\n",
        "        [  0.00000000e+00,   0.00000000e+00,   0.00000000e+00,\n",
        "           0.00000000e+00,   0.00000000e+00,   0.00000000e+00,\n",
        "           0.00000000e+00],\n",
        "        [  0.00000000e+00,   0.00000000e+00,   0.00000000e+00,\n",
        "           0.00000000e+00,   0.00000000e+00,   0.00000000e+00,\n",
        "           0.00000000e+00],\n",
        "        [  0.00000000e+00,   0.00000000e+00,   0.00000000e+00,\n",
        "           0.00000000e+00,   0.00000000e+00,   0.00000000e+00,\n",
        "           0.00000000e+00]],\n",
        "\n",
        "       [[ -9.80453964e-02,   1.00646607e-02,   0.00000000e+00,\n",
        "           0.00000000e+00,   0.00000000e+00,   0.00000000e+00,\n",
        "           0.00000000e+00],\n",
        "        [  1.00646607e-02,   2.83942477e-02,   0.00000000e+00,\n",
        "           0.00000000e+00,   0.00000000e+00,   0.00000000e+00,\n",
        "           0.00000000e+00],\n",
        "        [  0.00000000e+00,   0.00000000e+00,   0.00000000e+00,\n",
        "           0.00000000e+00,   0.00000000e+00,   0.00000000e+00,\n",
        "           0.00000000e+00],\n",
        "        [  0.00000000e+00,   0.00000000e+00,   0.00000000e+00,\n",
        "           0.00000000e+00,   0.00000000e+00,   0.00000000e+00,\n",
        "           0.00000000e+00],\n",
        "        [  0.00000000e+00,   0.00000000e+00,   0.00000000e+00,\n",
        "           0.00000000e+00,   0.00000000e+00,   0.00000000e+00,\n",
        "           0.00000000e+00],\n",
        "        [  0.00000000e+00,   0.00000000e+00,   0.00000000e+00,\n",
        "           0.00000000e+00,   0.00000000e+00,   0.00000000e+00,\n",
        "           0.00000000e+00],\n",
        "        [  0.00000000e+00,   0.00000000e+00,   0.00000000e+00,\n",
        "           0.00000000e+00,   0.00000000e+00,   0.00000000e+00,\n",
        "           0.00000000e+00]],\n",
        "\n",
        "       [[  1.53605616e-02,   3.42941785e-02,   0.00000000e+00,\n",
        "           0.00000000e+00,   0.00000000e+00,   0.00000000e+00,\n",
        "           0.00000000e+00],\n",
        "        [  3.42941785e-02,  -5.18221578e-02,   0.00000000e+00,\n",
        "           0.00000000e+00,   0.00000000e+00,   0.00000000e+00,\n",
        "           0.00000000e+00],\n",
        "        [  0.00000000e+00,   0.00000000e+00,   0.00000000e+00,\n",
        "           0.00000000e+00,   0.00000000e+00,   0.00000000e+00,\n",
        "           0.00000000e+00],\n",
        "        [  0.00000000e+00,   0.00000000e+00,   0.00000000e+00,\n",
        "           0.00000000e+00,   0.00000000e+00,   0.00000000e+00,\n",
        "           0.00000000e+00],\n",
        "        [  0.00000000e+00,   0.00000000e+00,   0.00000000e+00,\n",
        "           0.00000000e+00,   0.00000000e+00,   0.00000000e+00,\n",
        "           0.00000000e+00],\n",
        "        [  0.00000000e+00,   0.00000000e+00,   0.00000000e+00,\n",
        "           0.00000000e+00,   0.00000000e+00,   0.00000000e+00,\n",
        "           0.00000000e+00],\n",
        "        [  0.00000000e+00,   0.00000000e+00,   0.00000000e+00,\n",
        "           0.00000000e+00,   0.00000000e+00,   0.00000000e+00,\n",
        "           0.00000000e+00]],\n",
        "\n",
        "       [[  1.60951818e-02,  -8.03040406e-02,   0.00000000e+00,\n",
        "           0.00000000e+00,   0.00000000e+00,   0.00000000e+00,\n",
        "           0.00000000e+00],\n",
        "        [ -8.03040406e-02,   1.19974004e-01,   0.00000000e+00,\n",
        "           0.00000000e+00,   0.00000000e+00,   0.00000000e+00,\n",
        "           0.00000000e+00],\n",
        "        [  0.00000000e+00,   0.00000000e+00,   0.00000000e+00,\n",
        "           0.00000000e+00,   0.00000000e+00,   0.00000000e+00,\n",
        "           0.00000000e+00],\n",
        "        [  0.00000000e+00,   0.00000000e+00,   0.00000000e+00,\n",
        "           0.00000000e+00,   0.00000000e+00,   0.00000000e+00,\n",
        "           0.00000000e+00],\n",
        "        [  0.00000000e+00,   0.00000000e+00,   0.00000000e+00,\n",
        "           0.00000000e+00,   0.00000000e+00,   0.00000000e+00,\n",
        "           0.00000000e+00],\n",
        "        [  0.00000000e+00,   0.00000000e+00,   0.00000000e+00,\n",
        "           0.00000000e+00,   0.00000000e+00,   0.00000000e+00,\n",
        "           0.00000000e+00],\n",
        "        [  0.00000000e+00,   0.00000000e+00,   0.00000000e+00,\n",
        "           0.00000000e+00,   0.00000000e+00,   0.00000000e+00,\n",
        "           0.00000000e+00]],\n",
        "\n",
        "       [[ -2.60618247e-02,   1.99129879e-01,   0.00000000e+00,\n",
        "           0.00000000e+00,   0.00000000e+00,   0.00000000e+00,\n",
        "           0.00000000e+00],\n",
        "        [  1.99129879e-01,  -1.46420639e-01,   0.00000000e+00,\n",
        "           0.00000000e+00,   0.00000000e+00,   0.00000000e+00,\n",
        "           0.00000000e+00],\n",
        "        [  0.00000000e+00,   0.00000000e+00,   0.00000000e+00,\n",
        "           0.00000000e+00,   0.00000000e+00,   0.00000000e+00,\n",
        "           0.00000000e+00],\n",
        "        [  0.00000000e+00,   0.00000000e+00,   0.00000000e+00,\n",
        "           0.00000000e+00,   0.00000000e+00,   0.00000000e+00,\n",
        "           0.00000000e+00],\n",
        "        [  0.00000000e+00,   0.00000000e+00,   0.00000000e+00,\n",
        "           0.00000000e+00,   0.00000000e+00,   0.00000000e+00,\n",
        "           0.00000000e+00],\n",
        "        [  0.00000000e+00,   0.00000000e+00,   0.00000000e+00,\n",
        "           0.00000000e+00,   0.00000000e+00,   0.00000000e+00,\n",
        "           0.00000000e+00],\n",
        "        [  0.00000000e+00,   0.00000000e+00,   0.00000000e+00,\n",
        "           0.00000000e+00,   0.00000000e+00,   0.00000000e+00,\n",
        "           0.00000000e+00]]]),\n",
        " 'g_ae': array([[[  1.14274391e-18],\n",
        "        [  3.84091093e-18],\n",
        "        [ -0.00000000e+00],\n",
        "        [ -0.00000000e+00],\n",
        "        [ -0.00000000e+00],\n",
        "        [ -0.00000000e+00],\n",
        "        [ -0.00000000e+00]],\n",
        "\n",
        "       [[  5.62504961e-02],\n",
        "        [  1.02533438e-01],\n",
        "        [ -0.00000000e+00],\n",
        "        [ -0.00000000e+00],\n",
        "        [ -0.00000000e+00],\n",
        "        [ -0.00000000e+00],\n",
        "        [ -0.00000000e+00]],\n",
        "\n",
        "       [[  5.62504961e-02],\n",
        "        [  1.02533438e-01],\n",
        "        [ -0.00000000e+00],\n",
        "        [ -0.00000000e+00],\n",
        "        [ -0.00000000e+00],\n",
        "        [ -0.00000000e+00],\n",
        "        [ -0.00000000e+00]],\n",
        "\n",
        "       [[ -1.22556746e-01],\n",
        "        [  1.25808259e-02],\n",
        "        [ -0.00000000e+00],\n",
        "        [ -0.00000000e+00],\n",
        "        [ -0.00000000e+00],\n",
        "        [ -0.00000000e+00],\n",
        "        [ -0.00000000e+00]],\n",
        "\n",
        "       [[  1.92007020e-02],\n",
        "        [  4.28677231e-02],\n",
        "        [ -0.00000000e+00],\n",
        "        [ -0.00000000e+00],\n",
        "        [ -0.00000000e+00],\n",
        "        [ -0.00000000e+00],\n",
        "        [ -0.00000000e+00]],\n",
        "\n",
        "       [[  2.01189773e-02],\n",
        "        [ -1.00380051e-01],\n",
        "        [ -0.00000000e+00],\n",
        "        [ -0.00000000e+00],\n",
        "        [ -0.00000000e+00],\n",
        "        [ -0.00000000e+00],\n",
        "        [ -0.00000000e+00]],\n",
        "\n",
        "       [[ -3.25772809e-02],\n",
        "        [  2.48912349e-01],\n",
        "        [ -0.00000000e+00],\n",
        "        [ -0.00000000e+00],\n",
        "        [ -0.00000000e+00],\n",
        "        [ -0.00000000e+00],\n",
        "        [ -0.00000000e+00]]]),\n",
        " 'g_e': array([[ 1.        ],\n",
        "       [ 0.41878024],\n",
        "       [ 0.41878024],\n",
        "       [ 0.13063249],\n",
        "       [ 0.22705403],\n",
        "       [ 0.17221098],\n",
        "       [ 0.90098609]]),\n",
        " 'g_ee': array([[[  1.42842989e-18]],\n",
        "\n",
        "       [[  7.03131201e-02]],\n",
        "\n",
        "       [[  7.03131201e-02]],\n",
        "\n",
        "       [[ -1.53195932e-01]],\n",
        "\n",
        "       [[  2.40008775e-02]],\n",
        "\n",
        "       [[  2.51487216e-02]],\n",
        "\n",
        "       [[ -4.07216011e-02]]]),\n",
        " 'g_ss': array([ -4.40655357e-20,   9.38182899e-04,   9.38182899e-04,\n",
        "         3.15998758e-04,  -6.10691381e-04,   8.73252460e-05,\n",
        "        -3.27491519e-04]),\n",
        " 'ys': array([1, 1.23758255698776, 0.0309395639246939, 0.33, 0.479511154024802,\n",
        "       0.136111111111111, 1.03636963947322], dtype=object)}"
       ]
      }
     ],
     "prompt_number": 13
    },
    {
     "cell_type": "code",
     "collapsed": false,
     "input": [],
     "language": "python",
     "metadata": {},
     "outputs": [],
     "prompt_number": 7
    },
    {
     "cell_type": "code",
     "collapsed": false,
     "input": [],
     "language": "python",
     "metadata": {},
     "outputs": []
    }
   ],
   "metadata": {}
  }
 ]
}